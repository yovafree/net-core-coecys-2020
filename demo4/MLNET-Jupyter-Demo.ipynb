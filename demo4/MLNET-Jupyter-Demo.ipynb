{
 "cells": [
  {
   "cell_type": "markdown",
   "metadata": {},
   "source": [
    "# Using ML.NET and XPlot in Jupyter notebooks\n",
    "## Scenario: Regression model for Taxi fares\n",
    "\n",
    "Regression is a ML task type of supervised machine learning algorithms. \n",
    "A regression ML model predicts continuous value outputs (such as numbers). \n",
    "For instance, predicting the fare of a Taxi trip or predicting the price of a car is a regression problem."
   ]
  },
  {
   "cell_type": "markdown",
   "metadata": {},
   "source": [
    "# Install the NuGet packages you use in the notebook"
   ]
  },
  {
   "cell_type": "code",
   "execution_count": 1,
   "metadata": {},
   "outputs": [
    {
     "data": {
      "text/html": [
       "\r\n",
       "<div>\r\n",
       "    <div id='dotnet-interactive-this-cell-15568.fe0acac472a94f79b4e21f5b66453150' style='display: none'>\r\n",
       "        The below script needs to be able to find the current output cell; this is an easy method to get it.\r\n",
       "    </div>\r\n",
       "    <script type='text/javascript'>\r\n",
       "// ensure `require` is available globally\r\n",
       "if (typeof require !== typeof Function || typeof require.config !== typeof Function) {\r\n",
       "    let require_script = document.createElement('script');\r\n",
       "    require_script.setAttribute('src', 'https://cdnjs.cloudflare.com/ajax/libs/require.js/2.3.6/require.min.js');\r\n",
       "    require_script.setAttribute('type', 'text/javascript');\r\n",
       "    require_script.onload = function () {\r\n",
       "        loadDotnetInteractiveApi();\r\n",
       "    };\r\n",
       "\r\n",
       "    document.getElementsByTagName('head')[0].appendChild(require_script);\r\n",
       "}\r\n",
       "else {\r\n",
       "    loadDotnetInteractiveApi();\r\n",
       "}\r\n",
       "\r\n",
       "async function probeAddresses(probingAddresses) {\r\n",
       "    function timeout(ms, promise) {\r\n",
       "        return new Promise(function (resolve, reject) {\r\n",
       "            setTimeout(function () {\r\n",
       "                reject(new Error('timeout'))\r\n",
       "            }, ms)\r\n",
       "            promise.then(resolve, reject)\r\n",
       "        })\r\n",
       "    }\r\n",
       "\r\n",
       "    if (Array.isArray(probingAddresses)) {\r\n",
       "        for (let i = 0; i < probingAddresses.length; i++) {\r\n",
       "\r\n",
       "            let rootUrl = probingAddresses[i];\r\n",
       "\r\n",
       "            if (!rootUrl.endsWith('/')) {\r\n",
       "                rootUrl = `${rootUrl}/`;\r\n",
       "            }\r\n",
       "\r\n",
       "            try {\r\n",
       "                let response = await timeout(1000, fetch(`${rootUrl}discovery`, {\r\n",
       "                    method: 'POST',\r\n",
       "                    cache: 'no-cache',\r\n",
       "                    mode: 'cors',\r\n",
       "                    timeout: 1000,\r\n",
       "                    headers: {\r\n",
       "                        'Content-Type': 'text/plain'\r\n",
       "                    },\r\n",
       "                    body: probingAddresses[i]\r\n",
       "                }));\r\n",
       "\r\n",
       "                if (response.status == 200) {\r\n",
       "                    return rootUrl;\r\n",
       "                }\r\n",
       "            }\r\n",
       "            catch (e) { }\r\n",
       "        }\r\n",
       "    }\r\n",
       "}\r\n",
       "\r\n",
       "function loadDotnetInteractiveApi() {\r\n",
       "    probeAddresses([\"http://192.168.0.2:1000/\", \"http://172.18.45.65:1000/\", \"http://127.0.0.1:1000/\"])\r\n",
       "        .then((root) => {\r\n",
       "            // use probing to find host url and api resources\r\n",
       "            // load interactive helpers and language services\r\n",
       "            let dotnetInteractiveRequire = require.config({\r\n",
       "                context: '15568.fe0acac472a94f79b4e21f5b66453150',\r\n",
       "                paths: {\r\n",
       "                    'dotnet-interactive': `${root}resources`\r\n",
       "                }\r\n",
       "            }) || require;\r\n",
       "\r\n",
       "            let dotnetInteractiveExtensionsRequire = require.config({\r\n",
       "                context: '15568.fe0acac472a94f79b4e21f5b66453150',\r\n",
       "                paths: {\r\n",
       "                    'dotnet-interactive-extensions': `${root}extensions`\r\n",
       "                }\r\n",
       "            }) || require;\r\n",
       "\r\n",
       "            if (!window.dotnetInteractiveRequire) {\r\n",
       "                window.dotnetInteractiveRequire = dotnetInteractiveRequire;\r\n",
       "            }\r\n",
       "\r\n",
       "            if (!window.dotnetInteractiveExtensionsRequire) {\r\n",
       "                window.dotnetInteractiveExtensionsRequire = dotnetInteractiveExtensionsRequire;\r\n",
       "            }\r\n",
       "\r\n",
       "            window.getExtensionRequire = function(extensionName, extensionCacheBuster) {\r\n",
       "                let paths = {};\r\n",
       "                paths[extensionName] = `${root}extensions/${extensionName}/resources/`;\r\n",
       "                \r\n",
       "                let internalRequire = require.config({\r\n",
       "                    context: extensionCacheBuster,\r\n",
       "                    paths: paths,\r\n",
       "                    urlArgs: `cacheBuster=${extensionCacheBuster}`\r\n",
       "                    }) || require;\r\n",
       "\r\n",
       "                return internalRequire\r\n",
       "            };\r\n",
       "        \r\n",
       "            dotnetInteractiveRequire([\r\n",
       "                    'dotnet-interactive/dotnet-interactive'\r\n",
       "                ],\r\n",
       "                function (dotnet) {\r\n",
       "                    dotnet.init(window);\r\n",
       "                },\r\n",
       "                function (error) {\r\n",
       "                    console.log(error);\r\n",
       "                }\r\n",
       "            );\r\n",
       "        })\r\n",
       "        .catch(error => {console.log(error);});\r\n",
       "    }\r\n",
       "    </script>\r\n",
       "</div>"
      ]
     },
     "metadata": {},
     "output_type": "display_data"
    },
    {
     "data": {
      "text/plain": [
       "Installed package XPlot.Plotly version 2.0.0"
      ]
     },
     "metadata": {},
     "output_type": "display_data"
    },
    {
     "data": {
      "text/plain": [
       "Installed package Microsoft.ML version 1.4.0"
      ]
     },
     "metadata": {},
     "output_type": "display_data"
    }
   ],
   "source": [
    "// ML.NET Nuget packages installation\n",
    "#r \"nuget:Microsoft.ML,1.4.0\"\n",
    "    \n",
    "//Install XPlot package\n",
    "#r \"nuget:XPlot.Plotly,2.0.0\"\n",
    "\n",
    "using Microsoft.ML;\n",
    "using Microsoft.ML.Data;\n",
    "using XPlot.Plotly;"
   ]
  },
  {
   "cell_type": "markdown",
   "metadata": {},
   "source": [
    "# Declare data-classes for input data and predictions"
   ]
  },
  {
   "cell_type": "code",
   "execution_count": 2,
   "metadata": {},
   "outputs": [
    {
     "data": {
      "text/html": [
       "<h4>Declaring data-classes to use across the code in this notebook.</h4>"
      ]
     },
     "metadata": {},
     "output_type": "display_data"
    },
    {
     "name": "stderr",
     "output_type": "stream",
     "text": [
      "\r\n",
      "(18,18): warning CS0649: El campo 'TaxiTrip.TripDistance' nunca se asigna y siempre tendrá el valor predeterminado 0\r\n",
      "\r\n",
      "(15,18): warning CS0649: El campo 'TaxiTrip.TripTime' nunca se asigna y siempre tendrá el valor predeterminado 0\r\n",
      "\r\n",
      "(24,18): warning CS0649: El campo 'TaxiTrip.FareAmount' nunca se asigna y siempre tendrá el valor predeterminado 0\r\n",
      "\r\n",
      "(9,19): warning CS0649: El campo 'TaxiTrip.RateCode' nunca se asigna y siempre tendrá el valor predeterminado null\r\n",
      "\r\n",
      "(30,18): warning CS0649: El campo 'TaxiTripFarePrediction.Score' nunca se asigna y siempre tendrá el valor predeterminado 0\r\n",
      "\r\n",
      "(12,18): warning CS0649: El campo 'TaxiTrip.PassengerCount' nunca se asigna y siempre tendrá el valor predeterminado 0\r\n",
      "\r\n",
      "(21,19): warning CS0649: El campo 'TaxiTrip.PaymentType' nunca se asigna y siempre tendrá el valor predeterminado null\r\n",
      "\r\n",
      "(6,19): warning CS0649: El campo 'TaxiTrip.VendorId' nunca se asigna y siempre tendrá el valor predeterminado null\r\n",
      "\r\n"
     ]
    }
   ],
   "source": [
    "display(h4(\"Declaring data-classes to use across the code in this notebook.\"));\n",
    "\n",
    "public class TaxiTrip\n",
    "{\n",
    "    [LoadColumn(0)]\n",
    "    public string VendorId;\n",
    "\n",
    "    [LoadColumn(1)]\n",
    "    public string RateCode;\n",
    "\n",
    "    [LoadColumn(2)]\n",
    "    public float PassengerCount;\n",
    "\n",
    "    [LoadColumn(3)]\n",
    "    public float TripTime;\n",
    "\n",
    "    [LoadColumn(4)]\n",
    "    public float TripDistance;\n",
    "\n",
    "    [LoadColumn(5)]\n",
    "    public string PaymentType;\n",
    "\n",
    "    [LoadColumn(6)]\n",
    "    public float FareAmount;\n",
    "}\n",
    "\n",
    "public class TaxiTripFarePrediction\n",
    "{\n",
    "    [ColumnName(\"Score\")]\n",
    "    public float Score;\n",
    "}"
   ]
  },
  {
   "cell_type": "markdown",
   "metadata": {},
   "source": [
    "# Load datasets into IDataView and display the schema "
   ]
  },
  {
   "cell_type": "code",
   "execution_count": 3,
   "metadata": {},
   "outputs": [
    {
     "data": {
      "text/html": [
       "<h1>Code for loading the data into IDataViews: training dataset and test dataset</h1>"
      ]
     },
     "metadata": {},
     "output_type": "display_data"
    },
    {
     "data": {
      "text/html": [
       "<h4>Schema of training DataView:</h4>"
      ]
     },
     "metadata": {},
     "output_type": "display_data"
    },
    {
     "data": {
      "text/html": [
       "<table><thead><tr><th><i>index</i></th><th>Name</th><th>Index</th><th>IsHidden</th><th>Type</th><th>Annotations</th></tr></thead><tbody><tr><td>0</td><td><div class=\"dni-plaintext\">VendorId</div></td><td><div class=\"dni-plaintext\">0</div></td><td><div class=\"dni-plaintext\">False</div></td><td><div class=\"dni-plaintext\">String</div></td><td></td></tr><tr><td>1</td><td><div class=\"dni-plaintext\">RateCode</div></td><td><div class=\"dni-plaintext\">1</div></td><td><div class=\"dni-plaintext\">False</div></td><td><div class=\"dni-plaintext\">String</div></td><td></td></tr><tr><td>2</td><td><div class=\"dni-plaintext\">PassengerCount</div></td><td><div class=\"dni-plaintext\">2</div></td><td><div class=\"dni-plaintext\">False</div></td><td><div class=\"dni-plaintext\">Single</div></td><td></td></tr><tr><td>3</td><td><div class=\"dni-plaintext\">TripTime</div></td><td><div class=\"dni-plaintext\">3</div></td><td><div class=\"dni-plaintext\">False</div></td><td><div class=\"dni-plaintext\">Single</div></td><td></td></tr><tr><td>4</td><td><div class=\"dni-plaintext\">TripDistance</div></td><td><div class=\"dni-plaintext\">4</div></td><td><div class=\"dni-plaintext\">False</div></td><td><div class=\"dni-plaintext\">Single</div></td><td></td></tr><tr><td>5</td><td><div class=\"dni-plaintext\">PaymentType</div></td><td><div class=\"dni-plaintext\">5</div></td><td><div class=\"dni-plaintext\">False</div></td><td><div class=\"dni-plaintext\">String</div></td><td></td></tr><tr><td>6</td><td><div class=\"dni-plaintext\">FareAmount</div></td><td><div class=\"dni-plaintext\">6</div></td><td><div class=\"dni-plaintext\">False</div></td><td><div class=\"dni-plaintext\">Single</div></td><td></td></tr></tbody></table>"
      ]
     },
     "metadata": {},
     "output_type": "display_data"
    }
   ],
   "source": [
    "display(h1(\"Code for loading the data into IDataViews: training dataset and test dataset\"));\n",
    "\n",
    "MLContext mlContext = new MLContext(seed: 0);\n",
    "\n",
    "string TrainDataPath = \"./taxi-fare-train.csv\";\n",
    "string TestDataPath = \"./taxi-fare-test.csv\";\n",
    "\n",
    "IDataView trainDataView = mlContext.Data.LoadFromTextFile<TaxiTrip>(TrainDataPath, hasHeader: true, separatorChar: ',');\n",
    "IDataView testDataView = mlContext.Data.LoadFromTextFile<TaxiTrip>(TestDataPath, hasHeader: true, separatorChar: ',');\n",
    "\n",
    "display(h4(\"Schema of training DataView:\"));\n",
    "display(trainDataView.Schema);\n"
   ]
  },
  {
   "cell_type": "markdown",
   "metadata": {},
   "source": [
    "## Show a few rows of loaded data "
   ]
  },
  {
   "cell_type": "code",
   "execution_count": 4,
   "metadata": {},
   "outputs": [
    {
     "data": {
      "text/html": [
       "<h4>Showing a few rows from training DataView:</h4>"
      ]
     },
     "metadata": {},
     "output_type": "display_data"
    },
    {
     "data": {
      "text/plain": [
       "DataView: Showing 5 rows with the columns"
      ]
     },
     "metadata": {},
     "output_type": "display_data"
    },
    {
     "data": {
      "text/html": [
       "<table><thead><tr><th><i>index</i></th><th>VendorId</th><th>RateCode</th><th>PassengerCount</th><th>TripTime</th><th>TripDistance</th><th>PaymentType</th><th>FareAmount</th></tr></thead><tbody><tr><td>0</td><td><div class=\"dni-plaintext\">CMT</div></td><td><div class=\"dni-plaintext\">1</div></td><td><div class=\"dni-plaintext\">1</div></td><td><div class=\"dni-plaintext\">1271</div></td><td><div class=\"dni-plaintext\">3.8</div></td><td><div class=\"dni-plaintext\">CRD</div></td><td><div class=\"dni-plaintext\">17.5</div></td></tr><tr><td>1</td><td><div class=\"dni-plaintext\">CMT</div></td><td><div class=\"dni-plaintext\">1</div></td><td><div class=\"dni-plaintext\">1</div></td><td><div class=\"dni-plaintext\">474</div></td><td><div class=\"dni-plaintext\">1.5</div></td><td><div class=\"dni-plaintext\">CRD</div></td><td><div class=\"dni-plaintext\">8</div></td></tr><tr><td>2</td><td><div class=\"dni-plaintext\">CMT</div></td><td><div class=\"dni-plaintext\">1</div></td><td><div class=\"dni-plaintext\">1</div></td><td><div class=\"dni-plaintext\">637</div></td><td><div class=\"dni-plaintext\">1.4</div></td><td><div class=\"dni-plaintext\">CRD</div></td><td><div class=\"dni-plaintext\">8.5</div></td></tr><tr><td>3</td><td><div class=\"dni-plaintext\">CMT</div></td><td><div class=\"dni-plaintext\">1</div></td><td><div class=\"dni-plaintext\">1</div></td><td><div class=\"dni-plaintext\">181</div></td><td><div class=\"dni-plaintext\">0.6</div></td><td><div class=\"dni-plaintext\">CSH</div></td><td><div class=\"dni-plaintext\">4.5</div></td></tr><tr><td>4</td><td><div class=\"dni-plaintext\">CMT</div></td><td><div class=\"dni-plaintext\">1</div></td><td><div class=\"dni-plaintext\">1</div></td><td><div class=\"dni-plaintext\">661</div></td><td><div class=\"dni-plaintext\">1.1</div></td><td><div class=\"dni-plaintext\">CRD</div></td><td><div class=\"dni-plaintext\">8.5</div></td></tr></tbody></table>"
      ]
     },
     "metadata": {},
     "output_type": "display_data"
    }
   ],
   "source": [
    "//Util class to preview loaded data in IDataView\n",
    "\n",
    "public static List<TaxiTrip> Head(MLContext mlContext, IDataView dataView, int numberOfRows = 4)\n",
    "{\n",
    "    string msg = string.Format(\"DataView: Showing {0} rows with the columns\", numberOfRows.ToString());\n",
    "    display(msg);\n",
    "          \n",
    "    var rows = mlContext.Data.CreateEnumerable<TaxiTrip>(dataView, reuseRowObject: false)\n",
    "                    .Take(numberOfRows)\n",
    "                    .ToList();\n",
    "    \n",
    "    return rows;\n",
    "}\n",
    "\n",
    "display(h4(\"Showing a few rows from training DataView:\"));\n",
    "\n",
    "var fewRows = Head(mlContext, trainDataView, 5);\n",
    "display(fewRows);"
   ]
  },
  {
   "cell_type": "markdown",
   "metadata": {},
   "source": [
    "## Extract important input variables as arrays to be used for plotting"
   ]
  },
  {
   "cell_type": "code",
   "execution_count": 5,
   "metadata": {},
   "outputs": [],
   "source": [
    "//Extract some data into arrays for plotting:\n",
    "\n",
    "int numberOfRows = 1000;\n",
    "float[] fares = trainDataView.GetColumn<float>(\"FareAmount\").Take(numberOfRows).ToArray();\n",
    "float[] distances = trainDataView.GetColumn<float>(\"TripDistance\").Take(numberOfRows).ToArray();\n",
    "float[] times = trainDataView.GetColumn<float>(\"TripTime\").Take(numberOfRows).ToArray();\n",
    "float[] passengerCounts = trainDataView.GetColumn<float>(\"PassengerCount\").Take(numberOfRows).ToArray();"
   ]
  },
  {
   "cell_type": "markdown",
   "metadata": {},
   "source": [
    "## Show a histogram: Distribution of taxi trips per fare cost "
   ]
  },
  {
   "cell_type": "code",
   "execution_count": 6,
   "metadata": {},
   "outputs": [
    {
     "data": {
      "text/html": [
       "<div id=\"86a9c948-f5d6-4c5e-a20c-0a86da8e04ac\" style=\"width: 900px; height: 500px;\"></div>\r\n",
       "<script type=\"text/javascript\">\r\n",
       "\r\n",
       "var renderPlotly = function() {\r\n",
       "    var xplotRequire = require.config({context:'xplot-3.0.1',paths:{plotly:'https://cdn.plot.ly/plotly-1.49.2.min'}}) || require;\r\n",
       "    xplotRequire(['plotly'], function(Plotly) {\r\n",
       "\n",
       "            var data = [{\"type\":\"histogram\",\"x\":[17.5,8.0,8.5,4.5,8.5,27.5,11.5,7.5,7.5,5.0,6.0,7.0,7.0,5.5,7.0,19.0,6.0,6.5,9.0,4.5,52.0,6.5,3.5,4.5,8.5,5.5,32.0,8.5,8.5,9.0,4.0,7.0,16.0,7.5,11.5,8.0,5.5,5.0,7.0,19.5,52.0,10.0,7.0,5.0,24.5,9.5,12.5,4.0,7.0,5.5,17.5,7.0,33.5,5.5,7.0,23.0,11.5,6.5,6.5,11.5,13.0,9.0,10.5,18.5,11.0,5.5,6.5,7.0,4.5,7.5,13.0,8.0,6.5,52.0,8.5,12.0,10.0,4.0,20.0,7.0,16.0,4.5,10.0,17.5,4.5,4.5,5.5,5.0,8.0,15.0,6.0,13.0,23.5,7.0,4.5,4.0,6.5,8.0,6.5,7.5,10.5,7.0,11.5,5.5,8.5,6.0,21.0,5.5,19.0,3.5,5.5,31.0,12.0,11.0,17.0,7.0,5.0,8.5,12.0,5.0,11.5,7.0,11.5,15.0,4.0,12.5,15.5,28.5,6.5,31.5,13.5,6.0,8.0,5.5,6.5,7.5,5.5,9.0,20.5,12.0,8.0,7.5,16.0,9.5,15.0,7.0,3.5,8.0,7.0,12.5,13.5,14.0,4.5,7.5,5.0,6.0,9.0,8.5,4.0,22.0,5.0,9.5,7.0,4.5,8.5,7.5,5.0,4.0,5.5,10.5,7.0,8.0,4.0,8.5,14.5,5.0,3.0,29.5,11.5,10.0,6.0,7.0,10.0,16.0,9.5,6.5,7.5,11.5,5.0,11.0,9.0,11.0,11.0,4.5,6.5,16.5,2.5,5.5,6.5,15.0,9.0,10.5,10.0,52.0,11.0,11.5,6.0,8.5,9.0,7.0,4.5,13.0,5.0,5.5,5.5,7.0,17.0,8.5,71.0,5.0,6.5,9.5,8.5,11.5,13.5,6.5,34.0,4.0,8.5,8.0,9.5,9.0,5.0,8.0,7.5,52.0,22.0,8.5,7.0,15.5,10.0,8.5,9.0,17.0,5.5,20.5,8.5,10.0,10.0,4.0,7.5,3.0,20.5,8.5,6.5,14.5,8.0,11.0,7.5,11.0,12.0,7.5,13.0,6.5,9.0,5.0,10.5,11.5,6.5,7.0,6.5,12.0,62.0,5.0,11.5,16.0,6.5,12.0,11.0,7.5,5.0,8.5,10.5,6.0,6.0,9.5,13.0,3.5,11.5,12.5,13.0,6.0,17.0,9.0,52.0,14.5,6.5,6.0,5.0,29.5,3.5,19.5,5.5,5.0,13.5,11.0,5.0,8.5,8.5,11.0,10.0,6.5,6.5,16.5,8.0,10.0,13.5,20.0,15.5,4.5,10.5,8.5,8.0,3.0,8.5,14.5,8.5,4.5,9.0,5.5,7.5,8.0,6.5,4.0,9.5,9.0,15.5,19.5,18.0,6.0,14.0,6.0,9.5,4.0,5.0,4.0,5.5,3.5,6.5,52.0,20.5,17.0,8.0,7.5,8.0,13.0,7.0,10.0,23.5,4.5,8.5,14.0,4.5,8.5,13.5,9.5,4.0,11.0,5.5,6.5,6.5,5.5,7.0,12.5,25.5,9.0,6.0,5.5,7.0,7.0,6.5,8.5,11.5,4.5,13.0,13.5,5.5,8.5,7.5,7.5,12.0,6.5,11.0,2.5,9.0,5.0,11.0,7.0,5.0,18.0,5.0,6.0,10.5,5.5,10.0,17.0,8.0,4.5,9.5,11.0,31.5,6.5,8.0,7.0,7.5,11.0,11.0,27.0,8.0,12.5,7.0,11.5,7.0,7.0,11.5,3.5,18.5,6.0,8.0,5.0,7.5,8.0,12.5,13.5,10.0,6.5,9.0,6.0,6.0,4.0,8.0,7.5,9.0,5.0,7.0,7.0,7.0,4.0,4.0,5.5,22.0,8.5,11.5,7.0,10.0,5.5,10.5,8.0,13.0,9.0,9.0,15.5,6.5,7.0,4.0,6.0,6.0,9.0,9.0,9.5,6.5,12.5,11.5,8.0,5.5,8.5,9.5,5.0,5.0,8.0,7.0,7.0,9.5,7.0,8.5,7.5,17.5,12.0,4.0,8.0,8.0,10.5,7.5,16.0,8.5,8.5,23.0,5.5,10.0,8.0,9.0,4.0,8.0,7.0,8.5,9.0,19.5,9.0,9.5,9.0,52.0,7.0,7.5,11.5,8.5,6.0,4.5,8.0,8.0,24.0,7.5,6.0,9.0,6.0,7.5,7.0,18.0,32.5,3.5,8.5,6.5,7.0,3.5,7.0,7.0,10.5,4.5,19.5,7.5,9.5,12.5,7.5,6.0,6.0,11.0,6.5,4.5,6.5,6.5,8.5,9.5,10.0,8.0,9.5,12.5,10.5,12.5,10.5,13.0,13.5,15.5,5.5,7.5,7.0,9.5,3.0,8.5,17.5,8.0,5.5,12.0,12.5,4.0,9.5,7.0,13.0,5.0,10.0,4.0,5.0,12.0,10.0,9.5,4.5,7.0,4.0,10.5,9.5,4.0,14.0,7.5,4.0,11.5,4.5,24.0,29.5,9.5,17.5,13.5,10.5,6.0,8.0,13.0,6.0,7.5,5.0,3.5,10.0,6.0,6.5,11.5,35.0,5.5,11.5,12.0,8.0,17.5,5.0,6.5,6.5,5.0,13.0,11.0,32.5,12.0,11.0,7.5,8.0,11.5,6.0,11.0,15.0,13.0,9.5,25.0,9.5,7.0,4.5,6.5,10.0,7.0,7.0,26.5,7.5,10.0,7.0,10.0,11.5,4.0,8.0,12.0,4.0,5.5,9.5,15.5,7.0,15.5,3.5,2.5,9.0,5.0,6.0,5.5,30.5,3.0,16.0,7.0,5.5,39.5,35.0,5.5,3.5,8.5,12.0,8.0,7.0,7.5,7.5,14.5,7.0,20.5,21.5,6.0,6.5,6.5,8.0,13.5,5.5,39.0,6.0,17.0,12.5,24.5,11.0,10.0,7.0,15.5,9.5,22.0,17.0,8.0,22.0,7.0,8.0,15.5,12.0,3.0,9.0,14.5,16.5,6.5,13.5,7.5,25.5,13.0,14.0,15.5,5.5,5.0,14.5,9.0,5.0,6.5,4.5,8.5,14.0,40.0,5.0,10.5,6.0,8.0,34.0,11.0,6.5,6.0,9.0,7.0,10.5,15.0,8.0,4.5,11.0,6.0,10.5,12.0,17.0,5.0,5.0,11.5,24.5,52.0,4.5,4.0,6.0,14.0,5.0,8.0,12.0,5.0,14.0,7.0,14.0,7.0,9.5,9.5,12.0,20.0,6.0,12.5,7.5,4.5,25.5,4.5,14.0,10.0,12.5,7.5,9.0,6.5,8.5,4.0,8.5,4.0,7.0,37.5,20.0,15.5,5.0,8.5,7.5,15.5,13.5,6.5,8.5,3.5,8.5,7.5,6.5,5.5,18.0,7.0,16.0,28.0,9.5,15.0,6.5,31.5,5.0,30.5,5.5,11.0,14.5,10.5,7.0,34.0,10.0,9.0,11.5,5.0,2.5,5.0,8.5,4.5,11.0,6.0,23.5,11.5,2.5,9.5,11.5,24.5,25.0,14.0,11.5,9.0,10.5,15.5,26.5,15.0,6.0,11.5,9.5,25.0,9.5,6.0,6.5,6.5,4.0,6.5,13.5,10.5,9.0,9.0,4.0,4.5,8.5,13.5,5.0,19.0,15.5,9.0,4.5,17.5,7.0,34.5,10.0,21.0,11.0,10.0,19.5,15.5,7.5,5.0,7.5,5.5,13.5,8.5,15.0,5.5,5.0,11.0,6.5,4.0,4.0,8.5,8.0,6.0,8.5,17.0,9.5,26.5,4.0,5.0,6.5,7.0,8.5,28.5,5.0,7.0,7.0,4.5,10.5,13.5,8.0,4.5,15.0,7.5,11.0,5.5,6.5,19.5,5.0,6.5,4.5,8.0,14.0,9.0,24.0,6.5,13.0,5.0,12.0,4.5,8.0,32.5,21.5,6.5,5.0,2.5,16.5,9.5,8.5,8.5,10.5,7.0,13.0,15.0,6.5,13.0,5.5,13.0,8.0,24.5,12.0,7.5,8.0,7.5,11.0,11.0,9.5,7.0,4.0,6.5,14.5,10.0,8.5,7.0,6.5,5.5,14.0,3.5,11.0,8.0,7.0,12.0,5.0,6.5,8.5,14.0,6.0,10.0,14.0,11.0,12.0,4.5,6.0,16.0,19.0,16.0,8.0,6.0,7.0,22.5,3.5,7.5,7.0,5.5,11.5,4.0,8.5,14.5,11.5,5.5,11.5,6.0,11.0,9.5,19.5,9.5,8.5],\"autobinx\":false,\"nbinsx\":20}];\n",
       "            var layout = {\"title\":\"Distribution of taxi trips per cost\",\"xaxis\":{\"title\":\"Fare ranges\",\"_isSubplotObj\":true},\"yaxis\":{\"title\":\"Number of trips\",\"_isSubplotObj\":true}};\n",
       "            Plotly.newPlot('86a9c948-f5d6-4c5e-a20c-0a86da8e04ac', data, layout);\n",
       "        \r\n",
       "});\r\n",
       "};\r\n",
       "if ((typeof(require) !==  typeof(Function)) || (typeof(require.config) !== typeof(Function))) {\r\n",
       "    var script = document.createElement(\"script\"); \r\n",
       "    script.setAttribute(\"src\", \"https://cdnjs.cloudflare.com/ajax/libs/require.js/2.3.6/require.min.js\");\r\n",
       "    script.onload = function(){\r\n",
       "        renderPlotly();\r\n",
       "    };\r\n",
       "    document.getElementsByTagName(\"head\")[0].appendChild(script); \r\n",
       "}\r\n",
       "else {\r\n",
       "    renderPlotly();\r\n",
       "}\r\n",
       "</script>\r\n"
      ]
     },
     "metadata": {},
     "output_type": "display_data"
    }
   ],
   "source": [
    "// Distribution of taxi trips per cost\n",
    "//XPlot Histogram reference: http://tpetricek.github.io/XPlot/reference/xplot-plotly-graph-histogram.html\n",
    "\n",
    "var faresHistogram = Chart.Plot(new Graph.Histogram(){x = fares, autobinx = false, nbinsx = 20});\n",
    "var layout = new Layout.Layout(){title=\"Distribution of taxi trips per cost\"};\n",
    "faresHistogram.WithLayout(layout);\n",
    "faresHistogram.WithXTitle(\"Fare ranges\");\n",
    "faresHistogram.WithYTitle(\"Number of trips\");\n",
    "display(faresHistogram);\n"
   ]
  },
  {
   "cell_type": "markdown",
   "metadata": {},
   "source": [
    "##  Plot Time vs. Distance with different color on Fares cost-frame"
   ]
  },
  {
   "cell_type": "code",
   "execution_count": 7,
   "metadata": {},
   "outputs": [
    {
     "data": {
      "text/html": [
       "<div id=\"529a0a28-b919-4a61-b8e8-62a52451b279\" style=\"width: 500px; height: 500px;\"></div>\r\n",
       "<script type=\"text/javascript\">\r\n",
       "\r\n",
       "var renderPlotly = function() {\r\n",
       "    var xplotRequire = require.config({context:'xplot-3.0.1',paths:{plotly:'https://cdn.plot.ly/plotly-1.49.2.min'}}) || require;\r\n",
       "    xplotRequire(['plotly'], function(Plotly) {\r\n",
       "\n",
       "            var data = [{\"type\":\"scatter\",\"x\":[1271.0,474.0,637.0,181.0,661.0,935.0,869.0,454.0,366.0,252.0,314.0,480.0,386.0,351.0,407.0,970.0,371.0,367.0,621.0,243.0,3.0,485.0,88.0,160.0,596.0,270.0,1728.0,493.0,655.0,571.0,144.0,453.0,1074.0,470.0,821.0,539.0,397.0,223.0,457.0,1527.0,1785.0,612.0,467.0,262.0,1603.0,659.0,1069.0,139.0,411.0,340.0,1439.0,425.0,2561.0,308.0,385.0,1267.0,829.0,319.0,390.0,820.0,702.0,771.0,850.0,846.0,697.0,244.0,299.0,338.0,177.0,356.0,778.0,514.0,372.0,2104.0,489.0,1000.0,840.0,123.0,1070.0,427.0,1120.0,241.0,677.0,1151.0,176.0,133.0,302.0,284.0,543.0,668.0,402.0,887.0,1906.0,357.0,143.0,135.0,332.0,460.0,421.0,482.0,765.0,543.0,879.0,384.0,633.0,348.0,736.0,257.0,1600.0,74.0,275.0,1531.0,902.0,813.0,1357.0,433.0,194.0,453.0,979.0,233.0,715.0,433.0,934.0,1047.0,186.0,1086.0,910.0,1220.0,462.0,1931.0,731.0,381.0,542.0,254.0,408.0,569.0,325.0,629.0,1603.0,572.0,485.0,415.0,1445.0,721.0,1149.0,386.0,65.0,525.0,355.0,775.0,1029.0,972.0,214.0,552.0,235.0,341.0,574.0,549.0,205.0,1605.0,210.0,696.0,397.0,224.0,632.0,529.0,208.0,177.0,377.0,859.0,361.0,320.0,162.0,386.0,1461.0,289.0,95.0,2129.0,893.0,876.0,371.0,430.0,491.0,981.0,591.0,377.0,554.0,865.0,374.0,945.0,615.0,758.0,668.0,128.0,429.0,1023.0,1789.0,214.0,370.0,1055.0,593.0,681.0,665.0,2638.0,562.0,1005.0,373.0,587.0,682.0,380.0,248.0,878.0,271.0,307.0,303.0,397.0,1393.0,671.0,2528.0,249.0,378.0,666.0,553.0,966.0,850.0,369.0,1775.0,173.0,539.0,483.0,720.0,674.0,208.0,263.0,417.0,1218.0,1315.0,448.0,497.0,1151.0,815.0,599.0,516.0,1273.0,332.0,1524.0,670.0,816.0,822.0,180.0,462.0,65.0,1338.0,621.0,387.0,1029.0,537.0,764.0,510.0,805.0,1006.0,403.0,890.0,499.0,741.0,263.0,731.0,879.0,396.0,361.0,289.0,701.0,1369.0,272.0,886.0,1033.0,345.0,893.0,876.0,581.0,299.0,655.0,883.0,363.0,363.0,724.0,999.0,90.0,813.0,934.0,1006.0,368.0,1431.0,691.0,3633.0,867.0,446.0,304.0,217.0,1535.0,107.0,1102.0,395.0,229.0,1101.0,759.0,250.0,599.0,523.0,596.0,594.0,397.0,443.0,1164.0,511.0,638.0,1093.0,1504.0,1309.0,183.0,749.0,661.0,537.0,84.0,688.0,1054.0,549.0,193.0,689.0,369.0,495.0,581.0,329.0,147.0,686.0,493.0,1018.0,918.0,1667.0,396.0,801.0,362.0,733.0,153.0,188.0,167.0,198.0,137.0,443.0,2962.0,874.0,1147.0,577.0,566.0,648.0,1016.0,502.0,822.0,886.0,196.0,476.0,971.0,241.0,605.0,1034.0,794.0,198.0,959.0,331.0,374.0,390.0,333.0,443.0,991.0,1263.0,598.0,313.0,285.0,487.0,464.0,340.0,457.0,612.0,155.0,869.0,1117.0,234.0,471.0,483.0,570.0,826.0,670.0,852.0,2.0,646.0,180.0,655.0,404.0,264.0,1492.0,261.0,343.0,812.0,271.0,680.0,1645.0,497.0,169.0,689.0,828.0,1788.0,274.0,553.0,469.0,385.0,745.0,825.0,1815.0,524.0,1037.0,358.0,837.0,490.0,479.0,863.0,117.0,863.0,294.0,505.0,282.0,494.0,453.0,992.0,1124.0,598.0,375.0,740.0,400.0,321.0,95.0,513.0,477.0,725.0,296.0,542.0,392.0,451.0,116.0,122.0,233.0,1231.0,594.0,827.0,461.0,883.0,290.0,695.0,643.0,1015.0,656.0,734.0,1187.0,332.0,435.0,202.0,302.0,252.0,597.0,566.0,553.0,350.0,955.0,961.0,592.0,301.0,376.0,670.0,220.0,273.0,651.0,397.0,397.0,564.0,515.0,535.0,491.0,1448.0,838.0,156.0,368.0,610.0,742.0,352.0,1090.0,530.0,621.0,1249.0,349.0,592.0,511.0,656.0,186.0,472.0,461.0,547.0,553.0,1467.0,564.0,720.0,673.0,3847.0,458.0,375.0,960.0,608.0,368.0,188.0,560.0,463.0,931.0,487.0,439.0,724.0,321.0,587.0,420.0,1108.0,1740.0,113.0,618.0,331.0,489.0,99.0,419.0,367.0,686.0,234.0,985.0,418.0,775.0,1161.0,491.0,340.0,315.0,756.0,353.0,223.0,320.0,437.0,609.0,726.0,758.0,586.0,608.0,728.0,592.0,965.0,794.0,1034.0,1086.0,1277.0,261.0,544.0,413.0,628.0,55.0,496.0,1279.0,516.0,339.0,609.0,922.0,131.0,681.0,478.0,959.0,169.0,845.0,197.0,187.0,988.0,831.0,732.0,145.0,457.0,89.0,731.0,413.0,143.0,1128.0,529.0,134.0,1024.0,219.0,1141.0,1512.0,738.0,1396.0,1102.0,649.0,349.0,673.0,911.0,310.0,533.0,232.0,89.0,707.0,354.0,477.0,745.0,1799.0,267.0,836.0,871.0,545.0,1430.0,230.0,346.0,426.0,257.0,1167.0,681.0,1412.0,689.0,644.0,526.0,550.0,782.0,219.0,633.0,1282.0,1020.0,541.0,1106.0,566.0,443.0,172.0,300.0,604.0,339.0,487.0,1510.0,449.0,805.0,299.0,594.0,668.0,194.0,411.0,931.0,157.0,283.0,664.0,1340.0,435.0,1435.0,114.0,33.0,473.0,215.0,272.0,302.0,1471.0,68.0,905.0,467.0,290.0,2471.0,1511.0,237.0,116.0,581.0,759.0,536.0,336.0,302.0,510.0,1052.0,463.0,1212.0,1095.0,330.0,442.0,383.0,537.0,644.0,287.0,2087.0,271.0,1312.0,816.0,900.0,673.0,439.0,380.0,1045.0,784.0,1396.0,861.0,330.0,694.0,397.0,527.0,1447.0,1150.0,54.0,526.0,1043.0,952.0,396.0,828.0,317.0,817.0,999.0,875.0,1156.0,276.0,197.0,1225.0,443.0,283.0,374.0,267.0,539.0,916.0,1848.0,230.0,600.0,301.0,569.0,2245.0,723.0,447.0,437.0,769.0,413.0,906.0,1203.0,646.0,221.0,857.0,211.0,537.0,766.0,1210.0,203.0,149.0,708.0,771.0,526.0,203.0,125.0,326.0,1014.0,266.0,654.0,992.0,289.0,1023.0,290.0,872.0,430.0,501.0,375.0,774.0,1256.0,337.0,847.0,415.0,171.0,1790.0,185.0,1183.0,679.0,621.0,405.0,607.0,313.0,525.0,165.0,592.0,158.0,395.0,1858.0,1208.0,1344.0,266.0,422.0,515.0,1310.0,1223.0,409.0,651.0,99.0,650.0,405.0,381.0,324.0,1404.0,377.0,744.0,1180.0,579.0,1224.0,251.0,1364.0,334.0,1594.0,302.0,749.0,1126.0,856.0,413.0,1958.0,815.0,760.0,789.0,373.0,11.0,209.0,473.0,185.0,663.0,276.0,1133.0,580.0,7.0,768.0,888.0,858.0,1190.0,752.0,725.0,713.0,767.0,1345.0,1894.0,1122.0,228.0,731.0,641.0,2300.0,709.0,390.0,320.0,356.0,180.0,384.0,1133.0,670.0,507.0,532.0,152.0,214.0,542.0,994.0,252.0,1280.0,921.0,566.0,220.0,920.0,408.0,2323.0,487.0,1142.0,665.0,669.0,1066.0,1036.0,496.0,265.0,498.0,306.0,757.0,417.0,747.0,186.0,229.0,489.0,417.0,170.0,142.0,615.0,431.0,276.0,464.0,1055.0,553.0,1314.0,158.0,194.0,212.0,414.0,549.0,1628.0,216.0,469.0,421.0,167.0,765.0,860.0,461.0,172.0,852.0,409.0,641.0,243.0,315.0,1213.0,208.0,392.0,206.0,517.0,854.0,380.0,1349.0,387.0,689.0,203.0,834.0,219.0,575.0,1680.0,1386.0,390.0,204.0,9.0,1249.0,545.0,637.0,591.0,696.0,369.0,916.0,1166.0,405.0,750.0,293.0,912.0,596.0,1165.0,821.0,414.0,472.0,470.0,646.0,510.0,540.0,285.0,197.0,353.0,762.0,562.0,617.0,341.0,390.0,318.0,999.0,103.0,669.0,503.0,470.0,826.0,233.0,529.0,512.0,698.0,292.0,534.0,1002.0,727.0,796.0,167.0,283.0,1346.0,1224.0,1403.0,592.0,359.0,336.0,1178.0,120.0,500.0,304.0,227.0,697.0,97.0,413.0,872.0,652.0,292.0,516.0,301.0,586.0,571.0,717.0,426.0,313.0],\"y\":[3.8,1.5,1.4,0.6,1.1,9.6,2.3,1.4,1.5,0.6,1.2,0.7,1.3,0.8,1.1,5.6,0.6,1.3,1.7,0.6,0.0,0.8,0.4,0.6,1.4,0.8,9.8,1.4,1.4,2.0,0.5,1.3,3.8,1.4,2.5,1.4,0.4,0.8,1.0,4.7,16.4,2.1,1.3,0.6,6.5,1.7,2.4,0.4,1.1,0.5,3.6,1.1,9.3,0.9,1.3,6.9,2.6,1.1,0.9,2.6,3.7,0.9,2.0,6.3,2.4,1.1,1.4,1.6,0.8,1.5,3.4,1.6,1.1,18.8,1.6,1.8,1.0,0.7,5.9,1.2,3.7,0.4,1.8,4.5,0.6,0.8,0.8,0.6,1.3,4.2,0.8,3.3,5.2,1.6,0.9,0.4,1.3,1.7,1.0,1.5,1.9,0.8,2.1,0.6,1.2,1.0,7.2,1.0,3.6,0.4,0.9,10.8,2.4,2.4,3.8,1.2,0.9,2.1,2.0,0.7,2.8,1.3,1.9,3.2,0.3,2.0,4.0,9.2,0.6,10.2,3.6,0.8,1.4,0.9,1.1,1.0,0.8,1.8,5.0,3.0,1.8,1.5,2.5,1.3,3.6,1.3,0.3,1.5,1.3,3.2,2.8,3.5,0.6,1.1,0.7,0.8,1.8,1.5,0.3,5.7,0.9,1.7,1.3,0.6,1.1,1.0,0.8,0.5,0.4,1.5,1.3,2.1,0.6,2.2,1.4,0.5,0.3,8.7,2.3,1.0,0.8,1.1,2.4,4.3,2.0,1.2,1.1,2.4,0.5,1.6,1.6,2.3,2.7,0.9,1.0,4.5,0.0,0.9,1.2,3.8,1.9,2.0,2.4,17.7,3.2,1.6,0.9,1.6,1.5,1.2,0.6,3.4,0.5,0.7,0.9,1.4,3.6,1.1,18.1,0.8,1.2,1.6,1.5,1.8,3.6,1.1,10.4,0.6,1.7,1.5,1.5,1.1,0.8,2.2,1.5,17.3,6.1,1.9,0.9,3.8,1.6,1.6,2.1,4.3,0.5,5.2,1.2,1.4,1.1,0.3,1.5,0.2,5.5,1.2,1.0,3.1,1.5,2.3,1.3,2.2,2.0,1.5,3.2,0.7,0.8,0.6,2.0,2.1,1.1,1.3,1.4,3.2,16.6,0.7,2.3,4.2,1.5,2.7,1.6,0.8,0.7,1.4,1.2,0.8,1.0,1.8,2.4,0.4,2.4,2.5,2.8,0.8,3.2,1.2,18.7,4.0,0.8,1.1,0.8,9.2,0.5,5.2,0.5,0.7,2.7,2.5,0.6,1.6,1.7,3.0,2.5,1.0,1.0,3.8,1.4,2.0,2.7,5.3,3.2,0.7,2.1,1.0,1.5,0.3,1.1,3.5,1.7,0.5,1.5,0.7,1.3,1.1,1.3,0.5,1.5,2.0,3.8,5.8,2.7,0.5,4.0,1.0,1.5,0.7,0.9,0.3,1.2,0.3,0.9,17.0,6.6,4.4,1.5,0.8,0.8,2.7,1.2,1.6,7.9,0.7,1.8,3.2,0.5,1.2,3.2,1.5,0.5,1.4,1.0,1.2,1.1,0.6,1.2,2.4,8.6,2.0,1.0,0.9,0.9,1.2,1.4,1.9,3.2,0.7,3.1,2.2,0.8,2.0,1.2,1.1,2.6,0.5,1.9,0.0,1.6,0.9,2.6,1.3,0.5,3.7,0.7,1.2,2.0,0.9,2.0,1.7,1.4,0.8,1.7,2.1,10.3,1.3,1.2,0.9,1.4,2.1,2.1,7.2,1.5,2.2,1.4,2.0,0.9,0.9,2.4,0.1,5.7,1.0,1.6,0.7,1.2,1.7,2.4,2.4,2.1,0.9,1.1,0.6,1.1,0.6,1.5,1.4,1.3,0.6,0.8,1.3,1.0,0.4,0.6,1.1,6.5,1.7,2.4,1.2,1.5,0.8,2.3,0.9,2.7,1.7,1.2,3.9,1.2,1.3,0.3,1.2,1.2,2.0,1.9,2.2,1.2,2.5,2.0,1.3,0.7,2.2,1.6,0.9,0.7,0.9,1.1,1.2,2.0,0.9,1.7,1.2,4.0,2.8,0.4,2.1,1.1,2.1,1.7,4.4,1.8,1.6,6.5,0.7,2.3,1.4,1.5,0.3,1.6,1.1,1.8,2.0,4.8,1.8,1.3,1.4,22.9,1.3,1.6,1.7,1.5,0.9,0.7,1.3,1.5,8.3,1.2,0.6,1.4,1.0,0.8,1.5,4.6,9.8,0.4,1.3,1.2,1.0,0.4,1.1,1.5,2.5,0.5,5.8,1.4,1.4,1.4,1.1,0.9,1.0,2.4,1.3,0.3,1.1,1.0,1.5,1.8,1.8,1.0,2.1,3.5,2.6,2.4,2.3,2.7,2.8,3.3,1.1,1.1,1.5,1.8,0.2,1.7,4.3,1.6,0.8,3.4,2.9,0.6,1.4,0.7,2.9,1.1,1.9,0.7,1.1,1.8,1.3,1.7,0.9,1.3,0.6,2.2,2.6,0.5,2.6,1.3,0.6,1.0,0.6,7.5,9.3,1.5,3.9,2.3,2.8,0.9,0.8,2.8,1.1,1.1,0.7,0.5,1.9,0.7,0.8,2.9,11.1,0.9,2.3,2.5,1.4,3.8,0.6,1.1,0.9,0.7,1.6,2.7,10.6,3.1,2.6,1.1,1.1,2.8,1.3,2.6,2.5,2.7,2.2,8.4,2.1,1.3,0.6,1.3,2.5,1.4,0.8,7.8,1.6,1.5,1.9,2.4,2.7,0.5,1.9,2.3,0.5,1.0,1.5,2.7,1.2,2.2,0.4,0.0,2.3,0.7,1.2,0.9,9.8,0.1,4.4,1.1,1.0,11.7,11.8,0.9,0.3,1.7,3.0,1.1,1.7,1.9,1.2,3.4,1.2,5.6,6.8,0.9,0.6,1.0,1.6,3.6,0.8,13.2,1.3,4.1,3.0,8.4,2.8,2.7,1.5,3.7,1.4,6.0,4.7,2.0,7.3,1.5,1.5,2.3,1.3,1.0,1.9,3.3,4.4,1.0,3.4,2.1,8.9,2.6,3.4,3.4,1.0,0.9,2.7,2.2,0.7,1.1,0.5,1.9,3.5,14.2,0.8,2.6,1.1,1.2,9.4,2.3,1.0,0.5,0.9,1.3,1.2,3.0,1.1,0.5,1.9,1.3,2.7,2.5,3.8,0.8,1.0,2.3,8.5,7.4,0.7,0.4,1.0,3.1,0.8,1.0,2.0,0.7,3.0,1.6,3.2,1.2,2.7,2.5,3.0,6.0,1.2,3.0,1.5,0.7,6.7,0.7,2.2,2.0,3.1,1.5,1.8,1.4,1.8,0.7,1.4,0.5,1.3,12.2,5.3,2.8,0.7,1.7,1.3,3.1,1.9,1.0,1.0,0.4,1.3,1.8,1.1,0.7,4.0,1.3,5.3,9.5,2.2,3.0,1.4,10.9,0.1,9.9,0.9,2.2,2.8,1.5,1.1,10.2,1.5,1.2,2.1,0.8,0.0,0.9,2.0,0.5,2.7,1.2,7.3,3.0,0.0,1.2,2.1,8.5,7.8,4.0,2.5,1.1,1.9,2.8,6.7,3.4,1.4,2.7,2.1,4.2,2.0,0.7,1.1,1.3,0.3,1.0,2.7,2.3,2.2,1.9,0.6,0.6,1.8,3.3,0.8,5.3,4.2,1.8,0.5,5.2,1.3,10.0,2.6,6.0,2.6,2.4,5.4,4.0,1.3,0.8,1.1,0.8,3.8,2.2,4.6,1.1,0.8,3.1,0.8,0.5,0.6,1.5,1.7,1.3,2.0,4.2,2.0,8.8,0.4,0.9,1.7,1.2,1.7,9.0,0.8,1.2,1.3,0.5,2.2,3.4,1.7,0.7,3.9,1.6,2.8,0.8,1.3,5.3,0.8,1.4,0.6,1.6,3.5,2.5,7.5,1.1,3.4,0.8,2.5,0.5,1.4,10.6,6.1,1.0,0.9,0.0,3.7,2.0,1.3,1.3,2.1,1.3,3.0,3.1,0.8,3.4,0.9,3.0,1.3,7.9,2.4,1.6,1.7,1.4,2.8,2.7,2.3,1.7,0.3,1.3,4.1,2.3,1.4,1.5,1.3,0.7,2.9,0.2,2.5,1.5,1.1,2.8,0.6,0.5,1.6,4.1,1.3,2.5,3.4,2.5,3.0,0.8,1.2,3.3,5.5,3.2,1.2,0.9,1.5,6.9,0.3,1.3,1.7,1.3,3.0,0.5,2.1,3.6,3.0,0.6,3.1,1.2,3.0,2.4,6.5,2.7,2.3],\"mode\":\"markers\",\"marker\":{\"color\":[17.5,8.0,8.5,4.5,8.5,27.5,11.5,7.5,7.5,5.0,6.0,7.0,7.0,5.5,7.0,19.0,6.0,6.5,9.0,4.5,52.0,6.5,3.5,4.5,8.5,5.5,32.0,8.5,8.5,9.0,4.0,7.0,16.0,7.5,11.5,8.0,5.5,5.0,7.0,19.5,52.0,10.0,7.0,5.0,24.5,9.5,12.5,4.0,7.0,5.5,17.5,7.0,33.5,5.5,7.0,23.0,11.5,6.5,6.5,11.5,13.0,9.0,10.5,18.5,11.0,5.5,6.5,7.0,4.5,7.5,13.0,8.0,6.5,52.0,8.5,12.0,10.0,4.0,20.0,7.0,16.0,4.5,10.0,17.5,4.5,4.5,5.5,5.0,8.0,15.0,6.0,13.0,23.5,7.0,4.5,4.0,6.5,8.0,6.5,7.5,10.5,7.0,11.5,5.5,8.5,6.0,21.0,5.5,19.0,3.5,5.5,31.0,12.0,11.0,17.0,7.0,5.0,8.5,12.0,5.0,11.5,7.0,11.5,15.0,4.0,12.5,15.5,28.5,6.5,31.5,13.5,6.0,8.0,5.5,6.5,7.5,5.5,9.0,20.5,12.0,8.0,7.5,16.0,9.5,15.0,7.0,3.5,8.0,7.0,12.5,13.5,14.0,4.5,7.5,5.0,6.0,9.0,8.5,4.0,22.0,5.0,9.5,7.0,4.5,8.5,7.5,5.0,4.0,5.5,10.5,7.0,8.0,4.0,8.5,14.5,5.0,3.0,29.5,11.5,10.0,6.0,7.0,10.0,16.0,9.5,6.5,7.5,11.5,5.0,11.0,9.0,11.0,11.0,4.5,6.5,16.5,2.5,5.5,6.5,15.0,9.0,10.5,10.0,52.0,11.0,11.5,6.0,8.5,9.0,7.0,4.5,13.0,5.0,5.5,5.5,7.0,17.0,8.5,71.0,5.0,6.5,9.5,8.5,11.5,13.5,6.5,34.0,4.0,8.5,8.0,9.5,9.0,5.0,8.0,7.5,52.0,22.0,8.5,7.0,15.5,10.0,8.5,9.0,17.0,5.5,20.5,8.5,10.0,10.0,4.0,7.5,3.0,20.5,8.5,6.5,14.5,8.0,11.0,7.5,11.0,12.0,7.5,13.0,6.5,9.0,5.0,10.5,11.5,6.5,7.0,6.5,12.0,62.0,5.0,11.5,16.0,6.5,12.0,11.0,7.5,5.0,8.5,10.5,6.0,6.0,9.5,13.0,3.5,11.5,12.5,13.0,6.0,17.0,9.0,52.0,14.5,6.5,6.0,5.0,29.5,3.5,19.5,5.5,5.0,13.5,11.0,5.0,8.5,8.5,11.0,10.0,6.5,6.5,16.5,8.0,10.0,13.5,20.0,15.5,4.5,10.5,8.5,8.0,3.0,8.5,14.5,8.5,4.5,9.0,5.5,7.5,8.0,6.5,4.0,9.5,9.0,15.5,19.5,18.0,6.0,14.0,6.0,9.5,4.0,5.0,4.0,5.5,3.5,6.5,52.0,20.5,17.0,8.0,7.5,8.0,13.0,7.0,10.0,23.5,4.5,8.5,14.0,4.5,8.5,13.5,9.5,4.0,11.0,5.5,6.5,6.5,5.5,7.0,12.5,25.5,9.0,6.0,5.5,7.0,7.0,6.5,8.5,11.5,4.5,13.0,13.5,5.5,8.5,7.5,7.5,12.0,6.5,11.0,2.5,9.0,5.0,11.0,7.0,5.0,18.0,5.0,6.0,10.5,5.5,10.0,17.0,8.0,4.5,9.5,11.0,31.5,6.5,8.0,7.0,7.5,11.0,11.0,27.0,8.0,12.5,7.0,11.5,7.0,7.0,11.5,3.5,18.5,6.0,8.0,5.0,7.5,8.0,12.5,13.5,10.0,6.5,9.0,6.0,6.0,4.0,8.0,7.5,9.0,5.0,7.0,7.0,7.0,4.0,4.0,5.5,22.0,8.5,11.5,7.0,10.0,5.5,10.5,8.0,13.0,9.0,9.0,15.5,6.5,7.0,4.0,6.0,6.0,9.0,9.0,9.5,6.5,12.5,11.5,8.0,5.5,8.5,9.5,5.0,5.0,8.0,7.0,7.0,9.5,7.0,8.5,7.5,17.5,12.0,4.0,8.0,8.0,10.5,7.5,16.0,8.5,8.5,23.0,5.5,10.0,8.0,9.0,4.0,8.0,7.0,8.5,9.0,19.5,9.0,9.5,9.0,52.0,7.0,7.5,11.5,8.5,6.0,4.5,8.0,8.0,24.0,7.5,6.0,9.0,6.0,7.5,7.0,18.0,32.5,3.5,8.5,6.5,7.0,3.5,7.0,7.0,10.5,4.5,19.5,7.5,9.5,12.5,7.5,6.0,6.0,11.0,6.5,4.5,6.5,6.5,8.5,9.5,10.0,8.0,9.5,12.5,10.5,12.5,10.5,13.0,13.5,15.5,5.5,7.5,7.0,9.5,3.0,8.5,17.5,8.0,5.5,12.0,12.5,4.0,9.5,7.0,13.0,5.0,10.0,4.0,5.0,12.0,10.0,9.5,4.5,7.0,4.0,10.5,9.5,4.0,14.0,7.5,4.0,11.5,4.5,24.0,29.5,9.5,17.5,13.5,10.5,6.0,8.0,13.0,6.0,7.5,5.0,3.5,10.0,6.0,6.5,11.5,35.0,5.5,11.5,12.0,8.0,17.5,5.0,6.5,6.5,5.0,13.0,11.0,32.5,12.0,11.0,7.5,8.0,11.5,6.0,11.0,15.0,13.0,9.5,25.0,9.5,7.0,4.5,6.5,10.0,7.0,7.0,26.5,7.5,10.0,7.0,10.0,11.5,4.0,8.0,12.0,4.0,5.5,9.5,15.5,7.0,15.5,3.5,2.5,9.0,5.0,6.0,5.5,30.5,3.0,16.0,7.0,5.5,39.5,35.0,5.5,3.5,8.5,12.0,8.0,7.0,7.5,7.5,14.5,7.0,20.5,21.5,6.0,6.5,6.5,8.0,13.5,5.5,39.0,6.0,17.0,12.5,24.5,11.0,10.0,7.0,15.5,9.5,22.0,17.0,8.0,22.0,7.0,8.0,15.5,12.0,3.0,9.0,14.5,16.5,6.5,13.5,7.5,25.5,13.0,14.0,15.5,5.5,5.0,14.5,9.0,5.0,6.5,4.5,8.5,14.0,40.0,5.0,10.5,6.0,8.0,34.0,11.0,6.5,6.0,9.0,7.0,10.5,15.0,8.0,4.5,11.0,6.0,10.5,12.0,17.0,5.0,5.0,11.5,24.5,52.0,4.5,4.0,6.0,14.0,5.0,8.0,12.0,5.0,14.0,7.0,14.0,7.0,9.5,9.5,12.0,20.0,6.0,12.5,7.5,4.5,25.5,4.5,14.0,10.0,12.5,7.5,9.0,6.5,8.5,4.0,8.5,4.0,7.0,37.5,20.0,15.5,5.0,8.5,7.5,15.5,13.5,6.5,8.5,3.5,8.5,7.5,6.5,5.5,18.0,7.0,16.0,28.0,9.5,15.0,6.5,31.5,5.0,30.5,5.5,11.0,14.5,10.5,7.0,34.0,10.0,9.0,11.5,5.0,2.5,5.0,8.5,4.5,11.0,6.0,23.5,11.5,2.5,9.5,11.5,24.5,25.0,14.0,11.5,9.0,10.5,15.5,26.5,15.0,6.0,11.5,9.5,25.0,9.5,6.0,6.5,6.5,4.0,6.5,13.5,10.5,9.0,9.0,4.0,4.5,8.5,13.5,5.0,19.0,15.5,9.0,4.5,17.5,7.0,34.5,10.0,21.0,11.0,10.0,19.5,15.5,7.5,5.0,7.5,5.5,13.5,8.5,15.0,5.5,5.0,11.0,6.5,4.0,4.0,8.5,8.0,6.0,8.5,17.0,9.5,26.5,4.0,5.0,6.5,7.0,8.5,28.5,5.0,7.0,7.0,4.5,10.5,13.5,8.0,4.5,15.0,7.5,11.0,5.5,6.5,19.5,5.0,6.5,4.5,8.0,14.0,9.0,24.0,6.5,13.0,5.0,12.0,4.5,8.0,32.5,21.5,6.5,5.0,2.5,16.5,9.5,8.5,8.5,10.5,7.0,13.0,15.0,6.5,13.0,5.5,13.0,8.0,24.5,12.0,7.5,8.0,7.5,11.0,11.0,9.5,7.0,4.0,6.5,14.5,10.0,8.5,7.0,6.5,5.5,14.0,3.5,11.0,8.0,7.0,12.0,5.0,6.5,8.5,14.0,6.0,10.0,14.0,11.0,12.0,4.5,6.0,16.0,19.0,16.0,8.0,6.0,7.0,22.5,3.5,7.5,7.0,5.5,11.5,4.0,8.5,14.5,11.5,5.5,11.5,6.0,11.0,9.5,19.5,9.5,8.5],\"colorscale\":\"Jet\"}}];\n",
       "            var layout = {\"title\":\"Plot Time vs. Distance & color scale on Fares\",\"showlegend\":false,\"xaxis\":{\"title\":\"Time\",\"_isSubplotObj\":true},\"yaxis\":{\"title\":\"Distance\",\"_isSubplotObj\":true}};\n",
       "            Plotly.newPlot('529a0a28-b919-4a61-b8e8-62a52451b279', data, layout);\n",
       "        \r\n",
       "});\r\n",
       "};\r\n",
       "if ((typeof(require) !==  typeof(Function)) || (typeof(require.config) !== typeof(Function))) {\r\n",
       "    var script = document.createElement(\"script\"); \r\n",
       "    script.setAttribute(\"src\", \"https://cdnjs.cloudflare.com/ajax/libs/require.js/2.3.6/require.min.js\");\r\n",
       "    script.onload = function(){\r\n",
       "        renderPlotly();\r\n",
       "    };\r\n",
       "    document.getElementsByTagName(\"head\")[0].appendChild(script); \r\n",
       "}\r\n",
       "else {\r\n",
       "    renderPlotly();\r\n",
       "}\r\n",
       "</script>\r\n"
      ]
     },
     "metadata": {},
     "output_type": "display_data"
    }
   ],
   "source": [
    "// Plot Time vs. Distance with different color on Fares cost-frame\n",
    "\n",
    "var chart = Chart.Plot(\n",
    "    new Graph.Scatter()\n",
    "    {\n",
    "        x = times,\n",
    "        y = distances,\n",
    "        mode = \"markers\",\n",
    "        marker = new Graph.Marker()\n",
    "        {\n",
    "            color = fares,\n",
    "            colorscale = \"Jet\"\n",
    "        }\n",
    "    }\n",
    ");\n",
    "\n",
    "var layout = new Layout.Layout(){title=\"Plot Time vs. Distance & color scale on Fares\"};\n",
    "chart.WithLayout(layout);\n",
    "chart.Width = 500;\n",
    "chart.Height = 500;\n",
    "chart.WithXTitle(\"Time\");\n",
    "chart.WithYTitle(\"Distance\");\n",
    "chart.WithLegend(false);\n",
    "\n",
    "display(chart);\n"
   ]
  },
  {
   "cell_type": "markdown",
   "metadata": {},
   "source": [
    "## Plot Fares depending on trip's Time "
   ]
  },
  {
   "cell_type": "code",
   "execution_count": 8,
   "metadata": {},
   "outputs": [
    {
     "data": {
      "text/html": [
       "<div id=\"03aa5f7f-36ae-40e4-bb87-5a7245c0b02a\" style=\"width: 500px; height: 500px;\"></div>\r\n",
       "<script type=\"text/javascript\">\r\n",
       "\r\n",
       "var renderPlotly = function() {\r\n",
       "    var xplotRequire = require.config({context:'xplot-3.0.1',paths:{plotly:'https://cdn.plot.ly/plotly-1.49.2.min'}}) || require;\r\n",
       "    xplotRequire(['plotly'], function(Plotly) {\r\n",
       "\n",
       "            var data = [{\"type\":\"scatter\",\"x\":[1271.0,474.0,637.0,181.0,661.0,935.0,869.0,454.0,366.0,252.0,314.0,480.0,386.0,351.0,407.0,970.0,371.0,367.0,621.0,243.0,3.0,485.0,88.0,160.0,596.0,270.0,1728.0,493.0,655.0,571.0,144.0,453.0,1074.0,470.0,821.0,539.0,397.0,223.0,457.0,1527.0,1785.0,612.0,467.0,262.0,1603.0,659.0,1069.0,139.0,411.0,340.0,1439.0,425.0,2561.0,308.0,385.0,1267.0,829.0,319.0,390.0,820.0,702.0,771.0,850.0,846.0,697.0,244.0,299.0,338.0,177.0,356.0,778.0,514.0,372.0,2104.0,489.0,1000.0,840.0,123.0,1070.0,427.0,1120.0,241.0,677.0,1151.0,176.0,133.0,302.0,284.0,543.0,668.0,402.0,887.0,1906.0,357.0,143.0,135.0,332.0,460.0,421.0,482.0,765.0,543.0,879.0,384.0,633.0,348.0,736.0,257.0,1600.0,74.0,275.0,1531.0,902.0,813.0,1357.0,433.0,194.0,453.0,979.0,233.0,715.0,433.0,934.0,1047.0,186.0,1086.0,910.0,1220.0,462.0,1931.0,731.0,381.0,542.0,254.0,408.0,569.0,325.0,629.0,1603.0,572.0,485.0,415.0,1445.0,721.0,1149.0,386.0,65.0,525.0,355.0,775.0,1029.0,972.0,214.0,552.0,235.0,341.0,574.0,549.0,205.0,1605.0,210.0,696.0,397.0,224.0,632.0,529.0,208.0,177.0,377.0,859.0,361.0,320.0,162.0,386.0,1461.0,289.0,95.0,2129.0,893.0,876.0,371.0,430.0,491.0,981.0,591.0,377.0,554.0,865.0,374.0,945.0,615.0,758.0,668.0,128.0,429.0,1023.0,1789.0,214.0,370.0,1055.0,593.0,681.0,665.0,2638.0,562.0,1005.0,373.0,587.0,682.0,380.0,248.0,878.0,271.0,307.0,303.0,397.0,1393.0,671.0,2528.0,249.0,378.0,666.0,553.0,966.0,850.0,369.0,1775.0,173.0,539.0,483.0,720.0,674.0,208.0,263.0,417.0,1218.0,1315.0,448.0,497.0,1151.0,815.0,599.0,516.0,1273.0,332.0,1524.0,670.0,816.0,822.0,180.0,462.0,65.0,1338.0,621.0,387.0,1029.0,537.0,764.0,510.0,805.0,1006.0,403.0,890.0,499.0,741.0,263.0,731.0,879.0,396.0,361.0,289.0,701.0,1369.0,272.0,886.0,1033.0,345.0,893.0,876.0,581.0,299.0,655.0,883.0,363.0,363.0,724.0,999.0,90.0,813.0,934.0,1006.0,368.0,1431.0,691.0,3633.0,867.0,446.0,304.0,217.0,1535.0,107.0,1102.0,395.0,229.0,1101.0,759.0,250.0,599.0,523.0,596.0,594.0,397.0,443.0,1164.0,511.0,638.0,1093.0,1504.0,1309.0,183.0,749.0,661.0,537.0,84.0,688.0,1054.0,549.0,193.0,689.0,369.0,495.0,581.0,329.0,147.0,686.0,493.0,1018.0,918.0,1667.0,396.0,801.0,362.0,733.0,153.0,188.0,167.0,198.0,137.0,443.0,2962.0,874.0,1147.0,577.0,566.0,648.0,1016.0,502.0,822.0,886.0,196.0,476.0,971.0,241.0,605.0,1034.0,794.0,198.0,959.0,331.0,374.0,390.0,333.0,443.0,991.0,1263.0,598.0,313.0,285.0,487.0,464.0,340.0,457.0,612.0,155.0,869.0,1117.0,234.0,471.0,483.0,570.0,826.0,670.0,852.0,2.0,646.0,180.0,655.0,404.0,264.0,1492.0,261.0,343.0,812.0,271.0,680.0,1645.0,497.0,169.0,689.0,828.0,1788.0,274.0,553.0,469.0,385.0,745.0,825.0,1815.0,524.0,1037.0,358.0,837.0,490.0,479.0,863.0,117.0,863.0,294.0,505.0,282.0,494.0,453.0,992.0,1124.0,598.0,375.0,740.0,400.0,321.0,95.0,513.0,477.0,725.0,296.0,542.0,392.0,451.0,116.0,122.0,233.0,1231.0,594.0,827.0,461.0,883.0,290.0,695.0,643.0,1015.0,656.0,734.0,1187.0,332.0,435.0,202.0,302.0,252.0,597.0,566.0,553.0,350.0,955.0,961.0,592.0,301.0,376.0,670.0,220.0,273.0,651.0,397.0,397.0,564.0,515.0,535.0,491.0,1448.0,838.0,156.0,368.0,610.0,742.0,352.0,1090.0,530.0,621.0,1249.0,349.0,592.0,511.0,656.0,186.0,472.0,461.0,547.0,553.0,1467.0,564.0,720.0,673.0,3847.0,458.0,375.0,960.0,608.0,368.0,188.0,560.0,463.0,931.0,487.0,439.0,724.0,321.0,587.0,420.0,1108.0,1740.0,113.0,618.0,331.0,489.0,99.0,419.0,367.0,686.0,234.0,985.0,418.0,775.0,1161.0,491.0,340.0,315.0,756.0,353.0,223.0,320.0,437.0,609.0,726.0,758.0,586.0,608.0,728.0,592.0,965.0,794.0,1034.0,1086.0,1277.0,261.0,544.0,413.0,628.0,55.0,496.0,1279.0,516.0,339.0,609.0,922.0,131.0,681.0,478.0,959.0,169.0,845.0,197.0,187.0,988.0,831.0,732.0,145.0,457.0,89.0,731.0,413.0,143.0,1128.0,529.0,134.0,1024.0,219.0,1141.0,1512.0,738.0,1396.0,1102.0,649.0,349.0,673.0,911.0,310.0,533.0,232.0,89.0,707.0,354.0,477.0,745.0,1799.0,267.0,836.0,871.0,545.0,1430.0,230.0,346.0,426.0,257.0,1167.0,681.0,1412.0,689.0,644.0,526.0,550.0,782.0,219.0,633.0,1282.0,1020.0,541.0,1106.0,566.0,443.0,172.0,300.0,604.0,339.0,487.0,1510.0,449.0,805.0,299.0,594.0,668.0,194.0,411.0,931.0,157.0,283.0,664.0,1340.0,435.0,1435.0,114.0,33.0,473.0,215.0,272.0,302.0,1471.0,68.0,905.0,467.0,290.0,2471.0,1511.0,237.0,116.0,581.0,759.0,536.0,336.0,302.0,510.0,1052.0,463.0,1212.0,1095.0,330.0,442.0,383.0,537.0,644.0,287.0,2087.0,271.0,1312.0,816.0,900.0,673.0,439.0,380.0,1045.0,784.0,1396.0,861.0,330.0,694.0,397.0,527.0,1447.0,1150.0,54.0,526.0,1043.0,952.0,396.0,828.0,317.0,817.0,999.0,875.0,1156.0,276.0,197.0,1225.0,443.0,283.0,374.0,267.0,539.0,916.0,1848.0,230.0,600.0,301.0,569.0,2245.0,723.0,447.0,437.0,769.0,413.0,906.0,1203.0,646.0,221.0,857.0,211.0,537.0,766.0,1210.0,203.0,149.0,708.0,771.0,526.0,203.0,125.0,326.0,1014.0,266.0,654.0,992.0,289.0,1023.0,290.0,872.0,430.0,501.0,375.0,774.0,1256.0,337.0,847.0,415.0,171.0,1790.0,185.0,1183.0,679.0,621.0,405.0,607.0,313.0,525.0,165.0,592.0,158.0,395.0,1858.0,1208.0,1344.0,266.0,422.0,515.0,1310.0,1223.0,409.0,651.0,99.0,650.0,405.0,381.0,324.0,1404.0,377.0,744.0,1180.0,579.0,1224.0,251.0,1364.0,334.0,1594.0,302.0,749.0,1126.0,856.0,413.0,1958.0,815.0,760.0,789.0,373.0,11.0,209.0,473.0,185.0,663.0,276.0,1133.0,580.0,7.0,768.0,888.0,858.0,1190.0,752.0,725.0,713.0,767.0,1345.0,1894.0,1122.0,228.0,731.0,641.0,2300.0,709.0,390.0,320.0,356.0,180.0,384.0,1133.0,670.0,507.0,532.0,152.0,214.0,542.0,994.0,252.0,1280.0,921.0,566.0,220.0,920.0,408.0,2323.0,487.0,1142.0,665.0,669.0,1066.0,1036.0,496.0,265.0,498.0,306.0,757.0,417.0,747.0,186.0,229.0,489.0,417.0,170.0,142.0,615.0,431.0,276.0,464.0,1055.0,553.0,1314.0,158.0,194.0,212.0,414.0,549.0,1628.0,216.0,469.0,421.0,167.0,765.0,860.0,461.0,172.0,852.0,409.0,641.0,243.0,315.0,1213.0,208.0,392.0,206.0,517.0,854.0,380.0,1349.0,387.0,689.0,203.0,834.0,219.0,575.0,1680.0,1386.0,390.0,204.0,9.0,1249.0,545.0,637.0,591.0,696.0,369.0,916.0,1166.0,405.0,750.0,293.0,912.0,596.0,1165.0,821.0,414.0,472.0,470.0,646.0,510.0,540.0,285.0,197.0,353.0,762.0,562.0,617.0,341.0,390.0,318.0,999.0,103.0,669.0,503.0,470.0,826.0,233.0,529.0,512.0,698.0,292.0,534.0,1002.0,727.0,796.0,167.0,283.0,1346.0,1224.0,1403.0,592.0,359.0,336.0,1178.0,120.0,500.0,304.0,227.0,697.0,97.0,413.0,872.0,652.0,292.0,516.0,301.0,586.0,571.0,717.0,426.0,313.0],\"y\":[17.5,8.0,8.5,4.5,8.5,27.5,11.5,7.5,7.5,5.0,6.0,7.0,7.0,5.5,7.0,19.0,6.0,6.5,9.0,4.5,52.0,6.5,3.5,4.5,8.5,5.5,32.0,8.5,8.5,9.0,4.0,7.0,16.0,7.5,11.5,8.0,5.5,5.0,7.0,19.5,52.0,10.0,7.0,5.0,24.5,9.5,12.5,4.0,7.0,5.5,17.5,7.0,33.5,5.5,7.0,23.0,11.5,6.5,6.5,11.5,13.0,9.0,10.5,18.5,11.0,5.5,6.5,7.0,4.5,7.5,13.0,8.0,6.5,52.0,8.5,12.0,10.0,4.0,20.0,7.0,16.0,4.5,10.0,17.5,4.5,4.5,5.5,5.0,8.0,15.0,6.0,13.0,23.5,7.0,4.5,4.0,6.5,8.0,6.5,7.5,10.5,7.0,11.5,5.5,8.5,6.0,21.0,5.5,19.0,3.5,5.5,31.0,12.0,11.0,17.0,7.0,5.0,8.5,12.0,5.0,11.5,7.0,11.5,15.0,4.0,12.5,15.5,28.5,6.5,31.5,13.5,6.0,8.0,5.5,6.5,7.5,5.5,9.0,20.5,12.0,8.0,7.5,16.0,9.5,15.0,7.0,3.5,8.0,7.0,12.5,13.5,14.0,4.5,7.5,5.0,6.0,9.0,8.5,4.0,22.0,5.0,9.5,7.0,4.5,8.5,7.5,5.0,4.0,5.5,10.5,7.0,8.0,4.0,8.5,14.5,5.0,3.0,29.5,11.5,10.0,6.0,7.0,10.0,16.0,9.5,6.5,7.5,11.5,5.0,11.0,9.0,11.0,11.0,4.5,6.5,16.5,2.5,5.5,6.5,15.0,9.0,10.5,10.0,52.0,11.0,11.5,6.0,8.5,9.0,7.0,4.5,13.0,5.0,5.5,5.5,7.0,17.0,8.5,71.0,5.0,6.5,9.5,8.5,11.5,13.5,6.5,34.0,4.0,8.5,8.0,9.5,9.0,5.0,8.0,7.5,52.0,22.0,8.5,7.0,15.5,10.0,8.5,9.0,17.0,5.5,20.5,8.5,10.0,10.0,4.0,7.5,3.0,20.5,8.5,6.5,14.5,8.0,11.0,7.5,11.0,12.0,7.5,13.0,6.5,9.0,5.0,10.5,11.5,6.5,7.0,6.5,12.0,62.0,5.0,11.5,16.0,6.5,12.0,11.0,7.5,5.0,8.5,10.5,6.0,6.0,9.5,13.0,3.5,11.5,12.5,13.0,6.0,17.0,9.0,52.0,14.5,6.5,6.0,5.0,29.5,3.5,19.5,5.5,5.0,13.5,11.0,5.0,8.5,8.5,11.0,10.0,6.5,6.5,16.5,8.0,10.0,13.5,20.0,15.5,4.5,10.5,8.5,8.0,3.0,8.5,14.5,8.5,4.5,9.0,5.5,7.5,8.0,6.5,4.0,9.5,9.0,15.5,19.5,18.0,6.0,14.0,6.0,9.5,4.0,5.0,4.0,5.5,3.5,6.5,52.0,20.5,17.0,8.0,7.5,8.0,13.0,7.0,10.0,23.5,4.5,8.5,14.0,4.5,8.5,13.5,9.5,4.0,11.0,5.5,6.5,6.5,5.5,7.0,12.5,25.5,9.0,6.0,5.5,7.0,7.0,6.5,8.5,11.5,4.5,13.0,13.5,5.5,8.5,7.5,7.5,12.0,6.5,11.0,2.5,9.0,5.0,11.0,7.0,5.0,18.0,5.0,6.0,10.5,5.5,10.0,17.0,8.0,4.5,9.5,11.0,31.5,6.5,8.0,7.0,7.5,11.0,11.0,27.0,8.0,12.5,7.0,11.5,7.0,7.0,11.5,3.5,18.5,6.0,8.0,5.0,7.5,8.0,12.5,13.5,10.0,6.5,9.0,6.0,6.0,4.0,8.0,7.5,9.0,5.0,7.0,7.0,7.0,4.0,4.0,5.5,22.0,8.5,11.5,7.0,10.0,5.5,10.5,8.0,13.0,9.0,9.0,15.5,6.5,7.0,4.0,6.0,6.0,9.0,9.0,9.5,6.5,12.5,11.5,8.0,5.5,8.5,9.5,5.0,5.0,8.0,7.0,7.0,9.5,7.0,8.5,7.5,17.5,12.0,4.0,8.0,8.0,10.5,7.5,16.0,8.5,8.5,23.0,5.5,10.0,8.0,9.0,4.0,8.0,7.0,8.5,9.0,19.5,9.0,9.5,9.0,52.0,7.0,7.5,11.5,8.5,6.0,4.5,8.0,8.0,24.0,7.5,6.0,9.0,6.0,7.5,7.0,18.0,32.5,3.5,8.5,6.5,7.0,3.5,7.0,7.0,10.5,4.5,19.5,7.5,9.5,12.5,7.5,6.0,6.0,11.0,6.5,4.5,6.5,6.5,8.5,9.5,10.0,8.0,9.5,12.5,10.5,12.5,10.5,13.0,13.5,15.5,5.5,7.5,7.0,9.5,3.0,8.5,17.5,8.0,5.5,12.0,12.5,4.0,9.5,7.0,13.0,5.0,10.0,4.0,5.0,12.0,10.0,9.5,4.5,7.0,4.0,10.5,9.5,4.0,14.0,7.5,4.0,11.5,4.5,24.0,29.5,9.5,17.5,13.5,10.5,6.0,8.0,13.0,6.0,7.5,5.0,3.5,10.0,6.0,6.5,11.5,35.0,5.5,11.5,12.0,8.0,17.5,5.0,6.5,6.5,5.0,13.0,11.0,32.5,12.0,11.0,7.5,8.0,11.5,6.0,11.0,15.0,13.0,9.5,25.0,9.5,7.0,4.5,6.5,10.0,7.0,7.0,26.5,7.5,10.0,7.0,10.0,11.5,4.0,8.0,12.0,4.0,5.5,9.5,15.5,7.0,15.5,3.5,2.5,9.0,5.0,6.0,5.5,30.5,3.0,16.0,7.0,5.5,39.5,35.0,5.5,3.5,8.5,12.0,8.0,7.0,7.5,7.5,14.5,7.0,20.5,21.5,6.0,6.5,6.5,8.0,13.5,5.5,39.0,6.0,17.0,12.5,24.5,11.0,10.0,7.0,15.5,9.5,22.0,17.0,8.0,22.0,7.0,8.0,15.5,12.0,3.0,9.0,14.5,16.5,6.5,13.5,7.5,25.5,13.0,14.0,15.5,5.5,5.0,14.5,9.0,5.0,6.5,4.5,8.5,14.0,40.0,5.0,10.5,6.0,8.0,34.0,11.0,6.5,6.0,9.0,7.0,10.5,15.0,8.0,4.5,11.0,6.0,10.5,12.0,17.0,5.0,5.0,11.5,24.5,52.0,4.5,4.0,6.0,14.0,5.0,8.0,12.0,5.0,14.0,7.0,14.0,7.0,9.5,9.5,12.0,20.0,6.0,12.5,7.5,4.5,25.5,4.5,14.0,10.0,12.5,7.5,9.0,6.5,8.5,4.0,8.5,4.0,7.0,37.5,20.0,15.5,5.0,8.5,7.5,15.5,13.5,6.5,8.5,3.5,8.5,7.5,6.5,5.5,18.0,7.0,16.0,28.0,9.5,15.0,6.5,31.5,5.0,30.5,5.5,11.0,14.5,10.5,7.0,34.0,10.0,9.0,11.5,5.0,2.5,5.0,8.5,4.5,11.0,6.0,23.5,11.5,2.5,9.5,11.5,24.5,25.0,14.0,11.5,9.0,10.5,15.5,26.5,15.0,6.0,11.5,9.5,25.0,9.5,6.0,6.5,6.5,4.0,6.5,13.5,10.5,9.0,9.0,4.0,4.5,8.5,13.5,5.0,19.0,15.5,9.0,4.5,17.5,7.0,34.5,10.0,21.0,11.0,10.0,19.5,15.5,7.5,5.0,7.5,5.5,13.5,8.5,15.0,5.5,5.0,11.0,6.5,4.0,4.0,8.5,8.0,6.0,8.5,17.0,9.5,26.5,4.0,5.0,6.5,7.0,8.5,28.5,5.0,7.0,7.0,4.5,10.5,13.5,8.0,4.5,15.0,7.5,11.0,5.5,6.5,19.5,5.0,6.5,4.5,8.0,14.0,9.0,24.0,6.5,13.0,5.0,12.0,4.5,8.0,32.5,21.5,6.5,5.0,2.5,16.5,9.5,8.5,8.5,10.5,7.0,13.0,15.0,6.5,13.0,5.5,13.0,8.0,24.5,12.0,7.5,8.0,7.5,11.0,11.0,9.5,7.0,4.0,6.5,14.5,10.0,8.5,7.0,6.5,5.5,14.0,3.5,11.0,8.0,7.0,12.0,5.0,6.5,8.5,14.0,6.0,10.0,14.0,11.0,12.0,4.5,6.0,16.0,19.0,16.0,8.0,6.0,7.0,22.5,3.5,7.5,7.0,5.5,11.5,4.0,8.5,14.5,11.5,5.5,11.5,6.0,11.0,9.5,19.5,9.5,8.5],\"mode\":\"markers\",\"marker\":{\"color\":[3.8,1.5,1.4,0.6,1.1,9.6,2.3,1.4,1.5,0.6,1.2,0.7,1.3,0.8,1.1,5.6,0.6,1.3,1.7,0.6,0.0,0.8,0.4,0.6,1.4,0.8,9.8,1.4,1.4,2.0,0.5,1.3,3.8,1.4,2.5,1.4,0.4,0.8,1.0,4.7,16.4,2.1,1.3,0.6,6.5,1.7,2.4,0.4,1.1,0.5,3.6,1.1,9.3,0.9,1.3,6.9,2.6,1.1,0.9,2.6,3.7,0.9,2.0,6.3,2.4,1.1,1.4,1.6,0.8,1.5,3.4,1.6,1.1,18.8,1.6,1.8,1.0,0.7,5.9,1.2,3.7,0.4,1.8,4.5,0.6,0.8,0.8,0.6,1.3,4.2,0.8,3.3,5.2,1.6,0.9,0.4,1.3,1.7,1.0,1.5,1.9,0.8,2.1,0.6,1.2,1.0,7.2,1.0,3.6,0.4,0.9,10.8,2.4,2.4,3.8,1.2,0.9,2.1,2.0,0.7,2.8,1.3,1.9,3.2,0.3,2.0,4.0,9.2,0.6,10.2,3.6,0.8,1.4,0.9,1.1,1.0,0.8,1.8,5.0,3.0,1.8,1.5,2.5,1.3,3.6,1.3,0.3,1.5,1.3,3.2,2.8,3.5,0.6,1.1,0.7,0.8,1.8,1.5,0.3,5.7,0.9,1.7,1.3,0.6,1.1,1.0,0.8,0.5,0.4,1.5,1.3,2.1,0.6,2.2,1.4,0.5,0.3,8.7,2.3,1.0,0.8,1.1,2.4,4.3,2.0,1.2,1.1,2.4,0.5,1.6,1.6,2.3,2.7,0.9,1.0,4.5,0.0,0.9,1.2,3.8,1.9,2.0,2.4,17.7,3.2,1.6,0.9,1.6,1.5,1.2,0.6,3.4,0.5,0.7,0.9,1.4,3.6,1.1,18.1,0.8,1.2,1.6,1.5,1.8,3.6,1.1,10.4,0.6,1.7,1.5,1.5,1.1,0.8,2.2,1.5,17.3,6.1,1.9,0.9,3.8,1.6,1.6,2.1,4.3,0.5,5.2,1.2,1.4,1.1,0.3,1.5,0.2,5.5,1.2,1.0,3.1,1.5,2.3,1.3,2.2,2.0,1.5,3.2,0.7,0.8,0.6,2.0,2.1,1.1,1.3,1.4,3.2,16.6,0.7,2.3,4.2,1.5,2.7,1.6,0.8,0.7,1.4,1.2,0.8,1.0,1.8,2.4,0.4,2.4,2.5,2.8,0.8,3.2,1.2,18.7,4.0,0.8,1.1,0.8,9.2,0.5,5.2,0.5,0.7,2.7,2.5,0.6,1.6,1.7,3.0,2.5,1.0,1.0,3.8,1.4,2.0,2.7,5.3,3.2,0.7,2.1,1.0,1.5,0.3,1.1,3.5,1.7,0.5,1.5,0.7,1.3,1.1,1.3,0.5,1.5,2.0,3.8,5.8,2.7,0.5,4.0,1.0,1.5,0.7,0.9,0.3,1.2,0.3,0.9,17.0,6.6,4.4,1.5,0.8,0.8,2.7,1.2,1.6,7.9,0.7,1.8,3.2,0.5,1.2,3.2,1.5,0.5,1.4,1.0,1.2,1.1,0.6,1.2,2.4,8.6,2.0,1.0,0.9,0.9,1.2,1.4,1.9,3.2,0.7,3.1,2.2,0.8,2.0,1.2,1.1,2.6,0.5,1.9,0.0,1.6,0.9,2.6,1.3,0.5,3.7,0.7,1.2,2.0,0.9,2.0,1.7,1.4,0.8,1.7,2.1,10.3,1.3,1.2,0.9,1.4,2.1,2.1,7.2,1.5,2.2,1.4,2.0,0.9,0.9,2.4,0.1,5.7,1.0,1.6,0.7,1.2,1.7,2.4,2.4,2.1,0.9,1.1,0.6,1.1,0.6,1.5,1.4,1.3,0.6,0.8,1.3,1.0,0.4,0.6,1.1,6.5,1.7,2.4,1.2,1.5,0.8,2.3,0.9,2.7,1.7,1.2,3.9,1.2,1.3,0.3,1.2,1.2,2.0,1.9,2.2,1.2,2.5,2.0,1.3,0.7,2.2,1.6,0.9,0.7,0.9,1.1,1.2,2.0,0.9,1.7,1.2,4.0,2.8,0.4,2.1,1.1,2.1,1.7,4.4,1.8,1.6,6.5,0.7,2.3,1.4,1.5,0.3,1.6,1.1,1.8,2.0,4.8,1.8,1.3,1.4,22.9,1.3,1.6,1.7,1.5,0.9,0.7,1.3,1.5,8.3,1.2,0.6,1.4,1.0,0.8,1.5,4.6,9.8,0.4,1.3,1.2,1.0,0.4,1.1,1.5,2.5,0.5,5.8,1.4,1.4,1.4,1.1,0.9,1.0,2.4,1.3,0.3,1.1,1.0,1.5,1.8,1.8,1.0,2.1,3.5,2.6,2.4,2.3,2.7,2.8,3.3,1.1,1.1,1.5,1.8,0.2,1.7,4.3,1.6,0.8,3.4,2.9,0.6,1.4,0.7,2.9,1.1,1.9,0.7,1.1,1.8,1.3,1.7,0.9,1.3,0.6,2.2,2.6,0.5,2.6,1.3,0.6,1.0,0.6,7.5,9.3,1.5,3.9,2.3,2.8,0.9,0.8,2.8,1.1,1.1,0.7,0.5,1.9,0.7,0.8,2.9,11.1,0.9,2.3,2.5,1.4,3.8,0.6,1.1,0.9,0.7,1.6,2.7,10.6,3.1,2.6,1.1,1.1,2.8,1.3,2.6,2.5,2.7,2.2,8.4,2.1,1.3,0.6,1.3,2.5,1.4,0.8,7.8,1.6,1.5,1.9,2.4,2.7,0.5,1.9,2.3,0.5,1.0,1.5,2.7,1.2,2.2,0.4,0.0,2.3,0.7,1.2,0.9,9.8,0.1,4.4,1.1,1.0,11.7,11.8,0.9,0.3,1.7,3.0,1.1,1.7,1.9,1.2,3.4,1.2,5.6,6.8,0.9,0.6,1.0,1.6,3.6,0.8,13.2,1.3,4.1,3.0,8.4,2.8,2.7,1.5,3.7,1.4,6.0,4.7,2.0,7.3,1.5,1.5,2.3,1.3,1.0,1.9,3.3,4.4,1.0,3.4,2.1,8.9,2.6,3.4,3.4,1.0,0.9,2.7,2.2,0.7,1.1,0.5,1.9,3.5,14.2,0.8,2.6,1.1,1.2,9.4,2.3,1.0,0.5,0.9,1.3,1.2,3.0,1.1,0.5,1.9,1.3,2.7,2.5,3.8,0.8,1.0,2.3,8.5,7.4,0.7,0.4,1.0,3.1,0.8,1.0,2.0,0.7,3.0,1.6,3.2,1.2,2.7,2.5,3.0,6.0,1.2,3.0,1.5,0.7,6.7,0.7,2.2,2.0,3.1,1.5,1.8,1.4,1.8,0.7,1.4,0.5,1.3,12.2,5.3,2.8,0.7,1.7,1.3,3.1,1.9,1.0,1.0,0.4,1.3,1.8,1.1,0.7,4.0,1.3,5.3,9.5,2.2,3.0,1.4,10.9,0.1,9.9,0.9,2.2,2.8,1.5,1.1,10.2,1.5,1.2,2.1,0.8,0.0,0.9,2.0,0.5,2.7,1.2,7.3,3.0,0.0,1.2,2.1,8.5,7.8,4.0,2.5,1.1,1.9,2.8,6.7,3.4,1.4,2.7,2.1,4.2,2.0,0.7,1.1,1.3,0.3,1.0,2.7,2.3,2.2,1.9,0.6,0.6,1.8,3.3,0.8,5.3,4.2,1.8,0.5,5.2,1.3,10.0,2.6,6.0,2.6,2.4,5.4,4.0,1.3,0.8,1.1,0.8,3.8,2.2,4.6,1.1,0.8,3.1,0.8,0.5,0.6,1.5,1.7,1.3,2.0,4.2,2.0,8.8,0.4,0.9,1.7,1.2,1.7,9.0,0.8,1.2,1.3,0.5,2.2,3.4,1.7,0.7,3.9,1.6,2.8,0.8,1.3,5.3,0.8,1.4,0.6,1.6,3.5,2.5,7.5,1.1,3.4,0.8,2.5,0.5,1.4,10.6,6.1,1.0,0.9,0.0,3.7,2.0,1.3,1.3,2.1,1.3,3.0,3.1,0.8,3.4,0.9,3.0,1.3,7.9,2.4,1.6,1.7,1.4,2.8,2.7,2.3,1.7,0.3,1.3,4.1,2.3,1.4,1.5,1.3,0.7,2.9,0.2,2.5,1.5,1.1,2.8,0.6,0.5,1.6,4.1,1.3,2.5,3.4,2.5,3.0,0.8,1.2,3.3,5.5,3.2,1.2,0.9,1.5,6.9,0.3,1.3,1.7,1.3,3.0,0.5,2.1,3.6,3.0,0.6,3.1,1.2,3.0,2.4,6.5,2.7,2.3],\"colorscale\":\"Jet\"}}];\n",
       "            var layout = {\"title\":\"Plot Fare depending on Time\",\"showlegend\":false,\"xaxis\":{\"title\":\"Time\",\"_isSubplotObj\":true},\"yaxis\":{\"title\":\"Fares\",\"_isSubplotObj\":true}};\n",
       "            Plotly.newPlot('03aa5f7f-36ae-40e4-bb87-5a7245c0b02a', data, layout);\n",
       "        \r\n",
       "});\r\n",
       "};\r\n",
       "if ((typeof(require) !==  typeof(Function)) || (typeof(require.config) !== typeof(Function))) {\r\n",
       "    var script = document.createElement(\"script\"); \r\n",
       "    script.setAttribute(\"src\", \"https://cdnjs.cloudflare.com/ajax/libs/require.js/2.3.6/require.min.js\");\r\n",
       "    script.onload = function(){\r\n",
       "        renderPlotly();\r\n",
       "    };\r\n",
       "    document.getElementsByTagName(\"head\")[0].appendChild(script); \r\n",
       "}\r\n",
       "else {\r\n",
       "    renderPlotly();\r\n",
       "}\r\n",
       "</script>\r\n"
      ]
     },
     "metadata": {},
     "output_type": "display_data"
    }
   ],
   "source": [
    "// Plot Fare depending on Time\n",
    "\n",
    "var chartFareVsTime = Chart.Plot(\n",
    "    new Graph.Scatter()\n",
    "    {\n",
    "        x = times,\n",
    "        y = fares,\n",
    "        mode = \"markers\",\n",
    "        marker = new Graph.Marker()\n",
    "        {\n",
    "            color = distances,\n",
    "            colorscale = \"Jet\"\n",
    "        }\n",
    "    }\n",
    ");\n",
    "\n",
    "var layout = new Layout.Layout(){title=\"Plot Fare depending on Time\"};\n",
    "chartFareVsTime.WithLayout(layout);\n",
    "chartFareVsTime.Width = 500;\n",
    "chartFareVsTime.Height = 500;\n",
    "chartFareVsTime.WithXTitle(\"Time\");\n",
    "chartFareVsTime.WithYTitle(\"Fares\");\n",
    "chartFareVsTime.WithLegend(false);\n",
    "\n",
    "display(chartFareVsTime);"
   ]
  },
  {
   "cell_type": "markdown",
   "metadata": {},
   "source": [
    "# Plot Fares depending on trip's Distance "
   ]
  },
  {
   "cell_type": "code",
   "execution_count": 9,
   "metadata": {},
   "outputs": [
    {
     "data": {
      "text/html": [
       "<div id=\"70faf1bc-574c-46a9-950f-9f057ba11ff3\" style=\"width: 500px; height: 500px;\"></div>\r\n",
       "<script type=\"text/javascript\">\r\n",
       "\r\n",
       "var renderPlotly = function() {\r\n",
       "    var xplotRequire = require.config({context:'xplot-3.0.1',paths:{plotly:'https://cdn.plot.ly/plotly-1.49.2.min'}}) || require;\r\n",
       "    xplotRequire(['plotly'], function(Plotly) {\r\n",
       "\n",
       "            var data = [{\"type\":\"scatter\",\"x\":[3.8,1.5,1.4,0.6,1.1,9.6,2.3,1.4,1.5,0.6,1.2,0.7,1.3,0.8,1.1,5.6,0.6,1.3,1.7,0.6,0.0,0.8,0.4,0.6,1.4,0.8,9.8,1.4,1.4,2.0,0.5,1.3,3.8,1.4,2.5,1.4,0.4,0.8,1.0,4.7,16.4,2.1,1.3,0.6,6.5,1.7,2.4,0.4,1.1,0.5,3.6,1.1,9.3,0.9,1.3,6.9,2.6,1.1,0.9,2.6,3.7,0.9,2.0,6.3,2.4,1.1,1.4,1.6,0.8,1.5,3.4,1.6,1.1,18.8,1.6,1.8,1.0,0.7,5.9,1.2,3.7,0.4,1.8,4.5,0.6,0.8,0.8,0.6,1.3,4.2,0.8,3.3,5.2,1.6,0.9,0.4,1.3,1.7,1.0,1.5,1.9,0.8,2.1,0.6,1.2,1.0,7.2,1.0,3.6,0.4,0.9,10.8,2.4,2.4,3.8,1.2,0.9,2.1,2.0,0.7,2.8,1.3,1.9,3.2,0.3,2.0,4.0,9.2,0.6,10.2,3.6,0.8,1.4,0.9,1.1,1.0,0.8,1.8,5.0,3.0,1.8,1.5,2.5,1.3,3.6,1.3,0.3,1.5,1.3,3.2,2.8,3.5,0.6,1.1,0.7,0.8,1.8,1.5,0.3,5.7,0.9,1.7,1.3,0.6,1.1,1.0,0.8,0.5,0.4,1.5,1.3,2.1,0.6,2.2,1.4,0.5,0.3,8.7,2.3,1.0,0.8,1.1,2.4,4.3,2.0,1.2,1.1,2.4,0.5,1.6,1.6,2.3,2.7,0.9,1.0,4.5,0.0,0.9,1.2,3.8,1.9,2.0,2.4,17.7,3.2,1.6,0.9,1.6,1.5,1.2,0.6,3.4,0.5,0.7,0.9,1.4,3.6,1.1,18.1,0.8,1.2,1.6,1.5,1.8,3.6,1.1,10.4,0.6,1.7,1.5,1.5,1.1,0.8,2.2,1.5,17.3,6.1,1.9,0.9,3.8,1.6,1.6,2.1,4.3,0.5,5.2,1.2,1.4,1.1,0.3,1.5,0.2,5.5,1.2,1.0,3.1,1.5,2.3,1.3,2.2,2.0,1.5,3.2,0.7,0.8,0.6,2.0,2.1,1.1,1.3,1.4,3.2,16.6,0.7,2.3,4.2,1.5,2.7,1.6,0.8,0.7,1.4,1.2,0.8,1.0,1.8,2.4,0.4,2.4,2.5,2.8,0.8,3.2,1.2,18.7,4.0,0.8,1.1,0.8,9.2,0.5,5.2,0.5,0.7,2.7,2.5,0.6,1.6,1.7,3.0,2.5,1.0,1.0,3.8,1.4,2.0,2.7,5.3,3.2,0.7,2.1,1.0,1.5,0.3,1.1,3.5,1.7,0.5,1.5,0.7,1.3,1.1,1.3,0.5,1.5,2.0,3.8,5.8,2.7,0.5,4.0,1.0,1.5,0.7,0.9,0.3,1.2,0.3,0.9,17.0,6.6,4.4,1.5,0.8,0.8,2.7,1.2,1.6,7.9,0.7,1.8,3.2,0.5,1.2,3.2,1.5,0.5,1.4,1.0,1.2,1.1,0.6,1.2,2.4,8.6,2.0,1.0,0.9,0.9,1.2,1.4,1.9,3.2,0.7,3.1,2.2,0.8,2.0,1.2,1.1,2.6,0.5,1.9,0.0,1.6,0.9,2.6,1.3,0.5,3.7,0.7,1.2,2.0,0.9,2.0,1.7,1.4,0.8,1.7,2.1,10.3,1.3,1.2,0.9,1.4,2.1,2.1,7.2,1.5,2.2,1.4,2.0,0.9,0.9,2.4,0.1,5.7,1.0,1.6,0.7,1.2,1.7,2.4,2.4,2.1,0.9,1.1,0.6,1.1,0.6,1.5,1.4,1.3,0.6,0.8,1.3,1.0,0.4,0.6,1.1,6.5,1.7,2.4,1.2,1.5,0.8,2.3,0.9,2.7,1.7,1.2,3.9,1.2,1.3,0.3,1.2,1.2,2.0,1.9,2.2,1.2,2.5,2.0,1.3,0.7,2.2,1.6,0.9,0.7,0.9,1.1,1.2,2.0,0.9,1.7,1.2,4.0,2.8,0.4,2.1,1.1,2.1,1.7,4.4,1.8,1.6,6.5,0.7,2.3,1.4,1.5,0.3,1.6,1.1,1.8,2.0,4.8,1.8,1.3,1.4,22.9,1.3,1.6,1.7,1.5,0.9,0.7,1.3,1.5,8.3,1.2,0.6,1.4,1.0,0.8,1.5,4.6,9.8,0.4,1.3,1.2,1.0,0.4,1.1,1.5,2.5,0.5,5.8,1.4,1.4,1.4,1.1,0.9,1.0,2.4,1.3,0.3,1.1,1.0,1.5,1.8,1.8,1.0,2.1,3.5,2.6,2.4,2.3,2.7,2.8,3.3,1.1,1.1,1.5,1.8,0.2,1.7,4.3,1.6,0.8,3.4,2.9,0.6,1.4,0.7,2.9,1.1,1.9,0.7,1.1,1.8,1.3,1.7,0.9,1.3,0.6,2.2,2.6,0.5,2.6,1.3,0.6,1.0,0.6,7.5,9.3,1.5,3.9,2.3,2.8,0.9,0.8,2.8,1.1,1.1,0.7,0.5,1.9,0.7,0.8,2.9,11.1,0.9,2.3,2.5,1.4,3.8,0.6,1.1,0.9,0.7,1.6,2.7,10.6,3.1,2.6,1.1,1.1,2.8,1.3,2.6,2.5,2.7,2.2,8.4,2.1,1.3,0.6,1.3,2.5,1.4,0.8,7.8,1.6,1.5,1.9,2.4,2.7,0.5,1.9,2.3,0.5,1.0,1.5,2.7,1.2,2.2,0.4,0.0,2.3,0.7,1.2,0.9,9.8,0.1,4.4,1.1,1.0,11.7,11.8,0.9,0.3,1.7,3.0,1.1,1.7,1.9,1.2,3.4,1.2,5.6,6.8,0.9,0.6,1.0,1.6,3.6,0.8,13.2,1.3,4.1,3.0,8.4,2.8,2.7,1.5,3.7,1.4,6.0,4.7,2.0,7.3,1.5,1.5,2.3,1.3,1.0,1.9,3.3,4.4,1.0,3.4,2.1,8.9,2.6,3.4,3.4,1.0,0.9,2.7,2.2,0.7,1.1,0.5,1.9,3.5,14.2,0.8,2.6,1.1,1.2,9.4,2.3,1.0,0.5,0.9,1.3,1.2,3.0,1.1,0.5,1.9,1.3,2.7,2.5,3.8,0.8,1.0,2.3,8.5,7.4,0.7,0.4,1.0,3.1,0.8,1.0,2.0,0.7,3.0,1.6,3.2,1.2,2.7,2.5,3.0,6.0,1.2,3.0,1.5,0.7,6.7,0.7,2.2,2.0,3.1,1.5,1.8,1.4,1.8,0.7,1.4,0.5,1.3,12.2,5.3,2.8,0.7,1.7,1.3,3.1,1.9,1.0,1.0,0.4,1.3,1.8,1.1,0.7,4.0,1.3,5.3,9.5,2.2,3.0,1.4,10.9,0.1,9.9,0.9,2.2,2.8,1.5,1.1,10.2,1.5,1.2,2.1,0.8,0.0,0.9,2.0,0.5,2.7,1.2,7.3,3.0,0.0,1.2,2.1,8.5,7.8,4.0,2.5,1.1,1.9,2.8,6.7,3.4,1.4,2.7,2.1,4.2,2.0,0.7,1.1,1.3,0.3,1.0,2.7,2.3,2.2,1.9,0.6,0.6,1.8,3.3,0.8,5.3,4.2,1.8,0.5,5.2,1.3,10.0,2.6,6.0,2.6,2.4,5.4,4.0,1.3,0.8,1.1,0.8,3.8,2.2,4.6,1.1,0.8,3.1,0.8,0.5,0.6,1.5,1.7,1.3,2.0,4.2,2.0,8.8,0.4,0.9,1.7,1.2,1.7,9.0,0.8,1.2,1.3,0.5,2.2,3.4,1.7,0.7,3.9,1.6,2.8,0.8,1.3,5.3,0.8,1.4,0.6,1.6,3.5,2.5,7.5,1.1,3.4,0.8,2.5,0.5,1.4,10.6,6.1,1.0,0.9,0.0,3.7,2.0,1.3,1.3,2.1,1.3,3.0,3.1,0.8,3.4,0.9,3.0,1.3,7.9,2.4,1.6,1.7,1.4,2.8,2.7,2.3,1.7,0.3,1.3,4.1,2.3,1.4,1.5,1.3,0.7,2.9,0.2,2.5,1.5,1.1,2.8,0.6,0.5,1.6,4.1,1.3,2.5,3.4,2.5,3.0,0.8,1.2,3.3,5.5,3.2,1.2,0.9,1.5,6.9,0.3,1.3,1.7,1.3,3.0,0.5,2.1,3.6,3.0,0.6,3.1,1.2,3.0,2.4,6.5,2.7,2.3],\"y\":[17.5,8.0,8.5,4.5,8.5,27.5,11.5,7.5,7.5,5.0,6.0,7.0,7.0,5.5,7.0,19.0,6.0,6.5,9.0,4.5,52.0,6.5,3.5,4.5,8.5,5.5,32.0,8.5,8.5,9.0,4.0,7.0,16.0,7.5,11.5,8.0,5.5,5.0,7.0,19.5,52.0,10.0,7.0,5.0,24.5,9.5,12.5,4.0,7.0,5.5,17.5,7.0,33.5,5.5,7.0,23.0,11.5,6.5,6.5,11.5,13.0,9.0,10.5,18.5,11.0,5.5,6.5,7.0,4.5,7.5,13.0,8.0,6.5,52.0,8.5,12.0,10.0,4.0,20.0,7.0,16.0,4.5,10.0,17.5,4.5,4.5,5.5,5.0,8.0,15.0,6.0,13.0,23.5,7.0,4.5,4.0,6.5,8.0,6.5,7.5,10.5,7.0,11.5,5.5,8.5,6.0,21.0,5.5,19.0,3.5,5.5,31.0,12.0,11.0,17.0,7.0,5.0,8.5,12.0,5.0,11.5,7.0,11.5,15.0,4.0,12.5,15.5,28.5,6.5,31.5,13.5,6.0,8.0,5.5,6.5,7.5,5.5,9.0,20.5,12.0,8.0,7.5,16.0,9.5,15.0,7.0,3.5,8.0,7.0,12.5,13.5,14.0,4.5,7.5,5.0,6.0,9.0,8.5,4.0,22.0,5.0,9.5,7.0,4.5,8.5,7.5,5.0,4.0,5.5,10.5,7.0,8.0,4.0,8.5,14.5,5.0,3.0,29.5,11.5,10.0,6.0,7.0,10.0,16.0,9.5,6.5,7.5,11.5,5.0,11.0,9.0,11.0,11.0,4.5,6.5,16.5,2.5,5.5,6.5,15.0,9.0,10.5,10.0,52.0,11.0,11.5,6.0,8.5,9.0,7.0,4.5,13.0,5.0,5.5,5.5,7.0,17.0,8.5,71.0,5.0,6.5,9.5,8.5,11.5,13.5,6.5,34.0,4.0,8.5,8.0,9.5,9.0,5.0,8.0,7.5,52.0,22.0,8.5,7.0,15.5,10.0,8.5,9.0,17.0,5.5,20.5,8.5,10.0,10.0,4.0,7.5,3.0,20.5,8.5,6.5,14.5,8.0,11.0,7.5,11.0,12.0,7.5,13.0,6.5,9.0,5.0,10.5,11.5,6.5,7.0,6.5,12.0,62.0,5.0,11.5,16.0,6.5,12.0,11.0,7.5,5.0,8.5,10.5,6.0,6.0,9.5,13.0,3.5,11.5,12.5,13.0,6.0,17.0,9.0,52.0,14.5,6.5,6.0,5.0,29.5,3.5,19.5,5.5,5.0,13.5,11.0,5.0,8.5,8.5,11.0,10.0,6.5,6.5,16.5,8.0,10.0,13.5,20.0,15.5,4.5,10.5,8.5,8.0,3.0,8.5,14.5,8.5,4.5,9.0,5.5,7.5,8.0,6.5,4.0,9.5,9.0,15.5,19.5,18.0,6.0,14.0,6.0,9.5,4.0,5.0,4.0,5.5,3.5,6.5,52.0,20.5,17.0,8.0,7.5,8.0,13.0,7.0,10.0,23.5,4.5,8.5,14.0,4.5,8.5,13.5,9.5,4.0,11.0,5.5,6.5,6.5,5.5,7.0,12.5,25.5,9.0,6.0,5.5,7.0,7.0,6.5,8.5,11.5,4.5,13.0,13.5,5.5,8.5,7.5,7.5,12.0,6.5,11.0,2.5,9.0,5.0,11.0,7.0,5.0,18.0,5.0,6.0,10.5,5.5,10.0,17.0,8.0,4.5,9.5,11.0,31.5,6.5,8.0,7.0,7.5,11.0,11.0,27.0,8.0,12.5,7.0,11.5,7.0,7.0,11.5,3.5,18.5,6.0,8.0,5.0,7.5,8.0,12.5,13.5,10.0,6.5,9.0,6.0,6.0,4.0,8.0,7.5,9.0,5.0,7.0,7.0,7.0,4.0,4.0,5.5,22.0,8.5,11.5,7.0,10.0,5.5,10.5,8.0,13.0,9.0,9.0,15.5,6.5,7.0,4.0,6.0,6.0,9.0,9.0,9.5,6.5,12.5,11.5,8.0,5.5,8.5,9.5,5.0,5.0,8.0,7.0,7.0,9.5,7.0,8.5,7.5,17.5,12.0,4.0,8.0,8.0,10.5,7.5,16.0,8.5,8.5,23.0,5.5,10.0,8.0,9.0,4.0,8.0,7.0,8.5,9.0,19.5,9.0,9.5,9.0,52.0,7.0,7.5,11.5,8.5,6.0,4.5,8.0,8.0,24.0,7.5,6.0,9.0,6.0,7.5,7.0,18.0,32.5,3.5,8.5,6.5,7.0,3.5,7.0,7.0,10.5,4.5,19.5,7.5,9.5,12.5,7.5,6.0,6.0,11.0,6.5,4.5,6.5,6.5,8.5,9.5,10.0,8.0,9.5,12.5,10.5,12.5,10.5,13.0,13.5,15.5,5.5,7.5,7.0,9.5,3.0,8.5,17.5,8.0,5.5,12.0,12.5,4.0,9.5,7.0,13.0,5.0,10.0,4.0,5.0,12.0,10.0,9.5,4.5,7.0,4.0,10.5,9.5,4.0,14.0,7.5,4.0,11.5,4.5,24.0,29.5,9.5,17.5,13.5,10.5,6.0,8.0,13.0,6.0,7.5,5.0,3.5,10.0,6.0,6.5,11.5,35.0,5.5,11.5,12.0,8.0,17.5,5.0,6.5,6.5,5.0,13.0,11.0,32.5,12.0,11.0,7.5,8.0,11.5,6.0,11.0,15.0,13.0,9.5,25.0,9.5,7.0,4.5,6.5,10.0,7.0,7.0,26.5,7.5,10.0,7.0,10.0,11.5,4.0,8.0,12.0,4.0,5.5,9.5,15.5,7.0,15.5,3.5,2.5,9.0,5.0,6.0,5.5,30.5,3.0,16.0,7.0,5.5,39.5,35.0,5.5,3.5,8.5,12.0,8.0,7.0,7.5,7.5,14.5,7.0,20.5,21.5,6.0,6.5,6.5,8.0,13.5,5.5,39.0,6.0,17.0,12.5,24.5,11.0,10.0,7.0,15.5,9.5,22.0,17.0,8.0,22.0,7.0,8.0,15.5,12.0,3.0,9.0,14.5,16.5,6.5,13.5,7.5,25.5,13.0,14.0,15.5,5.5,5.0,14.5,9.0,5.0,6.5,4.5,8.5,14.0,40.0,5.0,10.5,6.0,8.0,34.0,11.0,6.5,6.0,9.0,7.0,10.5,15.0,8.0,4.5,11.0,6.0,10.5,12.0,17.0,5.0,5.0,11.5,24.5,52.0,4.5,4.0,6.0,14.0,5.0,8.0,12.0,5.0,14.0,7.0,14.0,7.0,9.5,9.5,12.0,20.0,6.0,12.5,7.5,4.5,25.5,4.5,14.0,10.0,12.5,7.5,9.0,6.5,8.5,4.0,8.5,4.0,7.0,37.5,20.0,15.5,5.0,8.5,7.5,15.5,13.5,6.5,8.5,3.5,8.5,7.5,6.5,5.5,18.0,7.0,16.0,28.0,9.5,15.0,6.5,31.5,5.0,30.5,5.5,11.0,14.5,10.5,7.0,34.0,10.0,9.0,11.5,5.0,2.5,5.0,8.5,4.5,11.0,6.0,23.5,11.5,2.5,9.5,11.5,24.5,25.0,14.0,11.5,9.0,10.5,15.5,26.5,15.0,6.0,11.5,9.5,25.0,9.5,6.0,6.5,6.5,4.0,6.5,13.5,10.5,9.0,9.0,4.0,4.5,8.5,13.5,5.0,19.0,15.5,9.0,4.5,17.5,7.0,34.5,10.0,21.0,11.0,10.0,19.5,15.5,7.5,5.0,7.5,5.5,13.5,8.5,15.0,5.5,5.0,11.0,6.5,4.0,4.0,8.5,8.0,6.0,8.5,17.0,9.5,26.5,4.0,5.0,6.5,7.0,8.5,28.5,5.0,7.0,7.0,4.5,10.5,13.5,8.0,4.5,15.0,7.5,11.0,5.5,6.5,19.5,5.0,6.5,4.5,8.0,14.0,9.0,24.0,6.5,13.0,5.0,12.0,4.5,8.0,32.5,21.5,6.5,5.0,2.5,16.5,9.5,8.5,8.5,10.5,7.0,13.0,15.0,6.5,13.0,5.5,13.0,8.0,24.5,12.0,7.5,8.0,7.5,11.0,11.0,9.5,7.0,4.0,6.5,14.5,10.0,8.5,7.0,6.5,5.5,14.0,3.5,11.0,8.0,7.0,12.0,5.0,6.5,8.5,14.0,6.0,10.0,14.0,11.0,12.0,4.5,6.0,16.0,19.0,16.0,8.0,6.0,7.0,22.5,3.5,7.5,7.0,5.5,11.5,4.0,8.5,14.5,11.5,5.5,11.5,6.0,11.0,9.5,19.5,9.5,8.5],\"mode\":\"markers\",\"marker\":{\"color\":[1271.0,474.0,637.0,181.0,661.0,935.0,869.0,454.0,366.0,252.0,314.0,480.0,386.0,351.0,407.0,970.0,371.0,367.0,621.0,243.0,3.0,485.0,88.0,160.0,596.0,270.0,1728.0,493.0,655.0,571.0,144.0,453.0,1074.0,470.0,821.0,539.0,397.0,223.0,457.0,1527.0,1785.0,612.0,467.0,262.0,1603.0,659.0,1069.0,139.0,411.0,340.0,1439.0,425.0,2561.0,308.0,385.0,1267.0,829.0,319.0,390.0,820.0,702.0,771.0,850.0,846.0,697.0,244.0,299.0,338.0,177.0,356.0,778.0,514.0,372.0,2104.0,489.0,1000.0,840.0,123.0,1070.0,427.0,1120.0,241.0,677.0,1151.0,176.0,133.0,302.0,284.0,543.0,668.0,402.0,887.0,1906.0,357.0,143.0,135.0,332.0,460.0,421.0,482.0,765.0,543.0,879.0,384.0,633.0,348.0,736.0,257.0,1600.0,74.0,275.0,1531.0,902.0,813.0,1357.0,433.0,194.0,453.0,979.0,233.0,715.0,433.0,934.0,1047.0,186.0,1086.0,910.0,1220.0,462.0,1931.0,731.0,381.0,542.0,254.0,408.0,569.0,325.0,629.0,1603.0,572.0,485.0,415.0,1445.0,721.0,1149.0,386.0,65.0,525.0,355.0,775.0,1029.0,972.0,214.0,552.0,235.0,341.0,574.0,549.0,205.0,1605.0,210.0,696.0,397.0,224.0,632.0,529.0,208.0,177.0,377.0,859.0,361.0,320.0,162.0,386.0,1461.0,289.0,95.0,2129.0,893.0,876.0,371.0,430.0,491.0,981.0,591.0,377.0,554.0,865.0,374.0,945.0,615.0,758.0,668.0,128.0,429.0,1023.0,1789.0,214.0,370.0,1055.0,593.0,681.0,665.0,2638.0,562.0,1005.0,373.0,587.0,682.0,380.0,248.0,878.0,271.0,307.0,303.0,397.0,1393.0,671.0,2528.0,249.0,378.0,666.0,553.0,966.0,850.0,369.0,1775.0,173.0,539.0,483.0,720.0,674.0,208.0,263.0,417.0,1218.0,1315.0,448.0,497.0,1151.0,815.0,599.0,516.0,1273.0,332.0,1524.0,670.0,816.0,822.0,180.0,462.0,65.0,1338.0,621.0,387.0,1029.0,537.0,764.0,510.0,805.0,1006.0,403.0,890.0,499.0,741.0,263.0,731.0,879.0,396.0,361.0,289.0,701.0,1369.0,272.0,886.0,1033.0,345.0,893.0,876.0,581.0,299.0,655.0,883.0,363.0,363.0,724.0,999.0,90.0,813.0,934.0,1006.0,368.0,1431.0,691.0,3633.0,867.0,446.0,304.0,217.0,1535.0,107.0,1102.0,395.0,229.0,1101.0,759.0,250.0,599.0,523.0,596.0,594.0,397.0,443.0,1164.0,511.0,638.0,1093.0,1504.0,1309.0,183.0,749.0,661.0,537.0,84.0,688.0,1054.0,549.0,193.0,689.0,369.0,495.0,581.0,329.0,147.0,686.0,493.0,1018.0,918.0,1667.0,396.0,801.0,362.0,733.0,153.0,188.0,167.0,198.0,137.0,443.0,2962.0,874.0,1147.0,577.0,566.0,648.0,1016.0,502.0,822.0,886.0,196.0,476.0,971.0,241.0,605.0,1034.0,794.0,198.0,959.0,331.0,374.0,390.0,333.0,443.0,991.0,1263.0,598.0,313.0,285.0,487.0,464.0,340.0,457.0,612.0,155.0,869.0,1117.0,234.0,471.0,483.0,570.0,826.0,670.0,852.0,2.0,646.0,180.0,655.0,404.0,264.0,1492.0,261.0,343.0,812.0,271.0,680.0,1645.0,497.0,169.0,689.0,828.0,1788.0,274.0,553.0,469.0,385.0,745.0,825.0,1815.0,524.0,1037.0,358.0,837.0,490.0,479.0,863.0,117.0,863.0,294.0,505.0,282.0,494.0,453.0,992.0,1124.0,598.0,375.0,740.0,400.0,321.0,95.0,513.0,477.0,725.0,296.0,542.0,392.0,451.0,116.0,122.0,233.0,1231.0,594.0,827.0,461.0,883.0,290.0,695.0,643.0,1015.0,656.0,734.0,1187.0,332.0,435.0,202.0,302.0,252.0,597.0,566.0,553.0,350.0,955.0,961.0,592.0,301.0,376.0,670.0,220.0,273.0,651.0,397.0,397.0,564.0,515.0,535.0,491.0,1448.0,838.0,156.0,368.0,610.0,742.0,352.0,1090.0,530.0,621.0,1249.0,349.0,592.0,511.0,656.0,186.0,472.0,461.0,547.0,553.0,1467.0,564.0,720.0,673.0,3847.0,458.0,375.0,960.0,608.0,368.0,188.0,560.0,463.0,931.0,487.0,439.0,724.0,321.0,587.0,420.0,1108.0,1740.0,113.0,618.0,331.0,489.0,99.0,419.0,367.0,686.0,234.0,985.0,418.0,775.0,1161.0,491.0,340.0,315.0,756.0,353.0,223.0,320.0,437.0,609.0,726.0,758.0,586.0,608.0,728.0,592.0,965.0,794.0,1034.0,1086.0,1277.0,261.0,544.0,413.0,628.0,55.0,496.0,1279.0,516.0,339.0,609.0,922.0,131.0,681.0,478.0,959.0,169.0,845.0,197.0,187.0,988.0,831.0,732.0,145.0,457.0,89.0,731.0,413.0,143.0,1128.0,529.0,134.0,1024.0,219.0,1141.0,1512.0,738.0,1396.0,1102.0,649.0,349.0,673.0,911.0,310.0,533.0,232.0,89.0,707.0,354.0,477.0,745.0,1799.0,267.0,836.0,871.0,545.0,1430.0,230.0,346.0,426.0,257.0,1167.0,681.0,1412.0,689.0,644.0,526.0,550.0,782.0,219.0,633.0,1282.0,1020.0,541.0,1106.0,566.0,443.0,172.0,300.0,604.0,339.0,487.0,1510.0,449.0,805.0,299.0,594.0,668.0,194.0,411.0,931.0,157.0,283.0,664.0,1340.0,435.0,1435.0,114.0,33.0,473.0,215.0,272.0,302.0,1471.0,68.0,905.0,467.0,290.0,2471.0,1511.0,237.0,116.0,581.0,759.0,536.0,336.0,302.0,510.0,1052.0,463.0,1212.0,1095.0,330.0,442.0,383.0,537.0,644.0,287.0,2087.0,271.0,1312.0,816.0,900.0,673.0,439.0,380.0,1045.0,784.0,1396.0,861.0,330.0,694.0,397.0,527.0,1447.0,1150.0,54.0,526.0,1043.0,952.0,396.0,828.0,317.0,817.0,999.0,875.0,1156.0,276.0,197.0,1225.0,443.0,283.0,374.0,267.0,539.0,916.0,1848.0,230.0,600.0,301.0,569.0,2245.0,723.0,447.0,437.0,769.0,413.0,906.0,1203.0,646.0,221.0,857.0,211.0,537.0,766.0,1210.0,203.0,149.0,708.0,771.0,526.0,203.0,125.0,326.0,1014.0,266.0,654.0,992.0,289.0,1023.0,290.0,872.0,430.0,501.0,375.0,774.0,1256.0,337.0,847.0,415.0,171.0,1790.0,185.0,1183.0,679.0,621.0,405.0,607.0,313.0,525.0,165.0,592.0,158.0,395.0,1858.0,1208.0,1344.0,266.0,422.0,515.0,1310.0,1223.0,409.0,651.0,99.0,650.0,405.0,381.0,324.0,1404.0,377.0,744.0,1180.0,579.0,1224.0,251.0,1364.0,334.0,1594.0,302.0,749.0,1126.0,856.0,413.0,1958.0,815.0,760.0,789.0,373.0,11.0,209.0,473.0,185.0,663.0,276.0,1133.0,580.0,7.0,768.0,888.0,858.0,1190.0,752.0,725.0,713.0,767.0,1345.0,1894.0,1122.0,228.0,731.0,641.0,2300.0,709.0,390.0,320.0,356.0,180.0,384.0,1133.0,670.0,507.0,532.0,152.0,214.0,542.0,994.0,252.0,1280.0,921.0,566.0,220.0,920.0,408.0,2323.0,487.0,1142.0,665.0,669.0,1066.0,1036.0,496.0,265.0,498.0,306.0,757.0,417.0,747.0,186.0,229.0,489.0,417.0,170.0,142.0,615.0,431.0,276.0,464.0,1055.0,553.0,1314.0,158.0,194.0,212.0,414.0,549.0,1628.0,216.0,469.0,421.0,167.0,765.0,860.0,461.0,172.0,852.0,409.0,641.0,243.0,315.0,1213.0,208.0,392.0,206.0,517.0,854.0,380.0,1349.0,387.0,689.0,203.0,834.0,219.0,575.0,1680.0,1386.0,390.0,204.0,9.0,1249.0,545.0,637.0,591.0,696.0,369.0,916.0,1166.0,405.0,750.0,293.0,912.0,596.0,1165.0,821.0,414.0,472.0,470.0,646.0,510.0,540.0,285.0,197.0,353.0,762.0,562.0,617.0,341.0,390.0,318.0,999.0,103.0,669.0,503.0,470.0,826.0,233.0,529.0,512.0,698.0,292.0,534.0,1002.0,727.0,796.0,167.0,283.0,1346.0,1224.0,1403.0,592.0,359.0,336.0,1178.0,120.0,500.0,304.0,227.0,697.0,97.0,413.0,872.0,652.0,292.0,516.0,301.0,586.0,571.0,717.0,426.0,313.0],\"colorscale\":\"Jet\"}}];\n",
       "            var layout = {\"title\":\"Plot Fare depending on Distance\",\"showlegend\":false,\"xaxis\":{\"title\":\"Distance\",\"_isSubplotObj\":true},\"yaxis\":{\"title\":\"Fares\",\"_isSubplotObj\":true}};\n",
       "            Plotly.newPlot('70faf1bc-574c-46a9-950f-9f057ba11ff3', data, layout);\n",
       "        \r\n",
       "});\r\n",
       "};\r\n",
       "if ((typeof(require) !==  typeof(Function)) || (typeof(require.config) !== typeof(Function))) {\r\n",
       "    var script = document.createElement(\"script\"); \r\n",
       "    script.setAttribute(\"src\", \"https://cdnjs.cloudflare.com/ajax/libs/require.js/2.3.6/require.min.js\");\r\n",
       "    script.onload = function(){\r\n",
       "        renderPlotly();\r\n",
       "    };\r\n",
       "    document.getElementsByTagName(\"head\")[0].appendChild(script); \r\n",
       "}\r\n",
       "else {\r\n",
       "    renderPlotly();\r\n",
       "}\r\n",
       "</script>\r\n"
      ]
     },
     "metadata": {},
     "output_type": "display_data"
    }
   ],
   "source": [
    "// Plot Fare depending on Distance \n",
    "var chartFareVsDist = Chart.Plot(\n",
    "    new Graph.Scatter()\n",
    "    {\n",
    "        x = distances,\n",
    "        y = fares,\n",
    "        mode = \"markers\",\n",
    "        marker = new Graph.Marker()\n",
    "        {\n",
    "            color = times,\n",
    "            colorscale = \"Jet\"\n",
    "        }\n",
    "    }\n",
    ");\n",
    "var layout = new Layout.Layout(){title=\"Plot Fare depending on Distance\"};\n",
    "chartFareVsDist.WithLayout(layout);\n",
    "chartFareVsDist.Width = 500;\n",
    "chartFareVsDist.Height = 500;\n",
    "chartFareVsDist.WithXTitle(\"Distance\");\n",
    "chartFareVsDist.WithYTitle(\"Fares\");\n",
    "chartFareVsDist.WithLegend(false);\n",
    "display(chartFareVsDist);"
   ]
  },
  {
   "cell_type": "markdown",
   "metadata": {},
   "source": [
    "# Plot Fares depending on trip's passengers "
   ]
  },
  {
   "cell_type": "code",
   "execution_count": 10,
   "metadata": {},
   "outputs": [
    {
     "data": {
      "text/html": [
       "<div id=\"8b37a16f-a498-49d6-8b63-1bcd4bb1daf8\" style=\"width: 500px; height: 500px;\"></div>\r\n",
       "<script type=\"text/javascript\">\r\n",
       "\r\n",
       "var renderPlotly = function() {\r\n",
       "    var xplotRequire = require.config({context:'xplot-3.0.1',paths:{plotly:'https://cdn.plot.ly/plotly-1.49.2.min'}}) || require;\r\n",
       "    xplotRequire(['plotly'], function(Plotly) {\r\n",
       "\n",
       "            var data = [{\"type\":\"scatter\",\"x\":[1.0,1.0,1.0,1.0,1.0,1.0,1.0,1.0,1.0,1.0,1.0,1.0,1.0,2.0,1.0,2.0,3.0,2.0,1.0,1.0,1.0,3.0,1.0,2.0,2.0,1.0,1.0,1.0,1.0,1.0,2.0,1.0,2.0,1.0,1.0,2.0,1.0,1.0,1.0,1.0,1.0,2.0,2.0,2.0,1.0,1.0,4.0,1.0,1.0,1.0,1.0,2.0,1.0,1.0,2.0,1.0,1.0,1.0,1.0,3.0,1.0,1.0,1.0,1.0,1.0,1.0,1.0,2.0,1.0,1.0,1.0,1.0,1.0,2.0,1.0,1.0,1.0,1.0,2.0,1.0,1.0,1.0,1.0,1.0,1.0,1.0,2.0,2.0,1.0,1.0,1.0,2.0,1.0,1.0,1.0,1.0,1.0,1.0,1.0,2.0,1.0,1.0,1.0,2.0,1.0,1.0,1.0,3.0,2.0,1.0,1.0,1.0,1.0,1.0,1.0,2.0,1.0,2.0,1.0,2.0,1.0,1.0,1.0,1.0,1.0,2.0,2.0,1.0,1.0,1.0,1.0,2.0,1.0,1.0,1.0,4.0,2.0,3.0,1.0,1.0,1.0,1.0,1.0,1.0,1.0,2.0,1.0,2.0,2.0,1.0,1.0,1.0,1.0,1.0,1.0,1.0,1.0,1.0,1.0,1.0,2.0,1.0,1.0,1.0,1.0,2.0,1.0,1.0,1.0,2.0,2.0,2.0,1.0,1.0,1.0,1.0,1.0,1.0,1.0,1.0,2.0,2.0,1.0,1.0,2.0,1.0,1.0,1.0,1.0,2.0,2.0,3.0,1.0,1.0,1.0,1.0,1.0,1.0,3.0,1.0,2.0,2.0,1.0,2.0,1.0,1.0,1.0,1.0,1.0,1.0,1.0,1.0,1.0,1.0,1.0,1.0,1.0,2.0,1.0,1.0,1.0,1.0,2.0,1.0,1.0,1.0,2.0,2.0,1.0,2.0,1.0,2.0,1.0,2.0,1.0,1.0,1.0,1.0,1.0,1.0,1.0,1.0,1.0,1.0,1.0,1.0,1.0,1.0,3.0,1.0,2.0,1.0,1.0,1.0,1.0,1.0,3.0,1.0,2.0,2.0,1.0,1.0,1.0,1.0,2.0,1.0,1.0,1.0,1.0,1.0,1.0,1.0,2.0,1.0,1.0,1.0,1.0,1.0,1.0,1.0,2.0,1.0,1.0,1.0,1.0,1.0,1.0,1.0,1.0,2.0,1.0,1.0,1.0,1.0,1.0,1.0,2.0,2.0,1.0,2.0,1.0,1.0,1.0,1.0,1.0,2.0,1.0,3.0,1.0,1.0,1.0,1.0,1.0,1.0,1.0,2.0,2.0,1.0,2.0,1.0,1.0,1.0,1.0,1.0,2.0,1.0,2.0,1.0,1.0,1.0,1.0,1.0,1.0,1.0,3.0,1.0,1.0,1.0,1.0,1.0,1.0,3.0,1.0,1.0,2.0,1.0,2.0,2.0,1.0,1.0,2.0,1.0,2.0,1.0,1.0,1.0,4.0,2.0,1.0,1.0,2.0,1.0,1.0,4.0,2.0,1.0,2.0,1.0,1.0,2.0,1.0,1.0,1.0,1.0,1.0,1.0,1.0,2.0,1.0,3.0,2.0,2.0,2.0,2.0,1.0,2.0,1.0,1.0,1.0,1.0,1.0,1.0,1.0,1.0,2.0,1.0,1.0,2.0,1.0,1.0,2.0,2.0,1.0,1.0,1.0,1.0,1.0,1.0,1.0,1.0,1.0,1.0,1.0,1.0,1.0,1.0,1.0,1.0,2.0,2.0,1.0,1.0,1.0,1.0,1.0,1.0,1.0,1.0,1.0,1.0,1.0,3.0,1.0,1.0,2.0,1.0,1.0,1.0,1.0,1.0,1.0,1.0,1.0,1.0,1.0,2.0,2.0,2.0,1.0,1.0,1.0,1.0,1.0,2.0,2.0,1.0,1.0,1.0,1.0,2.0,2.0,1.0,2.0,2.0,2.0,1.0,1.0,2.0,1.0,1.0,1.0,1.0,1.0,1.0,1.0,1.0,1.0,1.0,1.0,2.0,2.0,1.0,1.0,1.0,1.0,2.0,2.0,1.0,1.0,1.0,1.0,1.0,1.0,1.0,1.0,2.0,1.0,1.0,1.0,1.0,1.0,1.0,1.0,2.0,2.0,1.0,1.0,1.0,1.0,1.0,1.0,2.0,1.0,1.0,2.0,1.0,1.0,1.0,1.0,1.0,1.0,1.0,1.0,1.0,1.0,1.0,1.0,1.0,1.0,2.0,1.0,1.0,1.0,1.0,2.0,1.0,1.0,1.0,1.0,1.0,1.0,2.0,1.0,1.0,1.0,2.0,3.0,1.0,1.0,1.0,1.0,1.0,1.0,1.0,1.0,1.0,1.0,4.0,4.0,2.0,2.0,1.0,2.0,1.0,1.0,1.0,1.0,2.0,2.0,2.0,2.0,1.0,1.0,1.0,1.0,1.0,1.0,1.0,1.0,1.0,1.0,1.0,2.0,1.0,1.0,2.0,1.0,1.0,3.0,3.0,1.0,1.0,1.0,2.0,1.0,1.0,2.0,1.0,1.0,4.0,1.0,1.0,1.0,1.0,1.0,1.0,1.0,2.0,3.0,2.0,3.0,2.0,1.0,2.0,2.0,2.0,1.0,1.0,1.0,1.0,1.0,1.0,1.0,1.0,1.0,1.0,1.0,1.0,2.0,1.0,1.0,1.0,2.0,1.0,1.0,1.0,2.0,1.0,1.0,1.0,1.0,1.0,1.0,1.0,1.0,1.0,4.0,2.0,1.0,2.0,1.0,1.0,1.0,1.0,1.0,1.0,1.0,1.0,1.0,1.0,1.0,1.0,1.0,1.0,1.0,1.0,1.0,1.0,1.0,1.0,2.0,1.0,1.0,2.0,1.0,1.0,1.0,1.0,1.0,1.0,1.0,1.0,1.0,1.0,1.0,3.0,1.0,2.0,1.0,1.0,1.0,1.0,1.0,1.0,1.0,2.0,1.0,1.0,1.0,1.0,2.0,2.0,2.0,1.0,1.0,1.0,1.0,1.0,1.0,1.0,2.0,2.0,2.0,1.0,1.0,1.0,1.0,1.0,1.0,1.0,1.0,1.0,2.0,1.0,1.0,1.0,1.0,1.0,2.0,1.0,1.0,1.0,1.0,1.0,1.0,2.0,1.0,1.0,1.0,1.0,1.0,1.0,1.0,1.0,1.0,1.0,2.0,1.0,1.0,2.0,1.0,1.0,1.0,1.0,1.0,1.0,1.0,1.0,1.0,1.0,1.0,1.0,1.0,1.0,1.0,2.0,2.0,1.0,1.0,2.0,2.0,1.0,1.0,2.0,2.0,2.0,2.0,1.0,2.0,1.0,1.0,1.0,1.0,1.0,1.0,1.0,1.0,2.0,1.0,1.0,1.0,2.0,1.0,1.0,1.0,1.0,1.0,1.0,2.0,3.0,2.0,1.0,1.0,2.0,1.0,1.0,1.0,2.0,3.0,1.0,1.0,1.0,1.0,1.0,2.0,1.0,1.0,2.0,1.0,2.0,1.0,1.0,4.0,2.0,1.0,2.0,1.0,1.0,1.0,1.0,1.0,1.0,1.0,1.0,1.0,1.0,1.0,2.0,2.0,1.0,1.0,2.0,1.0,2.0,1.0,1.0,2.0,1.0,1.0,3.0,2.0,1.0,1.0,1.0,2.0,1.0,2.0,2.0,3.0,1.0,1.0,1.0,1.0,1.0,2.0,1.0,2.0,4.0,4.0,2.0,1.0,1.0,1.0,1.0,2.0,1.0,1.0,2.0,1.0,1.0,2.0,2.0,1.0,2.0,1.0,1.0,1.0,1.0,1.0,1.0,1.0,1.0,2.0,1.0,1.0,1.0,1.0,1.0,1.0,3.0,2.0,3.0,2.0,1.0,2.0,2.0,1.0,1.0,2.0,1.0,1.0,1.0,1.0,1.0,3.0,2.0,1.0,1.0,1.0,2.0,2.0,1.0,1.0,1.0,2.0,2.0,1.0,1.0,1.0,2.0,1.0,1.0,3.0,3.0,1.0,4.0,1.0,1.0,4.0,1.0,2.0,1.0,1.0,4.0,1.0,2.0,2.0,2.0,2.0,2.0,2.0,1.0,1.0,2.0,2.0,1.0,1.0,2.0,3.0,1.0,1.0,2.0,1.0,1.0,2.0,1.0,2.0,3.0,2.0,1.0,2.0,2.0,1.0,1.0,1.0,3.0,2.0,1.0,1.0,1.0,1.0,2.0,1.0,1.0,1.0,1.0,1.0,1.0,1.0,2.0,1.0,2.0,2.0,2.0,3.0,3.0,1.0,1.0,1.0,1.0,1.0,1.0,1.0,1.0,2.0,2.0,1.0,1.0,1.0,1.0,3.0,1.0,1.0,1.0,1.0,2.0,3.0,2.0,1.0,1.0,1.0,2.0,1.0,1.0,1.0,1.0,2.0,1.0,1.0,1.0,2.0,2.0,1.0,1.0,2.0,1.0,1.0,1.0,2.0,1.0,1.0,1.0,1.0,1.0,1.0,1.0,1.0,1.0,1.0,2.0,2.0,2.0,1.0,2.0,1.0,2.0,3.0,2.0,3.0,1.0,2.0,1.0,1.0,1.0,2.0,1.0,1.0,2.0,1.0,1.0,1.0,1.0,3.0,1.0,1.0,1.0,1.0,1.0,2.0,3.0,1.0,1.0,1.0,1.0,2.0,3.0,1.0,2.0,2.0,1.0,3.0,1.0,2.0,1.0,1.0,1.0,1.0,1.0,3.0,1.0,3.0,1.0,2.0,1.0,4.0,2.0,1.0,2.0,3.0,1.0,2.0,2.0,3.0,2.0,1.0,2.0,1.0,1.0,1.0,2.0,1.0,2.0,1.0,1.0,1.0,2.0,1.0,1.0,1.0,1.0,1.0,1.0,1.0,1.0,1.0,1.0,1.0,1.0,1.0,2.0,2.0,1.0,1.0,1.0,1.0,1.0,1.0,1.0,1.0,1.0,1.0,1.0,2.0,1.0,2.0,1.0,2.0,4.0,2.0,2.0,3.0,1.0,2.0,1.0,1.0,1.0,2.0,1.0,3.0,1.0,1.0,2.0,1.0,1.0,1.0,1.0,1.0,2.0,2.0,1.0,1.0,2.0,3.0,1.0,2.0,1.0,1.0,1.0,1.0,1.0,1.0,2.0,1.0,1.0,2.0,1.0,2.0,1.0,3.0,1.0,1.0,1.0,1.0,2.0,1.0,1.0,4.0,2.0,1.0,2.0,1.0,1.0,1.0,1.0,1.0,3.0,1.0,2.0,1.0,1.0,1.0,1.0,1.0,1.0,1.0,2.0,2.0,1.0,1.0,3.0,2.0,1.0,1.0,1.0,1.0,1.0,2.0,2.0,2.0,1.0,1.0,2.0,1.0,1.0,2.0,1.0,2.0,2.0,2.0,1.0,3.0,1.0,1.0,1.0,2.0,2.0,1.0,1.0,1.0,1.0,1.0,1.0,1.0,1.0,1.0,1.0,3.0,1.0,1.0,1.0,1.0,1.0,2.0,3.0,2.0,1.0,1.0,1.0,3.0,1.0,1.0,1.0,1.0,1.0,2.0,1.0,4.0,2.0,1.0,1.0,1.0,1.0,1.0,2.0,1.0,1.0,1.0,1.0,1.0,1.0,1.0,2.0,1.0,1.0,1.0,1.0,1.0,1.0,1.0,1.0,1.0,1.0,1.0,1.0,1.0,2.0,1.0,1.0,1.0,1.0,1.0,6.0,6.0,6.0,6.0,6.0,6.0,1.0,1.0,2.0,1.0,1.0,1.0,2.0,2.0,2.0,1.0,1.0,1.0,2.0,1.0,2.0,1.0,1.0,1.0,1.0,1.0,2.0,2.0,1.0,1.0,1.0,1.0,6.0,1.0,1.0,1.0,1.0,2.0,1.0,2.0,2.0,1.0,1.0,1.0,1.0,1.0,1.0,2.0,2.0,1.0,1.0,1.0,2.0,1.0,1.0,3.0,2.0,1.0,2.0,1.0,1.0,1.0,1.0,2.0,1.0,1.0,2.0,1.0,1.0,1.0,1.0,1.0,2.0,1.0,1.0,2.0,1.0,1.0,1.0,1.0,1.0,2.0,1.0,6.0,6.0,2.0,2.0,1.0,1.0,3.0,4.0,2.0,2.0,1.0,1.0,2.0,1.0,2.0,1.0,1.0,2.0,1.0,1.0,2.0,2.0,1.0,1.0,1.0,1.0,1.0,1.0,2.0,1.0,1.0,1.0,2.0,1.0,1.0,1.0,1.0,1.0,1.0,1.0,2.0,2.0,1.0,1.0,2.0,1.0,2.0,1.0,1.0,1.0,1.0,1.0,1.0,1.0,1.0,1.0,1.0,1.0,1.0,1.0,4.0,1.0,1.0,1.0,1.0,3.0,1.0,1.0,2.0,1.0,1.0,2.0,2.0,2.0,2.0,1.0,2.0,3.0,1.0,2.0,1.0,1.0,1.0,1.0,1.0,1.0,1.0,1.0,2.0,1.0,1.0,1.0,1.0,1.0,2.0,1.0,1.0,3.0,1.0,1.0,1.0,1.0,1.0,1.0,4.0,1.0,1.0,1.0,1.0,1.0,1.0,1.0,3.0,1.0,1.0,1.0,6.0,6.0,6.0,6.0,6.0,6.0,6.0,6.0,6.0,6.0,6.0,6.0,6.0,6.0,6.0,6.0,5.0,6.0,1.0,1.0,3.0,2.0,2.0,6.0,6.0,6.0,6.0,6.0,6.0,6.0,6.0,6.0,6.0,6.0,6.0,6.0,6.0,6.0,6.0,6.0,6.0,6.0,6.0,6.0,6.0,3.0,2.0,1.0,1.0,1.0,6.0,6.0,6.0,6.0,6.0,6.0,6.0,6.0,6.0,6.0,6.0,6.0,6.0,6.0,6.0,6.0,6.0,6.0,6.0,6.0,6.0,6.0,6.0,6.0,6.0,6.0,6.0,6.0,6.0,6.0,6.0,6.0,6.0,6.0,6.0,6.0,6.0,6.0,6.0,6.0,6.0,6.0,6.0,6.0,6.0,6.0,6.0,6.0,6.0,6.0,6.0,6.0,6.0,6.0,6.0,6.0,6.0,6.0,6.0,6.0,6.0,6.0,6.0,6.0,6.0,6.0,6.0,6.0,6.0,6.0,6.0,6.0,6.0,6.0,6.0,6.0,6.0,6.0,1.0,1.0,6.0,6.0,6.0,6.0,6.0,6.0,6.0,6.0,6.0,6.0,6.0,6.0,6.0,6.0,6.0,6.0,6.0,6.0,6.0,6.0,6.0,6.0,6.0,6.0,6.0,6.0,6.0,6.0,6.0,6.0,6.0,6.0,6.0,6.0,6.0,6.0,6.0,6.0,6.0,6.0,6.0,6.0,6.0,6.0,6.0,6.0,6.0,5.0,6.0,6.0,6.0,6.0,6.0,1.0,6.0,6.0,6.0,6.0,6.0,6.0,6.0,6.0,6.0,6.0,6.0,6.0,6.0,6.0,6.0,6.0,6.0,6.0,6.0,6.0,6.0,6.0,6.0,6.0,6.0,6.0,6.0,6.0,6.0,6.0,6.0,6.0,6.0,6.0,6.0,6.0,6.0,6.0,6.0,6.0,6.0,6.0,6.0,6.0,6.0,6.0,6.0,6.0,6.0,6.0,6.0,6.0,1.0,1.0,6.0,6.0,6.0,6.0,6.0,6.0,6.0,6.0,6.0,6.0,6.0,6.0,6.0,6.0,6.0,6.0,6.0,6.0,6.0,6.0,6.0,6.0,6.0,6.0,6.0,6.0,6.0,6.0,6.0,6.0,6.0,6.0,6.0,6.0,6.0,6.0,6.0,6.0,6.0,6.0,6.0,6.0,6.0,6.0,6.0,6.0,6.0,6.0,6.0,6.0,6.0,6.0,1.0,1.0,1.0,1.0,6.0,6.0,6.0,6.0,6.0,6.0,6.0,6.0,6.0,6.0,6.0,6.0,6.0,6.0,6.0,6.0,6.0,6.0,1.0,1.0,1.0,1.0,1.0,1.0,2.0,1.0,1.0,1.0,2.0,1.0,2.0,2.0,1.0,1.0,3.0,2.0,1.0,2.0,1.0,1.0,1.0,1.0,1.0,2.0,1.0,1.0,1.0,1.0,2.0,1.0,1.0,1.0,1.0,1.0,6.0,6.0,6.0,6.0,6.0,6.0,6.0,6.0,6.0,6.0,1.0,1.0,1.0,1.0,1.0,1.0,1.0,1.0,1.0,1.0,1.0,1.0,1.0,1.0,1.0,1.0,1.0,5.0,6.0,6.0,6.0,6.0,6.0,6.0,6.0,6.0,6.0,6.0,6.0,6.0,6.0,6.0,6.0,6.0,6.0,6.0,6.0,6.0,1.0,1.0,1.0,1.0,1.0,1.0,1.0,1.0,1.0,2.0,2.0,5.0,5.0,5.0,5.0,5.0,5.0,5.0,5.0,1.0,1.0,1.0,1.0,1.0,1.0,1.0,1.0,5.0,5.0,5.0,5.0,5.0,6.0,6.0,6.0,6.0,1.0,2.0,1.0,1.0,1.0,1.0,1.0,2.0,2.0,2.0,1.0,5.0,5.0,5.0,5.0,5.0,5.0,5.0,5.0,5.0,5.0,1.0,1.0,1.0,1.0,1.0,1.0,1.0,1.0,1.0,1.0,1.0,3.0,1.0,1.0,1.0,1.0,6.0,6.0,6.0,6.0,6.0,6.0,6.0,6.0,6.0,6.0,6.0],\"y\":[17.5,8.0,8.5,4.5,8.5,27.5,11.5,7.5,7.5,5.0,6.0,7.0,7.0,5.5,7.0,19.0,6.0,6.5,9.0,4.5,52.0,6.5,3.5,4.5,8.5,5.5,32.0,8.5,8.5,9.0,4.0,7.0,16.0,7.5,11.5,8.0,5.5,5.0,7.0,19.5,52.0,10.0,7.0,5.0,24.5,9.5,12.5,4.0,7.0,5.5,17.5,7.0,33.5,5.5,7.0,23.0,11.5,6.5,6.5,11.5,13.0,9.0,10.5,18.5,11.0,5.5,6.5,7.0,4.5,7.5,13.0,8.0,6.5,52.0,8.5,12.0,10.0,4.0,20.0,7.0,16.0,4.5,10.0,17.5,4.5,4.5,5.5,5.0,8.0,15.0,6.0,13.0,23.5,7.0,4.5,4.0,6.5,8.0,6.5,7.5,10.5,7.0,11.5,5.5,8.5,6.0,21.0,5.5,19.0,3.5,5.5,31.0,12.0,11.0,17.0,7.0,5.0,8.5,12.0,5.0,11.5,7.0,11.5,15.0,4.0,12.5,15.5,28.5,6.5,31.5,13.5,6.0,8.0,5.5,6.5,7.5,5.5,9.0,20.5,12.0,8.0,7.5,16.0,9.5,15.0,7.0,3.5,8.0,7.0,12.5,13.5,14.0,4.5,7.5,5.0,6.0,9.0,8.5,4.0,22.0,5.0,9.5,7.0,4.5,8.5,7.5,5.0,4.0,5.5,10.5,7.0,8.0,4.0,8.5,14.5,5.0,3.0,29.5,11.5,10.0,6.0,7.0,10.0,16.0,9.5,6.5,7.5,11.5,5.0,11.0,9.0,11.0,11.0,4.5,6.5,16.5,2.5,5.5,6.5,15.0,9.0,10.5,10.0,52.0,11.0,11.5,6.0,8.5,9.0,7.0,4.5,13.0,5.0,5.5,5.5,7.0,17.0,8.5,71.0,5.0,6.5,9.5,8.5,11.5,13.5,6.5,34.0,4.0,8.5,8.0,9.5,9.0,5.0,8.0,7.5,52.0,22.0,8.5,7.0,15.5,10.0,8.5,9.0,17.0,5.5,20.5,8.5,10.0,10.0,4.0,7.5,3.0,20.5,8.5,6.5,14.5,8.0,11.0,7.5,11.0,12.0,7.5,13.0,6.5,9.0,5.0,10.5,11.5,6.5,7.0,6.5,12.0,62.0,5.0,11.5,16.0,6.5,12.0,11.0,7.5,5.0,8.5,10.5,6.0,6.0,9.5,13.0,3.5,11.5,12.5,13.0,6.0,17.0,9.0,52.0,14.5,6.5,6.0,5.0,29.5,3.5,19.5,5.5,5.0,13.5,11.0,5.0,8.5,8.5,11.0,10.0,6.5,6.5,16.5,8.0,10.0,13.5,20.0,15.5,4.5,10.5,8.5,8.0,3.0,8.5,14.5,8.5,4.5,9.0,5.5,7.5,8.0,6.5,4.0,9.5,9.0,15.5,19.5,18.0,6.0,14.0,6.0,9.5,4.0,5.0,4.0,5.5,3.5,6.5,52.0,20.5,17.0,8.0,7.5,8.0,13.0,7.0,10.0,23.5,4.5,8.5,14.0,4.5,8.5,13.5,9.5,4.0,11.0,5.5,6.5,6.5,5.5,7.0,12.5,25.5,9.0,6.0,5.5,7.0,7.0,6.5,8.5,11.5,4.5,13.0,13.5,5.5,8.5,7.5,7.5,12.0,6.5,11.0,2.5,9.0,5.0,11.0,7.0,5.0,18.0,5.0,6.0,10.5,5.5,10.0,17.0,8.0,4.5,9.5,11.0,31.5,6.5,8.0,7.0,7.5,11.0,11.0,27.0,8.0,12.5,7.0,11.5,7.0,7.0,11.5,3.5,18.5,6.0,8.0,5.0,7.5,8.0,12.5,13.5,10.0,6.5,9.0,6.0,6.0,4.0,8.0,7.5,9.0,5.0,7.0,7.0,7.0,4.0,4.0,5.5,22.0,8.5,11.5,7.0,10.0,5.5,10.5,8.0,13.0,9.0,9.0,15.5,6.5,7.0,4.0,6.0,6.0,9.0,9.0,9.5,6.5,12.5,11.5,8.0,5.5,8.5,9.5,5.0,5.0,8.0,7.0,7.0,9.5,7.0,8.5,7.5,17.5,12.0,4.0,8.0,8.0,10.5,7.5,16.0,8.5,8.5,23.0,5.5,10.0,8.0,9.0,4.0,8.0,7.0,8.5,9.0,19.5,9.0,9.5,9.0,52.0,7.0,7.5,11.5,8.5,6.0,4.5,8.0,8.0,24.0,7.5,6.0,9.0,6.0,7.5,7.0,18.0,32.5,3.5,8.5,6.5,7.0,3.5,7.0,7.0,10.5,4.5,19.5,7.5,9.5,12.5,7.5,6.0,6.0,11.0,6.5,4.5,6.5,6.5,8.5,9.5,10.0,8.0,9.5,12.5,10.5,12.5,10.5,13.0,13.5,15.5,5.5,7.5,7.0,9.5,3.0,8.5,17.5,8.0,5.5,12.0,12.5,4.0,9.5,7.0,13.0,5.0,10.0,4.0,5.0,12.0,10.0,9.5,4.5,7.0,4.0,10.5,9.5,4.0,14.0,7.5,4.0,11.5,4.5,24.0,29.5,9.5,17.5,13.5,10.5,6.0,8.0,13.0,6.0,7.5,5.0,3.5,10.0,6.0,6.5,11.5,35.0,5.5,11.5,12.0,8.0,17.5,5.0,6.5,6.5,5.0,13.0,11.0,32.5,12.0,11.0,7.5,8.0,11.5,6.0,11.0,15.0,13.0,9.5,25.0,9.5,7.0,4.5,6.5,10.0,7.0,7.0,26.5,7.5,10.0,7.0,10.0,11.5,4.0,8.0,12.0,4.0,5.5,9.5,15.5,7.0,15.5,3.5,2.5,9.0,5.0,6.0,5.5,30.5,3.0,16.0,7.0,5.5,39.5,35.0,5.5,3.5,8.5,12.0,8.0,7.0,7.5,7.5,14.5,7.0,20.5,21.5,6.0,6.5,6.5,8.0,13.5,5.5,39.0,6.0,17.0,12.5,24.5,11.0,10.0,7.0,15.5,9.5,22.0,17.0,8.0,22.0,7.0,8.0,15.5,12.0,3.0,9.0,14.5,16.5,6.5,13.5,7.5,25.5,13.0,14.0,15.5,5.5,5.0,14.5,9.0,5.0,6.5,4.5,8.5,14.0,40.0,5.0,10.5,6.0,8.0,34.0,11.0,6.5,6.0,9.0,7.0,10.5,15.0,8.0,4.5,11.0,6.0,10.5,12.0,17.0,5.0,5.0,11.5,24.5,52.0,4.5,4.0,6.0,14.0,5.0,8.0,12.0,5.0,14.0,7.0,14.0,7.0,9.5,9.5,12.0,20.0,6.0,12.5,7.5,4.5,25.5,4.5,14.0,10.0,12.5,7.5,9.0,6.5,8.5,4.0,8.5,4.0,7.0,37.5,20.0,15.5,5.0,8.5,7.5,15.5,13.5,6.5,8.5,3.5,8.5,7.5,6.5,5.5,18.0,7.0,16.0,28.0,9.5,15.0,6.5,31.5,5.0,30.5,5.5,11.0,14.5,10.5,7.0,34.0,10.0,9.0,11.5,5.0,2.5,5.0,8.5,4.5,11.0,6.0,23.5,11.5,2.5,9.5,11.5,24.5,25.0,14.0,11.5,9.0,10.5,15.5,26.5,15.0,6.0,11.5,9.5,25.0,9.5,6.0,6.5,6.5,4.0,6.5,13.5,10.5,9.0,9.0,4.0,4.5,8.5,13.5,5.0,19.0,15.5,9.0,4.5,17.5,7.0,34.5,10.0,21.0,11.0,10.0,19.5,15.5,7.5,5.0,7.5,5.5,13.5,8.5,15.0,5.5,5.0,11.0,6.5,4.0,4.0,8.5,8.0,6.0,8.5,17.0,9.5,26.5,4.0,5.0,6.5,7.0,8.5,28.5,5.0,7.0,7.0,4.5,10.5,13.5,8.0,4.5,15.0,7.5,11.0,5.5,6.5,19.5,5.0,6.5,4.5,8.0,14.0,9.0,24.0,6.5,13.0,5.0,12.0,4.5,8.0,32.5,21.5,6.5,5.0,2.5,16.5,9.5,8.5,8.5,10.5,7.0,13.0,15.0,6.5,13.0,5.5,13.0,8.0,24.5,12.0,7.5,8.0,7.5,11.0,11.0,9.5,7.0,4.0,6.5,14.5,10.0,8.5,7.0,6.5,5.5,14.0,3.5,11.0,8.0,7.0,12.0,5.0,6.5,8.5,14.0,6.0,10.0,14.0,11.0,12.0,4.5,6.0,16.0,19.0,16.0,8.0,6.0,7.0,22.5,3.5,7.5,7.0,5.5,11.5,4.0,8.5,14.5,11.5,5.5,11.5,6.0,11.0,9.5,19.5,9.5,8.5,8.0,6.5,9.5,10.5,6.5,22.0,14.5,13.0,10.0,11.0,7.5,10.0,32.0,11.0,14.0,10.5,22.5,10.5,23.0,5.0,20.5,6.5,5.5,13.5,11.5,4.5,12.0,8.5,5.5,7.5,12.5,17.5,3.5,5.5,11.0,6.0,5.0,17.5,8.5,19.5,5.0,6.0,4.0,9.5,7.0,23.0,8.5,8.5,9.5,9.5,5.0,8.5,7.5,9.0,4.5,21.5,6.0,6.5,13.0,6.0,20.5,9.0,12.0,10.0,7.5,4.5,18.0,8.0,6.0,7.5,9.0,15.5,5.5,10.5,7.5,8.5,7.0,14.5,8.5,6.5,11.0,14.5,10.5,5.0,5.5,7.0,12.5,6.5,5.5,4.0,22.0,4.5,8.0,11.5,8.5,4.0,10.5,26.5,31.5,6.5,3.5,7.0,10.0,4.5,10.0,7.5,9.5,15.0,8.5,11.5,10.0,21.0,11.5,10.0,3.5,17.0,13.0,6.0,31.0,18.0,6.0,9.0,5.0,5.0,8.0,6.0,13.5,7.0,9.0,8.0,6.0,7.5,7.0,3.5,8.5,5.0,7.0,10.0,5.5,7.0,5.0,7.5,9.0,6.0,13.5,13.0,5.0,5.5,5.0,9.5,4.0,5.5,8.5,6.0,8.0,23.5,13.0,27.0,9.5,13.0,7.5,10.0,5.5,6.5,19.5,8.0,22.0,9.0,6.0,13.0,3.0,9.5,4.0,6.0,7.5,19.5,6.0,9.5,19.5,5.0,13.0,12.0,9.5,9.0,6.5,4.0,13.0,12.0,9.0,6.0,19.5,20.5,6.0,14.5,10.5,7.5,4.5,6.5,9.5,27.5,9.0,5.5,5.5,6.5,2.5,21.0,11.5,18.0,11.5,17.5,3.5,13.5,8.0,31.0,10.0,5.0,12.5,7.5,29.5,13.5,5.5,7.5,8.5,8.5,18.0,17.5,15.0,8.0,12.0,6.5,12.5,4.0,9.5,15.5,9.0,7.5,6.5,3.5,5.5,7.5,10.5,15.0,23.5,5.0,11.5,5.5,8.5,5.5,14.0,7.5,10.5,8.0,10.5,12.0,13.0,7.5,5.0,7.5,6.5,8.5,8.5,10.5,5.5,9.5,7.5,4.5,11.5,7.0,7.0,12.0,10.0,7.5,13.0,9.0,17.5,5.0,4.0,7.0,7.0,6.0,6.0,5.5,16.5,5.5,17.5,3.0,6.5,8.0,13.5,7.0,6.5,9.5,6.0,8.0,6.5,12.0,8.0,7.0,7.5,5.0,4.0,9.0,52.5,4.0,49.0,13.0,5.0,8.5,6.5,8.5,9.0,10.0,5.5,13.5,4.5,7.5,14.5,7.5,4.5,5.0,13.5,13.0,16.0,11.5,7.0,19.5,52.0,4.5,7.5,6.5,3.5,5.5,12.0,8.0,6.0,23.0,12.0,10.5,17.5,12.5,52.0,38.0,6.5,7.5,14.5,6.5,8.5,8.0,17.5,10.5,3.5,68.0,5.0,16.0,8.5,8.0,15.0,8.5,5.5,11.0,20.0,8.5,12.5,8.0,6.0,6.5,4.0,17.5,6.5,8.0,12.5,10.5,30.0,10.0,4.0,19.0,4.5,52.0,7.5,19.0,5.5,6.0,8.5,11.5,13.0,21.0,3.5,8.0,8.5,12.5,6.5,7.5,11.0,53.0,5.5,11.0,5.0,7.0,9.5,31.0,11.0,15.5,4.5,12.0,7.0,4.0,9.5,5.5,10.0,13.5,6.0,22.5,5.5,13.0,20.5,6.0,7.0,15.0,8.5,27.5,7.0,12.0,10.5,6.0,8.0,15.5,22.0,10.5,7.0,7.0,6.5,6.5,11.5,16.0,13.5,6.0,12.0,7.0,8.0,17.5,31.0,8.5,8.0,7.5,4.0,10.0,7.0,6.5,6.5,8.5,6.0,9.5,11.5,3.5,14.0,5.0,10.5,14.0,11.5,5.5,3.5,52.0,7.5,9.5,11.5,17.5,8.0,14.0,6.0,16.5,4.0,10.5,5.5,4.0,18.5,10.0,5.0,7.0,10.5,13.0,21.5,8.5,10.0,7.5,23.0,16.0,7.0,9.0,19.0,8.5,6.0,7.5,6.5,8.0,5.5,13.0,6.0,8.0,8.0,15.5,10.0,24.0,5.5,10.0,4.0,9.5,9.5,6.0,6.0,5.0,32.0,8.5,17.5,5.0,7.5,7.0,9.0,10.5,21.0,8.5,10.0,5.5,10.0,5.0,6.0,25.0,41.5,28.5,20.0,7.5,6.0,13.5,14.0,13.5,8.5,3.5,10.0,15.0,5.0,14.0,5.0,7.0,12.5,12.0,18.5,12.5,10.5,23.0,5.0,12.5,5.5,9.5,19.0,20.0,16.5,4.0,16.0,3.5,15.5,5.0,12.5,14.5,10.5,5.5,12.5,11.0,10.0,7.0,9.0,4.5,9.5,13.5,6.0,6.0,5.0,19.0,24.0,5.0,10.0,8.5,7.5,17.5,14.0,8.5,19.0,20.0,4.5,7.0,6.0,7.5,4.5,25.0,10.5,10.5,25.0,11.5,4.0,12.0,23.5,6.5,3.5,11.5,11.5,31.5,10.5,6.0,4.5,9.0,19.5,10.5,7.0,36.5,12.5,6.5,7.0,6.0,9.0,13.0,10.0,5.5,8.0,13.5,29.0,11.5,29.5,5.0,22.0,13.0,37.5,7.5,8.5,11.5,26.5,18.5,19.0,6.5,9.0,7.5,7.0,26.5,8.5,6.0,9.0,20.0,4.0,21.0,7.0,10.0,15.0,14.0,13.5,16.0,13.0,14.5,13.0,8.5,6.0,28.0,13.5,8.0,11.5,8.5,8.0,5.0,6.5,8.0,6.0,8.0,12.0,6.5,6.5,13.5,14.0,8.0,10.0,11.0,11.5,4.5,8.0,6.0,8.5,17.0,13.5,11.5,4.0,17.0,13.0,11.5,16.0,16.5,19.5,15.0,4.0,15.0,12.5,7.5,18.0,8.0,5.0,8.0,8.5,9.5,12.5,2.5,9.0,27.0,9.0,3.0,9.0,17.0,6.5,8.0,51.5,50.5,12.0,12.0,11.0,9.5,3.0,8.0,4.5,5.5,30.0,7.5,15.0,4.0,4.5,5.0,5.5,18.0,7.0,10.5,7.5,22.5,6.0,3.5,8.0,9.0,14.0,12.0,12.0,4.5,6.0,9.0,6.0,22.0,38.0,20.5,5.5,13.5,5.0,12.5,5.5,7.5,5.0,4.5,28.0,17.0,7.5,9.0,10.0,10.0,9.5,8.0,10.5,8.5,7.0,22.0,7.5,11.5,6.0,9.5,5.0,6.0,18.5,5.0,5.5,7.5,5.5,17.0,11.5,11.5,10.0,5.5,11.5,12.0,4.5,23.0,10.5,5.5,6.5,6.5,10.0,8.5,13.5,6.5,7.0,7.0,5.0,6.0,4.0,11.0,30.5,11.5,6.5,9.5,17.0,22.0,6.5,10.0,4.5,7.0,13.0,5.5,7.0,9.0,8.5,22.0,7.0,13.5,7.0,9.5,19.5,6.5,6.0,10.5,6.5,6.0,23.5,22.0,17.5,18.0,12.0,10.5,14.0,7.0,7.0,8.0,4.5,10.5,10.0,13.5,18.0,10.5,7.5,5.0,9.0,3.5,7.5,10.0,13.0,5.0,6.0,8.5,6.5,52.0,13.5,15.5,10.5,15.5,7.5,4.5,7.5,12.0,9.0,13.0,15.5,20.0,4.5,5.5,13.5,31.5,6.0,4.5,19.5,4.5,16.5,5.0,19.5,5.5,40.0,18.0,10.5,6.5,7.0,18.0,8.5,17.0,11.0,9.5,13.0,7.5,3.0,22.0,4.0,9.5,7.5,10.5,9.5,5.0,24.5,4.0,15.0,6.5,4.0,16.0,16.0,3.5,11.0,12.5,13.0,9.0,4.0,4.0,8.5,5.5,6.5,8.0,8.5,8.5,72.5,4.0,10.5,14.0,12.5,14.5,8.5,12.0,10.5,8.0,11.5,3.0,36.5,7.5,17.5,6.5,5.5,18.0,7.5,4.5,5.0,4.0,6.5,7.5,30.5,7.0,13.0,32.5,15.0,19.0,19.0,7.5,11.5,52.0,52.0,10.0,5.5,13.0,11.5,8.0,9.0,5.0,3.0,11.0,5.0,8.0,10.5,16.5,14.5,6.5,7.5,8.5,5.0,11.5,10.5,6.5,7.0,7.5,6.5,19.5,6.0,6.0,6.5,6.5,16.0,4.0,20.5,5.0,18.0,11.5,10.5,11.5,6.0,4.5,21.5,11.0,11.0,4.5,29.0,6.5],\"mode\":\"markers\"}];\n",
       "            var layout = {\"title\":\"Plot Fare depending on Passengers\",\"showlegend\":false,\"xaxis\":{\"title\":\"Passengers\",\"_isSubplotObj\":true},\"yaxis\":{\"title\":\"Fares\",\"_isSubplotObj\":true}};\n",
       "            Plotly.newPlot('8b37a16f-a498-49d6-8b63-1bcd4bb1daf8', data, layout);\n",
       "        \r\n",
       "});\r\n",
       "};\r\n",
       "if ((typeof(require) !==  typeof(Function)) || (typeof(require.config) !== typeof(Function))) {\r\n",
       "    var script = document.createElement(\"script\"); \r\n",
       "    script.setAttribute(\"src\", \"https://cdnjs.cloudflare.com/ajax/libs/require.js/2.3.6/require.min.js\");\r\n",
       "    script.onload = function(){\r\n",
       "        renderPlotly();\r\n",
       "    };\r\n",
       "    document.getElementsByTagName(\"head\")[0].appendChild(script); \r\n",
       "}\r\n",
       "else {\r\n",
       "    renderPlotly();\r\n",
       "}\r\n",
       "</script>\r\n"
      ]
     },
     "metadata": {},
     "output_type": "display_data"
    }
   ],
   "source": [
    "// Plot Fare depending on Passengers\n",
    "\n",
    "int numberOfRows = 2000;\n",
    "float[] fares = trainDataView.GetColumn<float>(\"FareAmount\").Take(numberOfRows).ToArray();\n",
    "float[] passengerCounts = trainDataView.GetColumn<float>(\"PassengerCount\").Take(numberOfRows).ToArray();\n",
    "\n",
    "float[] distances = trainDataView.GetColumn<float>(\"TripDistance\").Take(numberOfRows).ToArray();\n",
    "float[] times = trainDataView.GetColumn<float>(\"TripTime\").Take(numberOfRows).ToArray();\n",
    "\n",
    "var chartFareVsPassengers = Chart.Plot(\n",
    "    new Graph.Scatter()\n",
    "    {\n",
    "        x = passengerCounts,\n",
    "        y = fares,\n",
    "        mode = \"markers\",\n",
    "    }\n",
    ");\n",
    "\n",
    "var layout = new Layout.Layout(){title=\"Plot Fare depending on Passengers\"};\n",
    "chartFareVsPassengers.WithLayout(layout);\n",
    "chartFareVsPassengers.Width = 500;\n",
    "chartFareVsPassengers.Height = 500;\n",
    "chartFareVsPassengers.WithXTitle(\"Passengers\");\n",
    "chartFareVsPassengers.WithYTitle(\"Fares\");\n",
    "chartFareVsPassengers.WithLegend(false);\n",
    "\n",
    "display(chartFareVsPassengers);"
   ]
  },
  {
   "cell_type": "markdown",
   "metadata": {},
   "source": [
    "### Implementation of PeekTransformedData() function"
   ]
  },
  {
   "cell_type": "code",
   "execution_count": 11,
   "metadata": {},
   "outputs": [
    {
     "name": "stderr",
     "output_type": "stream",
     "text": [
      "\r\n",
      "warning CS1702: Suponiendo que la referencia del ensamblado 'System.Collections.Immutable, Version=1.2.3.0, Culture=neutral, PublicKeyToken=b03f5f7f11d50a3a' usada por 'Microsoft.ML.Data' coincide con la identidad 'System.Collections.Immutable, Version=1.2.5.0, Culture=neutral, PublicKeyToken=b03f5f7f11d50a3a' de 'System.Collections.Immutable', puede que necesite proporcionar la directiva en tiempo de ejecución\r\n",
      "\r\n"
     ]
    }
   ],
   "source": [
    "// Util method to show transformed data in IDataView\n",
    "public static void PeekTransformedData(MLContext mlContext, IDataView dataView, IEstimator<ITransformer> pipeline, int numberOfRows = 4)\n",
    "{\n",
    "    string msg = string.Format(\"Peek data in DataView: Showing {0} rows with the columns\", numberOfRows.ToString());\n",
    "    display(msg);\n",
    "    \n",
    "    var transformer = pipeline.Fit(dataView);\n",
    "    var transformedData = transformer.Transform(dataView);\n",
    "    \n",
    "    // 'transformedData' is a 'promise' of data, lazy-loading. call Preview  \n",
    "    //and iterate through the returned collection from preview.\n",
    "    var preViewTransformedData = transformedData.Preview(maxRows: numberOfRows);\n",
    "    \n",
    "    //display(preViewTransformedData.RowView);\n",
    "                \n",
    "    foreach (var row in preViewTransformedData.RowView)\n",
    "    {\n",
    "        var ColumnCollection = row.Values;\n",
    "        string lineToPrint = \"Row--> \";\n",
    "        foreach (KeyValuePair<string, object> column in ColumnCollection)\n",
    "        {\n",
    "            lineToPrint += $\"| {column.Key}:{column.Value}\";\n",
    "        }\n",
    "        display(lineToPrint + \"\\n\");\n",
    "    }   \n",
    "}\n"
   ]
  },
  {
   "cell_type": "markdown",
   "metadata": {},
   "source": [
    "# Data transformations pipeline for ML.NET model"
   ]
  },
  {
   "cell_type": "code",
   "execution_count": 13,
   "metadata": {},
   "outputs": [
    {
     "data": {
      "text/html": [
       "<h1>Apply Data Transformations pipeline</h1>"
      ]
     },
     "metadata": {},
     "output_type": "display_data"
    },
    {
     "data": {
      "text/html": [
       "<h3>Show transformed data...</h3>"
      ]
     },
     "metadata": {},
     "output_type": "display_data"
    },
    {
     "data": {
      "text/plain": [
       "Peek data in DataView: Showing 5 rows with the columns"
      ]
     },
     "metadata": {},
     "output_type": "display_data"
    },
    {
     "data": {
      "text/plain": [
       "Row--> | VendorId:CMT| RateCode:1| PassengerCount:1| PassengerCount:0.42661828| TripTime:1271| TripTime:1.514717| TripDistance:3.8| TripDistance:0.87563246| PaymentType:CRD| FareAmount:17.5| VendorIdEncoded:1| VendorIdEncoded:Sparse vector of size 2, 1 explicit values| RateCodeEncoded:1| RateCodeEncoded:Sparse vector of size 6, 1 explicit values| PaymentTypeEncoded:1| PaymentTypeEncoded:Sparse vector of size 5, 1 explicit values| Features:Sparse vector of size 16, 6 explicit values\n"
      ]
     },
     "metadata": {},
     "output_type": "display_data"
    },
    {
     "data": {
      "text/plain": [
       "Row--> | VendorId:CMT| RateCode:1| PassengerCount:1| PassengerCount:0.42661828| TripTime:474| TripTime:0.5648905| TripDistance:1.5| TripDistance:0.3456444| PaymentType:CRD| FareAmount:8| VendorIdEncoded:1| VendorIdEncoded:Sparse vector of size 2, 1 explicit values| RateCodeEncoded:1| RateCodeEncoded:Sparse vector of size 6, 1 explicit values| PaymentTypeEncoded:1| PaymentTypeEncoded:Sparse vector of size 5, 1 explicit values| Features:Sparse vector of size 16, 6 explicit values\n"
      ]
     },
     "metadata": {},
     "output_type": "display_data"
    },
    {
     "data": {
      "text/plain": [
       "Row--> | VendorId:CMT| RateCode:1| PassengerCount:1| PassengerCount:0.42661828| TripTime:637| TripTime:0.7591461| TripDistance:1.4| TripDistance:0.32260144| PaymentType:CRD| FareAmount:8.5| VendorIdEncoded:1| VendorIdEncoded:Sparse vector of size 2, 1 explicit values| RateCodeEncoded:1| RateCodeEncoded:Sparse vector of size 6, 1 explicit values| PaymentTypeEncoded:1| PaymentTypeEncoded:Sparse vector of size 5, 1 explicit values| Features:Sparse vector of size 16, 6 explicit values\n"
      ]
     },
     "metadata": {},
     "output_type": "display_data"
    },
    {
     "data": {
      "text/plain": [
       "Row--> | VendorId:CMT| RateCode:1| PassengerCount:1| PassengerCount:0.42661828| TripTime:181| TripTime:0.21570714| TripDistance:0.6| TripDistance:0.13825777| PaymentType:CSH| FareAmount:4.5| VendorIdEncoded:1| VendorIdEncoded:Sparse vector of size 2, 1 explicit values| RateCodeEncoded:1| RateCodeEncoded:Sparse vector of size 6, 1 explicit values| PaymentTypeEncoded:2| PaymentTypeEncoded:Sparse vector of size 5, 1 explicit values| Features:Sparse vector of size 16, 6 explicit values\n"
      ]
     },
     "metadata": {},
     "output_type": "display_data"
    },
    {
     "data": {
      "text/plain": [
       "Row--> | VendorId:CMT| RateCode:1| PassengerCount:1| PassengerCount:0.42661828| TripTime:661| TripTime:0.78774816| TripDistance:1.1| TripDistance:0.25347257| PaymentType:CRD| FareAmount:8.5| VendorIdEncoded:1| VendorIdEncoded:Sparse vector of size 2, 1 explicit values| RateCodeEncoded:1| RateCodeEncoded:Sparse vector of size 6, 1 explicit values| PaymentTypeEncoded:1| PaymentTypeEncoded:Sparse vector of size 5, 1 explicit values| Features:Sparse vector of size 16, 6 explicit values\n"
      ]
     },
     "metadata": {},
     "output_type": "display_data"
    },
    {
     "name": "stderr",
     "output_type": "stream",
     "text": [
      "\r\n",
      "(4,27): warning CS1701: Suponiendo que la referencia del ensamblado 'Microsoft.AspNetCore.Html.Abstractions, Version=2.2.0.0, Culture=neutral, PublicKeyToken=adb9793829ddae60' usada por 'Microsoft.DotNet.Interactive.Formatting' coincide con la identidad 'Microsoft.AspNetCore.Html.Abstractions, Version=3.1.6.0, Culture=neutral, PublicKeyToken=adb9793829ddae60' de 'Microsoft.AspNetCore.Html.Abstractions', puede que necesite proporcionar la directiva en tiempo de ejecución\r\n",
      "\r\n"
     ]
    }
   ],
   "source": [
    "display(h1(\"Apply Data Transformations pipeline\"));\n",
    "\n",
    "// STEP 2: Common data process configuration with pipeline data transformations\n",
    "var dataProcessPipeline = mlContext.Transforms.Categorical.OneHotEncoding(outputColumnName: \"VendorIdEncoded\", inputColumnName: nameof(TaxiTrip.VendorId))\n",
    "                  .Append(mlContext.Transforms.Categorical.OneHotEncoding(outputColumnName: \"RateCodeEncoded\", inputColumnName: nameof(TaxiTrip.RateCode)))\n",
    "                  .Append(mlContext.Transforms.Categorical.OneHotEncoding(outputColumnName: \"PaymentTypeEncoded\",inputColumnName: nameof(TaxiTrip.PaymentType)))\n",
    "                  .Append(mlContext.Transforms.NormalizeMeanVariance(outputColumnName: nameof(TaxiTrip.PassengerCount)))\n",
    "                  .Append(mlContext.Transforms.NormalizeMeanVariance(outputColumnName: nameof(TaxiTrip.TripTime)))\n",
    "                  .Append(mlContext.Transforms.NormalizeMeanVariance(outputColumnName: nameof(TaxiTrip.TripDistance)))\n",
    "                  .Append(mlContext.Transforms.Concatenate(\"Features\", \"VendorIdEncoded\", \"RateCodeEncoded\", \"PaymentTypeEncoded\", \n",
    "                                                           nameof(TaxiTrip.PassengerCount), nameof(TaxiTrip.TripTime), nameof(TaxiTrip.TripDistance)));\n",
    "\n",
    "display(h3(\"Show transformed data...\"));\n",
    "\n",
    "PeekTransformedData(mlContext, trainDataView, dataProcessPipeline, 5);\n"
   ]
  },
  {
   "cell_type": "markdown",
   "metadata": {},
   "source": [
    "# Append the trainer/algorithm to pipeline and train the model"
   ]
  },
  {
   "cell_type": "code",
   "execution_count": 14,
   "metadata": {},
   "outputs": [
    {
     "name": "stderr",
     "output_type": "stream",
     "text": [
      "\r\n",
      "(1,1): error CS1525: El término de expresión '%' no es válido\r\n",
      "\r\n",
      "(1,2): error CS1525: El término de expresión '%' no es válido\r\n",
      "\r\n",
      "(1,7): error CS1002: Se esperaba ;\r\n",
      "\r\n"
     ]
    },
    {
     "ename": "Cell not executed",
     "evalue": "compilation error",
     "output_type": "error",
     "traceback": []
    }
   ],
   "source": [
    "%%time\n",
    "display(h1(\"Build Training Pipeline and Train the model\"));\n",
    "display(h4(\"Creating the Training Pipeline with trainer/algorithm\"));\n",
    "\n",
    "// STEP 3: Set the training algorithm - Selected Trainer (SDCA Regression algorithm)                            \n",
    "var trainer = mlContext.Regression.Trainers.Sdca(labelColumnName: \"FareAmount\", featureColumnName: \"Features\");\n",
    "var trainingPipeline = dataProcessPipeline.Append(trainer);\n",
    "\n",
    "// STEP 4: Train the model fitting to the DataSet\n",
    "//The pipeline is trained on the dataset that has been loaded and transformed.\n",
    "display(\"=============== Training the model ===============\");\n",
    "var trainedModel = trainingPipeline.Fit(trainDataView);\n"
   ]
  },
  {
   "cell_type": "markdown",
   "metadata": {},
   "source": [
    "## Make predictions in bulk from the TestDataset to be used for the metrics"
   ]
  },
  {
   "cell_type": "code",
   "execution_count": 30,
   "metadata": {},
   "outputs": [
    {
     "data": {
      "text/html": [
       "<h3>===== Making predictions in bulk for the whole Test Dataset =====</h3>"
      ]
     },
     "metadata": {},
     "output_type": "display_data"
    }
   ],
   "source": [
    "// Make predictions to plot agaist actual values\n",
    "display(h3(\"===== Making predictions in bulk for the whole Test Dataset =====\"));\n",
    "// Make predictions in bulk (Transformed IDataView will have the predictions plus the actual/true values)\n",
    "IDataView predictionsDataView = trainedModel.Transform(testDataView);\n"
   ]
  },
  {
   "cell_type": "markdown",
   "metadata": {},
   "source": [
    "## Display the metrics (Model quality evaluation)"
   ]
  },
  {
   "cell_type": "code",
   "execution_count": 31,
   "metadata": {},
   "outputs": [
    {
     "data": {
      "text/html": [
       "<h3>===== Evaluating Model&#39;s accuracy with Test dataset =====</h3>"
      ]
     },
     "metadata": {},
     "output_type": "display_data"
    },
    {
     "data": {
      "text/html": [
       "<table><thead><tr><th>MeanAbsoluteError</th><th>MeanSquaredError</th><th>RootMeanSquaredError</th><th>LossFunction</th><th>RSquared</th></tr></thead><tbody><tr><td>0.7697523625564575</td><td>35.35930367724503</td><td>5.946368948967515</td><td>35.35930408053133</td><td>0.6980621928339114</td></tr></tbody></table>"
      ]
     },
     "metadata": {},
     "output_type": "display_data"
    }
   ],
   "source": [
    "display(h3(\"===== Evaluating Model's accuracy with Test dataset =====\"));\n",
    "\n",
    "var metrics = mlContext.Regression.Evaluate(predictionsDataView, labelColumnName: \"FareAmount\", scoreColumnName: \"Score\");\n",
    "display(metrics);"
   ]
  },
  {
   "cell_type": "markdown",
   "metadata": {},
   "source": [
    "## Bar chart showing 'Actual fares vs. Predicted fares Comparison' "
   ]
  },
  {
   "cell_type": "code",
   "execution_count": 15,
   "metadata": {},
   "outputs": [
    {
     "name": "stderr",
     "output_type": "stream",
     "text": [
      "\r\n",
      "(4,23): error CS0103: El nombre 'predictionsDataView' no existe en el contexto actual\r\n",
      "\r\n",
      "(5,27): error CS0103: El nombre 'predictionsDataView' no existe en el contexto actual\r\n",
      "\r\n"
     ]
    },
    {
     "ename": "Cell not executed",
     "evalue": "compilation error",
     "output_type": "error",
     "traceback": []
    }
   ],
   "source": [
    "// Number of rows to use for Bar chart\n",
    "int totalNumberForBarChart  = 20;\n",
    "\n",
    "float[] actualFares = predictionsDataView.GetColumn<float>(\"FareAmount\").Take(totalNumberForBarChart).ToArray();\n",
    "float[] predictionFares = predictionsDataView.GetColumn<float>(\"Score\").Take(totalNumberForBarChart).ToArray();\n",
    "int[] elements = Enumerable.Range(0, totalNumberForBarChart).ToArray();\n",
    "\n",
    "// Define group for Actual values \n",
    "var ActualValuesGroupBarGraph = new Graph.Bar()\n",
    "{\n",
    "    x = elements,\n",
    "    y = actualFares,\n",
    "    name = \"Actual\"\n",
    "};\n",
    "\n",
    "// Define group for Prediction values \n",
    "var PredictionValuesGroupBarGraph = new Graph.Bar()\n",
    "{\n",
    "    x = elements,\n",
    "    y = predictionFares,\n",
    "    name = \"Predicted\"\n",
    "};\n",
    "\n",
    "var chart = Chart.Plot(new[] {ActualValuesGroupBarGraph, PredictionValuesGroupBarGraph});\n",
    "\n",
    "var layout = new Layout.Layout(){barmode = \"group\", title=\"Actual fares vs. Predicted fares Comparison\"};\n",
    "chart.WithLayout(layout);\n",
    "chart.WithXTitle(\"Cases\");\n",
    "chart.WithYTitle(\"Fare\");\n",
    "chart.WithLegend(true);\n",
    "chart.Width = 700;\n",
    "chart.Height = 400;\n",
    "\n",
    "display(chart);"
   ]
  },
  {
   "cell_type": "markdown",
   "metadata": {},
   "source": [
    "### Implementation of CalculateRegressionLine() function"
   ]
  },
  {
   "cell_type": "code",
   "execution_count": 40,
   "metadata": {},
   "outputs": [],
   "source": [
    "// Function to calculate the regression line \n",
    "// (This function could be substituted by a pre-built Math function from a NuGet such as Math.NET)\n",
    "\n",
    "public static (double[], double[]) CalculateRegressionLine(float[] actualFares, float[] predictionFares, int totalNumber)\n",
    "{   \n",
    "    // Regression Line calculation explanation:\n",
    "    // https://www.khanacademy.org/math/statistics-probability/describing-relationships-quantitative-data/more-on-regression/v/regression-line-example\n",
    "    // Generic function for Y for the regression line\n",
    "    // y = (m * x) + b;\n",
    "    // Similar code: https://gist.github.com/tansey/1375526 \n",
    "\n",
    "    double yTotal = 0;\n",
    "    double xTotal = 0;\n",
    "    double xyMultiTotal = 0;\n",
    "    double xSquareTotal = 0;\n",
    "\n",
    "    for (int i = 0; i < (actualFares.Length); i++)\n",
    "    {\n",
    "        var x = actualFares[i];\n",
    "        var y = predictionFares[i];\n",
    "\n",
    "        xTotal += x;\n",
    "        yTotal += y;\n",
    "\n",
    "        double multi = x * y;\n",
    "        xyMultiTotal += multi;\n",
    "\n",
    "        double xSquare = x * x;\n",
    "        xSquareTotal += xSquare;\n",
    "\n",
    "        double ySquare = y * y;\n",
    "\n",
    "        //display($\"-------------------------------------------------\");\n",
    "        //display($\"Predicted : {y}\");\n",
    "        //display($\"Actual:    {x}\");\n",
    "        //display($\"-------------------------------------------------\");\n",
    "    }\n",
    "\n",
    "    double minY = yTotal / totalNumber;\n",
    "    double minX = xTotal / totalNumber;\n",
    "    double minXY = xyMultiTotal / totalNumber;\n",
    "    double minXsquare = xSquareTotal / totalNumber;\n",
    "\n",
    "    double m = ((minX * minY) - minXY) / ((minX * minX) - minXsquare);\n",
    "\n",
    "    double b = minY - (m * minX);\n",
    "\n",
    "    //Generic function for Y for the regression line\n",
    "    // y = (m * x) + b;\n",
    "\n",
    "    // Start x on 0\n",
    "    double x1 = 0;\n",
    "    //Function for Y1 in the line\n",
    "    double y1 = (m * x1) + b;\n",
    "\n",
    "    // Get the max val of X or Y for our X in the line so the line is long enough for outliers\n",
    "    var maxValueForX = Math.Max(actualFares.Max(), predictionFares.Max());\n",
    "\n",
    "    double x2 = maxValueForX;\n",
    "    //Function for Y2 in the line\n",
    "    double y2 = (m * x2) + b;\n",
    "\n",
    "    // Extract/create two simple arrays for the line coordinates\n",
    "    var xArray = new double[2];\n",
    "    var yArray = new double[2];\n",
    "    xArray[0] = x1;\n",
    "    yArray[0] = y1;\n",
    "    xArray[1] = x2;\n",
    "    yArray[1] = y2;\n",
    "            \n",
    "    return(xArray, yArray);\n",
    "}\n"
   ]
  },
  {
   "cell_type": "markdown",
   "metadata": {},
   "source": [
    "# Plotting Regression line and Predictions vs. Actual values"
   ]
  },
  {
   "cell_type": "code",
   "execution_count": 41,
   "metadata": {},
   "outputs": [
    {
     "data": {
      "text/html": [
       "<div id=\"40c89147-75e0-4029-a949-9f11abb7f148\" style=\"width: 700px; height: 600px;\"></div><script type=\"text/javascript\">\r\n",
       "\r\n",
       "var renderPlotly = function() {\r\n",
       "    var xplotRequire = requirejs.config({context:'xplot-2.0.0',paths:{plotly:'https://cdn.plot.ly/plotly-1.49.2.min'}});\r\n",
       "    xplotRequire(['plotly'], function(Plotly) {\r\n",
       "\n",
       "            var data = [{\"type\":\"scatter\",\"x\":[15.5,10.0,26.5,14.5,9.5,29.5,9.0,7.5,10.5,6.0,10.0,9.0,10.5,10.0,19.0,8.5,12.5,5.0,8.5,13.0,6.5,11.5,10.0,7.0,12.5,3.0,8.0,16.0,13.0,6.0,10.0,7.0,7.0,12.5,7.0,11.5,7.0,14.0,4.5,8.5,7.5,15.5,11.5,6.0,14.5,5.5,5.5,4.5,16.0,3.5,4.5,12.0,11.0,8.0,9.0,7.5,12.5,10.0,8.0,8.5,5.5,11.5,5.0,4.5,8.5,7.5,11.0,22.5,8.5,15.0,4.0,8.5,7.0,6.5,11.5,4.0,10.0,10.0,5.5,8.0,13.0,5.5,7.0,9.5,4.5,4.0,6.0,5.5,7.0,10.5,10.0,9.5,7.5,9.5,5.5,57.0,9.5,12.0,5.0,9.5,18.0,8.0,5.5,11.5,24.0,19.5,9.5,6.5,6.5,6.0,11.5,7.0,13.5,6.5,5.0,8.5,20.0,8.0,13.5,6.5,25.5,6.5,5.5,4.5,12.5,8.0,15.0,19.0,6.0,9.0,5.5,14.5,10.5,5.5,9.5,3.5,7.5,7.5,8.0,4.5,5.0,12.0,7.0,51.5,3.5,9.5,9.0,5.0,9.5,12.5,11.5,8.0,9.0,9.0,10.0,19.5,9.0,7.0,6.0,8.0,10.0,10.0,13.0,5.5,12.5,7.5,5.0,15.0,31.0,18.0,6.0,4.5,32.0,6.5,19.0,14.0,23.5,5.0,13.0,7.0,4.5,11.0,23.0,5.5,5.0,4.5,6.0,6.0,11.0,34.5,6.0,8.0,16.0,9.0,6.0,4.0,9.0,8.5,7.5,4.0,5.0,5.0,5.5,7.0,5.5,8.5,7.0,7.5,8.0,7.5,8.5,7.5,9.5,5.5,7.0,15.5,5.5,8.0,13.0,5.5,12.5,9.5,7.0,5.5,6.5,5.5,19.5,7.5,33.5,19.0,25.0,7.5,9.0,3.5,7.5,11.5,11.5,12.0,17.5,7.5,11.5,8.0,20.5,11.5,9.5,8.5,15.0,3.5,6.0,4.5,6.5,9.0,12.0,5.5,4.0,6.5,7.5,7.5,14.5,9.0,4.5,5.0,7.5,5.0,7.5,5.5,6.0,16.0,8.0,8.5,6.0,15.0,40.0,8.0,15.5,8.0,3.5,13.0,43.0,13.5,11.5,8.0,9.5,9.5,4.5,4.0,6.5,8.5,13.0,6.5,7.0,10.0,6.0,4.5,15.5,4.5,5.5,9.5,11.0,6.0,9.5,3.5,8.5,10.5,52.0,10.0,6.5,9.0,4.5,4.5,9.0,8.0,11.5,3.0,17.0,8.5,11.0,10.5,6.0,7.5,15.5,9.0,8.5,13.0,10.0,7.0,8.5,14.0,4.5,21.5,5.5,8.5,11.5,7.5,5.5,11.0,5.5,18.5,5.5,4.5,8.0,5.5,21.0,6.5,21.0,5.0,13.5,4.5,4.5,8.5,15.0,6.0,20.0,4.5,7.0,9.5,11.0,7.0,12.0,5.5,7.5,9.0,7.0,15.5,8.5,6.0,8.5,7.5,5.0,5.5,5.5,17.0,10.0,6.0,5.0,7.0,11.0,13.0,13.0,7.5,18.5,9.0,9.0,11.0,4.5,6.5,7.0,7.5,11.0,11.5,4.0,7.0,9.5,8.0,4.5,6.5,54.5,10.5,21.5,26.0,6.0,6.0,10.0,23.5,17.5,16.0,11.0,9.5,4.5,6.5,12.0,21.0,25.0,14.5,7.5,5.5,5.0,9.0,8.5,12.5,28.0,14.5,4.5,8.5,10.5,12.5,20.5,8.5,14.5,6.5,8.0,6.5,3.5,22.0,10.0,4.5,20.0,5.5,19.0,29.0,34.5,6.0,8.0,29.5,5.5,4.5,12.0,4.0,5.5,5.0,9.0,21.5,16.0,13.5,13.5,10.0,4.5,7.0,19.5,3.5,8.5,16.0,13.0,17.5,7.5,11.0,13.5,4.5,5.0,5.5,8.0,11.5,34.0,33.5,13.5,11.0,6.0,18.5,7.5,8.0,14.5,20.5,8.0,6.5,8.0,7.5,29.5,9.5,14.0,19.0,8.0,7.0,17.0,11.5,10.5,8.5,19.0,15.0,2.5,15.5],\"y\":[15.765076,10.134153,26.09541,14.367575,9.837617,28.295185,9.429501,7.919282,10.642834,6.5637417,10.046381,8.512704,10.699949,10.233989,19.238651,8.675717,12.966253,5.2838516,8.675717,12.431025,6.684763,11.432198,10.27936,6.9026194,12.303622,3.6624022,8.101208,16.509796,13.072151,6.1949663,10.409853,7.3689594,6.899968,12.25519,7.4139805,11.707519,7.2899284,13.135677,4.5822306,8.188572,7.6167126,15.265807,11.889444,6.264555,13.741222,6.188555,5.810688,4.803117,15.31765,3.9710321,4.7849617,11.822508,11.362959,8.3792095,9.026717,7.64431,12.533572,9.943514,7.5777225,7.656024,5.70479,11.365641,4.9301996,4.839426,8.667004,7.8984756,11.698458,21.475029,8.158672,14.636456,4.243352,8.639408,6.9998045,6.878433,11.141723,4.2702208,9.631854,9.377687,5.8224316,8.285406,12.603189,5.5474586,6.7910404,9.577768,5.047841,4.1068287,6.0648537,6.221834,6.860278,10.424976,9.873926,9.263078,8.089086,9.499088,5.39616,59.037308,9.292976,12.572912,5.1419945,8.893922,18.013226,8.361405,5.39616,11.081198,22.751598,18.633484,9.413998,6.754731,6.9419594,6.454814,11.653055,6.8273497,13.005943,6.216151,5.293293,8.158672,19.359673,8.313003,13.078182,7.0815153,23.256927,6.427947,5.374975,4.8545504,12.752225,8.1133,15.108505,19.299177,6.3734827,9.332316,6.061473,13.740873,11.1266,5.5262737,9.338377,3.8802586,7.671177,7.8409805,7.7804556,4.5852604,5.0542517,11.731735,6.948371,47.21496,3.9891863,9.698441,9.132615,5.414315,9.801308,11.965064,11.822508,7.6473103,9.0872135,9.202203,10.630741,18.37635,9.801308,7.646961,5.320511,8.092115,9.940863,9.886019,13.350533,6.058442,12.9121685,8.055806,5.4687786,14.709103,28.54026,17.656164,6.185525,4.4763327,31.408672,6.754731,18.782133,14.206834,22.963392,5.150708,13.105808,7.132948,4.733528,10.772947,22.652052,5.547079,4.9150753,5.011532,6.2131214,6.0372562,11.105413,32.500633,6.1613083,7.52629,15.792702,9.69541,6.000946,4.5606956,8.700282,8.803179,8.143549,4.3609943,5.2475424,5.5262737,5.069376,7.108382,5.8073072,8.821333,6.9544325,8.076612,7.8046713,7.2025356,8.642818,7.4718256,9.910236,5.6590385,7.0512667,15.568405,5.417345,8.442737,13.051344,5.4355,12.252159,10.1072855,6.8091955,5.598892,6.8572483,5.4079037,19.444416,7.2600307,30.316038,17.67738,23.602186,7.235465,8.84214,3.8163538,7.362898,11.55625,11.507817,12.152674,17.783247,7.6348677,11.359929,7.8016405,18.900185,11.716612,8.742274,7.9740953,15.017733,4.0705194,5.8194,4.6302834,6.3458853,9.571358,11.985931,5.3927794,4.575819,6.657546,7.517227,7.729022,14.4670315,9.601606,3.8197336,4.9997883,7.623125,5.3322544,7.707836,5.568266,6.0466986,16.503386,8.227911,8.951068,6.32773,14.754475,39.06077,8.100828,15.504879,7.359866,3.9165678,13.674286,40.86082,13.323286,11.738146,8.539921,9.507801,9.807369,5.156769,4.324685,6.5580597,8.309592,13.281294,6.3428545,7.0179586,9.85312,6.079976,4.512642,14.696951,4.494488,5.752843,9.631854,11.072484,6.003978,9.997977,3.4838867,8.699933,10.509688,53.43126,10.243431,6.397319,8.969223,4.9207582,4.3428392,9.132615,7.5414133,12.034304,2.902937,16.255602,8.745684,10.884527,10.545998,5.868182,7.7653313,15.816509,8.799768,8.660593,12.291848,10.536557,7.1662264,8.703313,13.677667,4.712343,21.196327,5.4869337,8.415869,11.280899,7.831539,5.8042765,10.930279,5.831873,18.255268,5.2475424,4.6665926,8.085705,5.272108,19.55072,6.2131214,19.983023,5.117429,13.4567795,4.4400234,4.9207582,9.0418415,14.624741,6.309576,19.020824,4.3761177,7.108382,8.785025,11.2691555,7.032733,12.028272,5.562583,7.1356,9.187078,6.94499,15.468539,8.875797,6.182493,8.6034775,7.771393,5.417345,5.7562237,5.5712957,16.51886,10.364451,6.2974834,5.153738,6.458194,11.393208,12.903077,12.87583,7.6382484,18.052595,8.929883,9.444275,10.672733,4.6397247,6.7698545,7.032733,7.5898466,11.356897,11.653055,4.448736,6.530813,8.926851,8.088735,4.636694,6.6938553,57.94803,10.727197,20.569975,24.564068,6.2581434,6.0466986,10.500626,23.417229,17.395935,16.106983,11.108793,9.263078,4.593973,6.3852262,11.9923115,20.104364,23.789825,14.893681,7.3659286,5.650326,5.047841,9.156801,8.185541,12.566851,25.967978,14.488565,4.663562,8.494518,10.460907,13.078213,19.199282,8.581912,14.975363,6.4642563,8.049395,6.660926,3.8802586,21.728844,10.131472,4.5852604,19.368795,5.523243,18.45197,26.975866,31.2544,5.937771,8.158323,27.042513,5.792533,5.156769,12.14361,4.240322,5.2388296,5.1631804,9.108398,21.441431,16.031334,13.4564295,13.317254,10.512371,4.9389124,6.8303804,18.803318,4.0523643,8.285406,15.571405,12.987789,17.050999,7.6745577,10.945053,13.1931715,4.4400234,5.193078,5.958956,8.751367,11.916313,32.17688,30.697636,13.88002,10.930279,5.7410994,18.34342,7.692713,8.043334,14.709103,20.927038,8.218819,6.678732,8.373149,7.7138977,28.872698,9.58042,14.221958,18.45197,8.034621,7.0966387,16.445892,11.166288,10.27936,8.355344,18.875587,15.202311,2.3613272,14.3039875],\"mode\":\"markers\",\"marker\":{\"color\":\"purple\"},\"name\":\"Prediction vs. Actual\"},{\"type\":\"scatter\",\"x\":[0.0,59.03730773925781],\"y\":[0.3734719232427963,57.15319258810252],\"mode\":\"lines\",\"name\":\"Regression Line\"},{\"type\":\"scatter\",\"x\":[0.0,59.037308],\"y\":[0.0,59.037308],\"mode\":\"lines\",\"line\":{\"color\":\"grey\"},\"name\":\"Perfect Regression Line\"}];\n",
       "            var layout = {\"showlegend\":true,\"xaxis\":{\"title\":\"Actual Values\",\"_isSubplotObj\":true},\"yaxis\":{\"title\":\"Predicted Values\",\"_isSubplotObj\":true}};\n",
       "            Plotly.newPlot('40c89147-75e0-4029-a949-9f11abb7f148', data, layout);\n",
       "        });\r\n",
       "};\r\n",
       "if ((typeof(requirejs) !==  typeof(Function)) || (typeof(requirejs.config) !== typeof(Function))) { \r\n",
       "    var script = document.createElement(\"script\"); \r\n",
       "    script.setAttribute(\"src\", \"https://cdnjs.cloudflare.com/ajax/libs/require.js/2.3.6/require.min.js\"); \r\n",
       "    script.onload = function(){\r\n",
       "        renderPlotly();\r\n",
       "    };\r\n",
       "    document.getElementsByTagName(\"head\")[0].appendChild(script); \r\n",
       "}\r\n",
       "else {\r\n",
       "    renderPlotly();\r\n",
       "}\r\n",
       "</script>"
      ]
     },
     "metadata": {},
     "output_type": "display_data"
    }
   ],
   "source": [
    "using XPlot.Plotly;\n",
    "\n",
    "// Number of rows to use for Plotting the Regression chart\n",
    "int totalNumber  = 500;\n",
    "\n",
    "float[] actualFares = predictionsDataView.GetColumn<float>(\"FareAmount\").Take(totalNumber).ToArray();\n",
    "float[] predictionFares = predictionsDataView.GetColumn<float>(\"Score\").Take(totalNumber).ToArray();\n",
    "\n",
    "// Display the Best Bit Regression Line \n",
    "\n",
    "// Define scatter plot grapgh (dots) \n",
    "var ActualVsPredictedGraph = new Graph.Scatter()\n",
    "{\n",
    "    x = actualFares,\n",
    "    y = predictionFares,\n",
    "    mode = \"markers\",\n",
    "    marker = new Graph.Marker() { color = \"purple\"} //\"rgb(142, 124, 195)\"             \n",
    "};\n",
    "\n",
    "// Calculate Regression line\n",
    "// Get a touple with the two X and two Y values determining the regression line\n",
    "(double[] xArray, double[] yArray) = CalculateRegressionLine(actualFares, predictionFares, totalNumber);\n",
    "\n",
    "//display(\"Display values defining the regression line\");\n",
    "//display(xArray);\n",
    "//display(yArray);\n",
    "\n",
    "// Define grapgh for the line \n",
    "var regressionLine = new Graph.Scatter()\n",
    "{\n",
    "    x = xArray,\n",
    "    y = yArray,\n",
    "    mode = \"lines\"\n",
    "};\n",
    "\n",
    "\n",
    "// 'Perfect' line, 45 degrees (Predicted values equal to actual values)\n",
    "var maximumValue = Math.Max(actualFares.Max(), predictionFares.Max());\n",
    "\n",
    "var perfectLine = new Graph.Scatter()\n",
    "{\n",
    "    x = new[] {0, maximumValue},\n",
    "    y = new[] {0, maximumValue},\n",
    "    mode = \"lines\",\n",
    "    line = new Graph.Line(){color = \"grey\"}\n",
    "};\n",
    "//////\n",
    "\n",
    "// XPlot Charp samples: https://fslab.org/XPlot/chart/plotly-line-scatter-plots.html \n",
    "//Display the chart's figures\n",
    "var chart = Chart.Plot(new[] {ActualVsPredictedGraph, regressionLine, perfectLine });\n",
    "chart.WithXTitle(\"Actual Values\");\n",
    "chart.WithYTitle(\"Predicted Values\");\n",
    "chart.WithLegend(true);\n",
    "chart.WithLabels(new[]{\"Prediction vs. Actual\", \"Regression Line\", \"Perfect Regression Line\"});\n",
    "chart.Width = 700;\n",
    "chart.Height = 600;\n",
    "\n",
    "display(chart);\n",
    "\n"
   ]
  },
  {
   "cell_type": "markdown",
   "metadata": {},
   "source": [
    "# Save the ML model as a file"
   ]
  },
  {
   "cell_type": "code",
   "execution_count": 42,
   "metadata": {},
   "outputs": [
    {
     "data": {
      "text/html": [
       "<h1>Saving the ML.NET Model as a file...</h1>"
      ]
     },
     "metadata": {},
     "output_type": "display_data"
    },
    {
     "data": {
      "text/html": [
       "<h3>The model was saved to: ./MLRegressionModel.zip</h3>"
      ]
     },
     "metadata": {},
     "output_type": "display_data"
    }
   ],
   "source": [
    "display(h1(\"Saving the ML.NET Model as a file...\"));\n",
    "\n",
    "string modelFilePath = \"./MLRegressionModel.zip\";\n",
    "\n",
    "// GetAbsolutePath(modelRelativePath)\n",
    "mlContext.Model.Save(trainedModel, trainDataView.Schema, modelFilePath);\n",
    "\n",
    "display(h3($\"The model was saved to: {modelFilePath}\"));\n"
   ]
  },
  {
   "cell_type": "code",
   "execution_count": null,
   "metadata": {},
   "outputs": [],
   "source": [
    "\n"
   ]
  }
 ],
 "metadata": {
  "kernelspec": {
   "display_name": ".NET (C#)",
   "language": "C#",
   "name": ".net-csharp"
  },
  "language_info": {
   "file_extension": ".cs",
   "mimetype": "text/x-csharp",
   "name": "C#",
   "pygments_lexer": "csharp",
   "version": "8.0"
  }
 },
 "nbformat": 4,
 "nbformat_minor": 2
}
